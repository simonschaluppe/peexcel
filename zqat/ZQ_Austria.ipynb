{
 "cells": [
  {
   "cell_type": "code",
   "execution_count": 1,
   "metadata": {
    "pycharm": {
     "name": "#%%\n"
    }
   },
   "outputs": [],
   "source": [
    "# which excels?\n",
    "\n",
    "# for each excel\n",
    "# get the variations block\n",
    "# copy it at the bottom of the Comparison tExcel\n",
    "import sys\n",
    "sys.path.append(\"../\")"
   ]
  },
  {
   "cell_type": "code",
   "execution_count": 2,
   "metadata": {
    "pycharm": {
     "name": "#%%\n"
    }
   },
   "outputs": [],
   "source": [
    "from pathlib import Path\n",
    "import xlwings\n",
    "from utils import excel\n",
    "\n",
    "excel_paths = [\n",
    "    r\"C:\\Users\\Simon Schneider\\Nextcloud\\EE\\1_Forschung\\2_Laufend\\ZQ Austria\\Quartiersdaten\\PlusenergieExcel_Aichinger_211105.xlsb\",\n",
    "    r\"C:\\Users\\Simon Schneider\\Nextcloud\\EE\\1_Forschung\\2_Laufend\\ZQ Austria\\Quartiersdaten\\PlusenergieExcel_AmBichl_211105.xlsb\",\n",
    "    r\"C:\\Users\\Simon Schneider\\Nextcloud\\EE\\1_Forschung\\2_Laufend\\ZQ Austria\\Quartiersdaten\\PlusenergieExcel_Glan_211105.xlsb\",\n",
    "    r\"C:\\Users\\Simon Schneider\\Nextcloud\\EE\\1_Forschung\\2_Laufend\\ZQ Austria\\Quartiersdaten\\PlusenergieExcel_Gneis_211105.xlsb\",\n",
    "    r\"C:\\Users\\Simon Schneider\\Nextcloud\\EE\\1_Forschung\\2_Laufend\\ZQ Austria\\Quartiersdaten\\PlusenergieExcel_Graz_211105.xlsb\",\n",
    "    r\"C:\\Users\\Simon Schneider\\Nextcloud\\EE\\1_Forschung\\2_Laufend\\ZQ Austria\\Quartiersdaten\\PlusenergieExcel_Pilzgasse_211105.xlsb\",\n",
    "]\n",
    "\n",
    "paths = [Path(ep) for ep in excel_paths]\n",
    "\n",
    "varianten_file = \"Quartiersvergleich211129cleaned.xlsx\"\n",
    "\n",
    "aggregation_excel_path = Path(r\"C:\\Users\\Simon Schneider\\Nextcloud\\EE\\6_Daten\\Quartiere\",varianten_file)\n",
    "aggregation_sheet = \"PEExcel Import\""
   ]
  },
  {
   "cell_type": "code",
   "execution_count": 3,
   "metadata": {
    "pycharm": {
     "name": "#%%\n"
    }
   },
   "outputs": [],
   "source": [
    "# for path in paths:\n",
    "#     excel.append_variations_to_aggregation_sheet(\n",
    "#         peexcel_path=path,\n",
    "#         agg_book_path=aggregation_excel_path,\n",
    "#         agg_sheet_name=aggregation_sheet,\n",
    "#         close_after=True\n",
    "#     )"
   ]
  },
  {
   "cell_type": "code",
   "execution_count": 4,
   "metadata": {
    "pycharm": {
     "name": "#%%\n"
    }
   },
   "outputs": [
    {
     "name": "stdout",
     "output_type": "stream",
     "text": [
      "C:\\Users\\Simon Schneider\\Nextcloud\\EE\\6_Daten\\Quartiere\\Quartiersvergleich211129cleaned.xlsx\n"
     ]
    }
   ],
   "source": [
    "import pandas as pd\n",
    "print(aggregation_excel_path)"
   ]
  },
  {
   "cell_type": "code",
   "execution_count": 5,
   "metadata": {
    "pycharm": {
     "name": "#%%\n"
    }
   },
   "outputs": [
    {
     "name": "stdout",
     "output_type": "stream",
     "text": [
      "<class 'pandas.core.frame.DataFrame'>\n",
      "RangeIndex: 239 entries, 0 to 238\n",
      "Columns: 401 entries, idx to ende result saving area\n",
      "dtypes: float64(358), object(43)\n",
      "memory usage: 748.9+ KB\n"
     ]
    }
   ],
   "source": [
    "aggbook = xlwings.Book(aggregation_excel_path)\n",
    "\n",
    "def varianten(\n",
    "        book:xlwings.Book,\n",
    "        aggregation_sheet:str,\n",
    "        rowstart=2,\n",
    "        rowstop=242,\n",
    "        colstop=401\n",
    ") -> pd.DataFrame:\n",
    "\n",
    "    vars = book.sheets[aggregation_sheet]\n",
    "    range = vars[rowstart:rowstop, :colstop]\n",
    "    df = range.options(pd.DataFrame, index=False).value\n",
    "    return df\n",
    "\n",
    "df = varianten(aggbook, aggregation_sheet)\n",
    "df.info()"
   ]
  },
  {
   "cell_type": "code",
   "execution_count": 6,
   "metadata": {
    "pycharm": {
     "name": "#%%\n"
    }
   },
   "outputs": [
    {
     "data": {
      "text/html": [
       "<div>\n",
       "<style scoped>\n",
       "    .dataframe tbody tr th:only-of-type {\n",
       "        vertical-align: middle;\n",
       "    }\n",
       "\n",
       "    .dataframe tbody tr th {\n",
       "        vertical-align: top;\n",
       "    }\n",
       "\n",
       "    .dataframe thead th {\n",
       "        text-align: right;\n",
       "    }\n",
       "</style>\n",
       "<table border=\"1\" class=\"dataframe\">\n",
       "  <thead>\n",
       "    <tr style=\"text-align: right;\">\n",
       "      <th></th>\n",
       "      <th>idx</th>\n",
       "      <th>Variantenname</th>\n",
       "      <th>longname</th>\n",
       "      <th>Simulation</th>\n",
       "      <th>Berechnungszeitpunkt</th>\n",
       "      <th>FILE</th>\n",
       "      <th>Projekt</th>\n",
       "      <th>Wohnbau NGF (m²)</th>\n",
       "      <th>Büro NGF (m²)</th>\n",
       "      <th>Schule NGF (m²)</th>\n",
       "      <th>...</th>\n",
       "      <th>Netzstrom</th>\n",
       "      <th>Abwärme</th>\n",
       "      <th>Summe</th>\n",
       "      <th>GFZ</th>\n",
       "      <th>PE-Saldo Zielwert [kWh/m²NGF]</th>\n",
       "      <th>PE-Saldo Ziel Real[kWh/m²BGF]</th>\n",
       "      <th>PE-Saldo Zielwert Großkraftwerke [kWh/m²NGF]</th>\n",
       "      <th>diese zellen sind mit ergbnisverweisen befüllbar</th>\n",
       "      <th>diese zellen sind mit ergbnisverweisen befüllbar</th>\n",
       "      <th>ende result saving area</th>\n",
       "    </tr>\n",
       "  </thead>\n",
       "  <tbody>\n",
       "    <tr>\n",
       "      <th>1</th>\n",
       "      <td>2.0</td>\n",
       "      <td>Alpha - Aktuell</td>\n",
       "      <td>Aichinger 2 Alpha - Aktuell</td>\n",
       "      <td>Doppelsimulation</td>\n",
       "      <td>2021-11-24 15:12:07</td>\n",
       "      <td>latest</td>\n",
       "      <td>Aichinger</td>\n",
       "      <td>123.8</td>\n",
       "      <td>0.0</td>\n",
       "      <td>0.0</td>\n",
       "      <td>...</td>\n",
       "      <td>13.777718</td>\n",
       "      <td>0.0</td>\n",
       "      <td>40.061759</td>\n",
       "      <td>0.234899</td>\n",
       "      <td>121.154503</td>\n",
       "      <td>85.708157</td>\n",
       "      <td>97.91429</td>\n",
       "      <td>0.684</td>\n",
       "      <td>0.830531</td>\n",
       "      <td>None</td>\n",
       "    </tr>\n",
       "  </tbody>\n",
       "</table>\n",
       "<p>1 rows × 401 columns</p>\n",
       "</div>"
      ],
      "text/plain": [
       "   idx    Variantenname                     longname        Simulation  \\\n",
       "1  2.0  Alpha - Aktuell  Aichinger 2 Alpha - Aktuell  Doppelsimulation   \n",
       "\n",
       "  Berechnungszeitpunkt    FILE    Projekt  Wohnbau NGF (m²)  Büro NGF (m²)  \\\n",
       "1  2021-11-24 15:12:07  latest  Aichinger             123.8            0.0   \n",
       "\n",
       "   Schule NGF (m²)  ...  Netzstrom  Abwärme      Summe       GFZ  \\\n",
       "1              0.0  ...  13.777718      0.0  40.061759  0.234899   \n",
       "\n",
       "   PE-Saldo Zielwert [kWh/m²NGF]  PE-Saldo Ziel Real[kWh/m²BGF]  \\\n",
       "1                     121.154503                      85.708157   \n",
       "\n",
       "   PE-Saldo Zielwert Großkraftwerke [kWh/m²NGF]  \\\n",
       "1                                      97.91429   \n",
       "\n",
       "  diese zellen sind mit ergbnisverweisen befüllbar  \\\n",
       "1                                            0.684   \n",
       "\n",
       "  diese zellen sind mit ergbnisverweisen befüllbar  ende result saving area  \n",
       "1                                         0.830531                     None  \n",
       "\n",
       "[1 rows x 401 columns]"
      ]
     },
     "execution_count": 6,
     "metadata": {},
     "output_type": "execute_result"
    }
   ],
   "source": [
    "# find a certain variation from the list\n",
    "\n",
    "df[\n",
    "    (df[\"Variantenname\"]==\"Alpha - Aktuell\") &\n",
    "    (df[\"Projekt\"]==\"Aichinger\")\n",
    "]"
   ]
  },
  {
   "cell_type": "code",
   "execution_count": 7,
   "metadata": {
    "pycharm": {
     "name": "#%%\n"
    }
   },
   "outputs": [],
   "source": [
    "import numpy as np\n",
    "from utils.targets import Zielwert, ZQSynergy\n",
    "\n",
    "GFZ = np.linspace(0.0, 8, 800) #min, max, steps\n",
    "PEQ_alfa = pd.DataFrame({\n",
    "    \"\":np.zeros(len(GFZ)),\n",
    "    \"Zielwert Alpha\": Zielwert.ZQSynergy().alpha(GFZ=GFZ),\n",
    "\n",
    "}, index=GFZ)\n"
   ]
  },
  {
   "cell_type": "code",
   "execution_count": 8,
   "metadata": {
    "pycharm": {
     "name": "#%%\n"
    }
   },
   "outputs": [
    {
     "data": {
      "text/plain": [
       "Text(0, 0.5, 'PE-Bilanz $[{kWh/m²_{NGF}a}]$')"
      ]
     },
     "execution_count": 8,
     "metadata": {},
     "output_type": "execute_result"
    },
    {
     "data": {
      "image/png": "[encoded data removed]",
      "text/plain": [
       "<Figure size 1000x600 with 1 Axes>"
      ]
     },
     "metadata": {},
     "output_type": "display_data"
    }
   ],
   "source": [
    "import matplotlib.pyplot as plt\n",
    "from utils.plotting import target_of_gfz\n",
    "\n",
    "fig, ax = plt.subplots(1,1, figsize=(10,6))\n",
    "target_of_gfz(ax=ax, df=PEQ_alfa)\n",
    "ax.set_ylabel(\"PE-Bilanz $[{kWh/m²_{NGF}a}]$\")\n",
    "\n"
   ]
  },
  {
   "cell_type": "code",
   "execution_count": 9,
   "metadata": {
    "pycharm": {
     "name": "#%%\n"
    }
   },
   "outputs": [],
   "source": [
    "df.dropna(subset=[\"Variantenname\"], inplace=True)\n",
    "df.drop(df[df.Simulation != \"Doppelsimulation\"].index, inplace=True)"
   ]
  },
  {
   "cell_type": "code",
   "execution_count": 10,
   "metadata": {
    "pycharm": {
     "name": "#%%\n"
    }
   },
   "outputs": [
    {
     "data": {
      "text/plain": [
       "idx                                                                      2Mob\n",
       "Variantenname                                                 Alpha - Aktuell\n",
       "longname                                            Glan 2Mob Alpha - Aktuell\n",
       "Simulation                                                   Doppelsimulation\n",
       "Berechnungszeitpunkt                                             44516.437882\n",
       "                                                              ...            \n",
       "PE-Saldo Ziel Real[kWh/m²BGF]                                        3.449166\n",
       "PE-Saldo Zielwert Großkraftwerke [kWh/m²NGF]                        -20.72717\n",
       "diese zellen sind mit ergbnisverweisen befüllbar                          NaN\n",
       "diese zellen sind mit ergbnisverweisen befüllbar                          NaN\n",
       "ende result saving area                                                  None\n",
       "Name: 189, Length: 401, dtype: object"
      ]
     },
     "execution_count": 10,
     "metadata": {},
     "output_type": "execute_result"
    }
   ],
   "source": [
    "df.iloc[130]"
   ]
  },
  {
   "cell_type": "code",
   "execution_count": 11,
   "metadata": {
    "pycharm": {
     "name": "#%%\n"
    }
   },
   "outputs": [
    {
     "data": {
      "text/html": [
       "<div>\n",
       "<style scoped>\n",
       "    .dataframe tbody tr th:only-of-type {\n",
       "        vertical-align: middle;\n",
       "    }\n",
       "\n",
       "    .dataframe tbody tr th {\n",
       "        vertical-align: top;\n",
       "    }\n",
       "\n",
       "    .dataframe thead th {\n",
       "        text-align: right;\n",
       "    }\n",
       "</style>\n",
       "<table border=\"1\" class=\"dataframe\">\n",
       "  <thead>\n",
       "    <tr style=\"text-align: right;\">\n",
       "      <th></th>\n",
       "      <th>idx</th>\n",
       "      <th>Variantenname</th>\n",
       "      <th>longname</th>\n",
       "      <th>Simulation</th>\n",
       "      <th>Berechnungszeitpunkt</th>\n",
       "      <th>FILE</th>\n",
       "      <th>Projekt</th>\n",
       "      <th>Wohnbau NGF (m²)</th>\n",
       "      <th>Büro NGF (m²)</th>\n",
       "      <th>Schule NGF (m²)</th>\n",
       "      <th>...</th>\n",
       "      <th>Netzstrom</th>\n",
       "      <th>Abwärme</th>\n",
       "      <th>Summe</th>\n",
       "      <th>GFZ</th>\n",
       "      <th>PE-Saldo Zielwert [kWh/m²NGF]</th>\n",
       "      <th>PE-Saldo Ziel Real[kWh/m²BGF]</th>\n",
       "      <th>PE-Saldo Zielwert Großkraftwerke [kWh/m²NGF]</th>\n",
       "      <th>diese zellen sind mit ergbnisverweisen befüllbar</th>\n",
       "      <th>diese zellen sind mit ergbnisverweisen befüllbar</th>\n",
       "      <th>ende result saving area</th>\n",
       "    </tr>\n",
       "  </thead>\n",
       "  <tbody>\n",
       "    <tr>\n",
       "      <th>0</th>\n",
       "      <td>1.0</td>\n",
       "      <td>Alpha - Bauträger Standard</td>\n",
       "      <td>Aichinger 1 Alpha - Bauträger Standard</td>\n",
       "      <td>Doppelsimulation</td>\n",
       "      <td>2021-11-24 15:11:57</td>\n",
       "      <td>latest</td>\n",
       "      <td>Aichinger</td>\n",
       "      <td>123.8</td>\n",
       "      <td>0.0</td>\n",
       "      <td>0.0</td>\n",
       "      <td>...</td>\n",
       "      <td>17.590146</td>\n",
       "      <td>0.0</td>\n",
       "      <td>44.992788</td>\n",
       "      <td>0.234899</td>\n",
       "      <td>121.154503</td>\n",
       "      <td>85.708157</td>\n",
       "      <td>97.91429</td>\n",
       "      <td>0.684</td>\n",
       "      <td>0.916857</td>\n",
       "      <td>None</td>\n",
       "    </tr>\n",
       "    <tr>\n",
       "      <th>1</th>\n",
       "      <td>2.0</td>\n",
       "      <td>Alpha - Aktuell</td>\n",
       "      <td>Aichinger 2 Alpha - Aktuell</td>\n",
       "      <td>Doppelsimulation</td>\n",
       "      <td>2021-11-24 15:12:07</td>\n",
       "      <td>latest</td>\n",
       "      <td>Aichinger</td>\n",
       "      <td>123.8</td>\n",
       "      <td>0.0</td>\n",
       "      <td>0.0</td>\n",
       "      <td>...</td>\n",
       "      <td>13.777718</td>\n",
       "      <td>0.0</td>\n",
       "      <td>40.061759</td>\n",
       "      <td>0.234899</td>\n",
       "      <td>121.154503</td>\n",
       "      <td>85.708157</td>\n",
       "      <td>97.91429</td>\n",
       "      <td>0.684</td>\n",
       "      <td>0.830531</td>\n",
       "      <td>None</td>\n",
       "    </tr>\n",
       "    <tr>\n",
       "      <th>2</th>\n",
       "      <td>3.0</td>\n",
       "      <td>Alpha - Netzdienlichkeit</td>\n",
       "      <td>Aichinger 3 Alpha - Netzdienlichkeit</td>\n",
       "      <td>Doppelsimulation</td>\n",
       "      <td>2021-11-24 15:12:18</td>\n",
       "      <td>latest</td>\n",
       "      <td>Aichinger</td>\n",
       "      <td>123.8</td>\n",
       "      <td>0.0</td>\n",
       "      <td>0.0</td>\n",
       "      <td>...</td>\n",
       "      <td>6.217158</td>\n",
       "      <td>0.0</td>\n",
       "      <td>39.943547</td>\n",
       "      <td>0.234899</td>\n",
       "      <td>121.154503</td>\n",
       "      <td>85.708157</td>\n",
       "      <td>97.91429</td>\n",
       "      <td>0.684</td>\n",
       "      <td>0.682343</td>\n",
       "      <td>None</td>\n",
       "    </tr>\n",
       "    <tr>\n",
       "      <th>3</th>\n",
       "      <td>4.0</td>\n",
       "      <td>Alpha - Min PEQ</td>\n",
       "      <td>Aichinger 4 Alpha - Min PEQ</td>\n",
       "      <td>Doppelsimulation</td>\n",
       "      <td>2021-11-24 15:12:31</td>\n",
       "      <td>latest</td>\n",
       "      <td>Aichinger</td>\n",
       "      <td>123.8</td>\n",
       "      <td>0.0</td>\n",
       "      <td>0.0</td>\n",
       "      <td>...</td>\n",
       "      <td>6.236848</td>\n",
       "      <td>0.0</td>\n",
       "      <td>39.941153</td>\n",
       "      <td>0.234899</td>\n",
       "      <td>121.154503</td>\n",
       "      <td>85.708157</td>\n",
       "      <td>97.91429</td>\n",
       "      <td>0.684</td>\n",
       "      <td>0.682509</td>\n",
       "      <td>None</td>\n",
       "    </tr>\n",
       "    <tr>\n",
       "      <th>4</th>\n",
       "      <td>5.0</td>\n",
       "      <td>Beta - Bauträger Standard</td>\n",
       "      <td>Aichinger 5 Beta - Bauträger Standard</td>\n",
       "      <td>Doppelsimulation</td>\n",
       "      <td>2021-11-24 15:12:45</td>\n",
       "      <td>latest</td>\n",
       "      <td>Aichinger</td>\n",
       "      <td>123.8</td>\n",
       "      <td>0.0</td>\n",
       "      <td>0.0</td>\n",
       "      <td>...</td>\n",
       "      <td>18.323453</td>\n",
       "      <td>0.0</td>\n",
       "      <td>49.026591</td>\n",
       "      <td>0.234899</td>\n",
       "      <td>121.154503</td>\n",
       "      <td>85.708157</td>\n",
       "      <td>97.91429</td>\n",
       "      <td>0.684</td>\n",
       "      <td>0.924452</td>\n",
       "      <td>None</td>\n",
       "    </tr>\n",
       "    <tr>\n",
       "      <th>...</th>\n",
       "      <td>...</td>\n",
       "      <td>...</td>\n",
       "      <td>...</td>\n",
       "      <td>...</td>\n",
       "      <td>...</td>\n",
       "      <td>...</td>\n",
       "      <td>...</td>\n",
       "      <td>...</td>\n",
       "      <td>...</td>\n",
       "      <td>...</td>\n",
       "      <td>...</td>\n",
       "      <td>...</td>\n",
       "      <td>...</td>\n",
       "      <td>...</td>\n",
       "      <td>...</td>\n",
       "      <td>...</td>\n",
       "      <td>...</td>\n",
       "      <td>...</td>\n",
       "      <td>...</td>\n",
       "      <td>...</td>\n",
       "      <td>...</td>\n",
       "    </tr>\n",
       "    <tr>\n",
       "      <th>198</th>\n",
       "      <td>9Mob</td>\n",
       "      <td>Omega - Bauträger Standard</td>\n",
       "      <td>Glan 9Mob Omega - Bauträger Standard</td>\n",
       "      <td>Doppelsimulation</td>\n",
       "      <td>44516.439213</td>\n",
       "      <td>latest</td>\n",
       "      <td>Glan</td>\n",
       "      <td>38994.0</td>\n",
       "      <td>0.0</td>\n",
       "      <td>0.0</td>\n",
       "      <td>...</td>\n",
       "      <td>36.239956</td>\n",
       "      <td>0.0</td>\n",
       "      <td>66.783866</td>\n",
       "      <td>1.046626</td>\n",
       "      <td>5.306409</td>\n",
       "      <td>3.449166</td>\n",
       "      <td>-20.72717</td>\n",
       "      <td>NaN</td>\n",
       "      <td>NaN</td>\n",
       "      <td>None</td>\n",
       "    </tr>\n",
       "    <tr>\n",
       "      <th>199</th>\n",
       "      <td>10Mob</td>\n",
       "      <td>Omega - Aktuell</td>\n",
       "      <td>Glan 10Mob Omega - Aktuell</td>\n",
       "      <td>Doppelsimulation</td>\n",
       "      <td>44516.439387</td>\n",
       "      <td>latest</td>\n",
       "      <td>Glan</td>\n",
       "      <td>38994.0</td>\n",
       "      <td>0.0</td>\n",
       "      <td>0.0</td>\n",
       "      <td>...</td>\n",
       "      <td>22.198328</td>\n",
       "      <td>0.0</td>\n",
       "      <td>65.459531</td>\n",
       "      <td>1.046626</td>\n",
       "      <td>5.306409</td>\n",
       "      <td>3.449166</td>\n",
       "      <td>-20.72717</td>\n",
       "      <td>NaN</td>\n",
       "      <td>NaN</td>\n",
       "      <td>None</td>\n",
       "    </tr>\n",
       "    <tr>\n",
       "      <th>200</th>\n",
       "      <td>11Mob</td>\n",
       "      <td>Omega - Netzdienlichkeit</td>\n",
       "      <td>Glan 11Mob Omega - Netzdienlichkeit</td>\n",
       "      <td>Doppelsimulation</td>\n",
       "      <td>44516.439525</td>\n",
       "      <td>latest</td>\n",
       "      <td>Glan</td>\n",
       "      <td>38994.0</td>\n",
       "      <td>0.0</td>\n",
       "      <td>0.0</td>\n",
       "      <td>...</td>\n",
       "      <td>11.254178</td>\n",
       "      <td>0.0</td>\n",
       "      <td>67.241300</td>\n",
       "      <td>1.046626</td>\n",
       "      <td>5.306409</td>\n",
       "      <td>3.449166</td>\n",
       "      <td>-20.72717</td>\n",
       "      <td>NaN</td>\n",
       "      <td>NaN</td>\n",
       "      <td>None</td>\n",
       "    </tr>\n",
       "    <tr>\n",
       "      <th>201</th>\n",
       "      <td>12Mob</td>\n",
       "      <td>Omega - Min PEQ</td>\n",
       "      <td>Glan 12Mob Omega - Min PEQ</td>\n",
       "      <td>Doppelsimulation</td>\n",
       "      <td>44516.439641</td>\n",
       "      <td>latest</td>\n",
       "      <td>Glan</td>\n",
       "      <td>38994.0</td>\n",
       "      <td>0.0</td>\n",
       "      <td>0.0</td>\n",
       "      <td>...</td>\n",
       "      <td>10.296640</td>\n",
       "      <td>0.0</td>\n",
       "      <td>63.527862</td>\n",
       "      <td>1.046626</td>\n",
       "      <td>5.306409</td>\n",
       "      <td>3.449166</td>\n",
       "      <td>-20.72717</td>\n",
       "      <td>NaN</td>\n",
       "      <td>NaN</td>\n",
       "      <td>None</td>\n",
       "    </tr>\n",
       "    <tr>\n",
       "      <th>202</th>\n",
       "      <td>12,5Mob</td>\n",
       "      <td>Omega - Min PEQ - 75% Nutzerstrom</td>\n",
       "      <td>Glan 12,5Mob Omega - Min PEQ - 75% Nutzerstrom</td>\n",
       "      <td>Doppelsimulation</td>\n",
       "      <td>44516.439769</td>\n",
       "      <td>latest</td>\n",
       "      <td>Glan</td>\n",
       "      <td>38994.0</td>\n",
       "      <td>0.0</td>\n",
       "      <td>0.0</td>\n",
       "      <td>...</td>\n",
       "      <td>6.142762</td>\n",
       "      <td>0.0</td>\n",
       "      <td>54.771039</td>\n",
       "      <td>1.046626</td>\n",
       "      <td>5.306409</td>\n",
       "      <td>3.449166</td>\n",
       "      <td>-20.72717</td>\n",
       "      <td>NaN</td>\n",
       "      <td>NaN</td>\n",
       "      <td>None</td>\n",
       "    </tr>\n",
       "  </tbody>\n",
       "</table>\n",
       "<p>144 rows × 401 columns</p>\n",
       "</div>"
      ],
      "text/plain": [
       "         idx                      Variantenname  \\\n",
       "0        1.0         Alpha - Bauträger Standard   \n",
       "1        2.0                    Alpha - Aktuell   \n",
       "2        3.0           Alpha - Netzdienlichkeit   \n",
       "3        4.0                    Alpha - Min PEQ   \n",
       "4        5.0          Beta - Bauträger Standard   \n",
       "..       ...                                ...   \n",
       "198     9Mob         Omega - Bauträger Standard   \n",
       "199    10Mob                    Omega - Aktuell   \n",
       "200    11Mob           Omega - Netzdienlichkeit   \n",
       "201    12Mob                    Omega - Min PEQ   \n",
       "202  12,5Mob  Omega - Min PEQ - 75% Nutzerstrom   \n",
       "\n",
       "                                           longname        Simulation  \\\n",
       "0            Aichinger 1 Alpha - Bauträger Standard  Doppelsimulation   \n",
       "1                       Aichinger 2 Alpha - Aktuell  Doppelsimulation   \n",
       "2              Aichinger 3 Alpha - Netzdienlichkeit  Doppelsimulation   \n",
       "3                       Aichinger 4 Alpha - Min PEQ  Doppelsimulation   \n",
       "4             Aichinger 5 Beta - Bauträger Standard  Doppelsimulation   \n",
       "..                                              ...               ...   \n",
       "198            Glan 9Mob Omega - Bauträger Standard  Doppelsimulation   \n",
       "199                      Glan 10Mob Omega - Aktuell  Doppelsimulation   \n",
       "200             Glan 11Mob Omega - Netzdienlichkeit  Doppelsimulation   \n",
       "201                      Glan 12Mob Omega - Min PEQ  Doppelsimulation   \n",
       "202  Glan 12,5Mob Omega - Min PEQ - 75% Nutzerstrom  Doppelsimulation   \n",
       "\n",
       "    Berechnungszeitpunkt    FILE    Projekt  Wohnbau NGF (m²)  Büro NGF (m²)  \\\n",
       "0    2021-11-24 15:11:57  latest  Aichinger             123.8            0.0   \n",
       "1    2021-11-24 15:12:07  latest  Aichinger             123.8            0.0   \n",
       "2    2021-11-24 15:12:18  latest  Aichinger             123.8            0.0   \n",
       "3    2021-11-24 15:12:31  latest  Aichinger             123.8            0.0   \n",
       "4    2021-11-24 15:12:45  latest  Aichinger             123.8            0.0   \n",
       "..                   ...     ...        ...               ...            ...   \n",
       "198         44516.439213  latest       Glan           38994.0            0.0   \n",
       "199         44516.439387  latest       Glan           38994.0            0.0   \n",
       "200         44516.439525  latest       Glan           38994.0            0.0   \n",
       "201         44516.439641  latest       Glan           38994.0            0.0   \n",
       "202         44516.439769  latest       Glan           38994.0            0.0   \n",
       "\n",
       "     Schule NGF (m²)  ...  Netzstrom  Abwärme      Summe       GFZ  \\\n",
       "0                0.0  ...  17.590146      0.0  44.992788  0.234899   \n",
       "1                0.0  ...  13.777718      0.0  40.061759  0.234899   \n",
       "2                0.0  ...   6.217158      0.0  39.943547  0.234899   \n",
       "3                0.0  ...   6.236848      0.0  39.941153  0.234899   \n",
       "4                0.0  ...  18.323453      0.0  49.026591  0.234899   \n",
       "..               ...  ...        ...      ...        ...       ...   \n",
       "198              0.0  ...  36.239956      0.0  66.783866  1.046626   \n",
       "199              0.0  ...  22.198328      0.0  65.459531  1.046626   \n",
       "200              0.0  ...  11.254178      0.0  67.241300  1.046626   \n",
       "201              0.0  ...  10.296640      0.0  63.527862  1.046626   \n",
       "202              0.0  ...   6.142762      0.0  54.771039  1.046626   \n",
       "\n",
       "     PE-Saldo Zielwert [kWh/m²NGF]  PE-Saldo Ziel Real[kWh/m²BGF]  \\\n",
       "0                       121.154503                      85.708157   \n",
       "1                       121.154503                      85.708157   \n",
       "2                       121.154503                      85.708157   \n",
       "3                       121.154503                      85.708157   \n",
       "4                       121.154503                      85.708157   \n",
       "..                             ...                            ...   \n",
       "198                       5.306409                       3.449166   \n",
       "199                       5.306409                       3.449166   \n",
       "200                       5.306409                       3.449166   \n",
       "201                       5.306409                       3.449166   \n",
       "202                       5.306409                       3.449166   \n",
       "\n",
       "     PE-Saldo Zielwert Großkraftwerke [kWh/m²NGF]  \\\n",
       "0                                        97.91429   \n",
       "1                                        97.91429   \n",
       "2                                        97.91429   \n",
       "3                                        97.91429   \n",
       "4                                        97.91429   \n",
       "..                                            ...   \n",
       "198                                     -20.72717   \n",
       "199                                     -20.72717   \n",
       "200                                     -20.72717   \n",
       "201                                     -20.72717   \n",
       "202                                     -20.72717   \n",
       "\n",
       "    diese zellen sind mit ergbnisverweisen befüllbar  \\\n",
       "0                                              0.684   \n",
       "1                                              0.684   \n",
       "2                                              0.684   \n",
       "3                                              0.684   \n",
       "4                                              0.684   \n",
       "..                                               ...   \n",
       "198                                              NaN   \n",
       "199                                              NaN   \n",
       "200                                              NaN   \n",
       "201                                              NaN   \n",
       "202                                              NaN   \n",
       "\n",
       "    diese zellen sind mit ergbnisverweisen befüllbar  ende result saving area  \n",
       "0                                           0.916857                     None  \n",
       "1                                           0.830531                     None  \n",
       "2                                           0.682343                     None  \n",
       "3                                           0.682509                     None  \n",
       "4                                           0.924452                     None  \n",
       "..                                               ...                      ...  \n",
       "198                                              NaN                     None  \n",
       "199                                              NaN                     None  \n",
       "200                                              NaN                     None  \n",
       "201                                              NaN                     None  \n",
       "202                                              NaN                     None  \n",
       "\n",
       "[144 rows x 401 columns]"
      ]
     },
     "execution_count": 11,
     "metadata": {},
     "output_type": "execute_result"
    }
   ],
   "source": [
    "cols = {\n",
    "\"Alpha - Bauträger Standard\": 1.0,\n",
    "\"Alpha - Aktuell\": 2.0,\n",
    "\"Alpha - Netzdienlichkeit\": 3.0,\n",
    "\"Alpha - Min PEQ\": 4.0,\n",
    "\"Alpha - Min PEQ - Nutzerstrom 75%\": 4.5,\n",
    "\"Beta - Bauträger Standard\": 5.0,\n",
    "\"Beta - Aktuell\": 6.0,\n",
    "\"Beta - Netzdienlichkeit\": 7.0,\n",
    "\"Beta - Min PEQ\": 8.0,\n",
    "\"Beta - Min PEQ - Nutzerstrom 75%\": 8.5,\n",
    "\"Omega - Bauträger Standard\": 9.0,\n",
    "\"Omega - Aktuell\": 10.0,\n",
    "\"Omega - Netzdienlichkeit\": 11.0,\n",
    "\"Omega - Min PEQ\": 12.0,\n",
    "\"Omega - Min PEQ - Nutzerstrom 75%\": 12.5,\n",
    "}\n",
    "\n",
    "new_df = df[\n",
    "    (df.FILE != \"None\")\n",
    "]\n",
    "\n",
    "df = new_df\n",
    "new_df"
   ]
  },
  {
   "cell_type": "code",
   "execution_count": 12,
   "metadata": {
    "pycharm": {
     "name": "#%%\n"
    }
   },
   "outputs": [
    {
     "data": {
      "text/html": [
       "<div>\n",
       "<style scoped>\n",
       "    .dataframe tbody tr th:only-of-type {\n",
       "        vertical-align: middle;\n",
       "    }\n",
       "\n",
       "    .dataframe tbody tr th {\n",
       "        vertical-align: top;\n",
       "    }\n",
       "\n",
       "    .dataframe thead th {\n",
       "        text-align: right;\n",
       "    }\n",
       "</style>\n",
       "<table border=\"1\" class=\"dataframe\">\n",
       "  <thead>\n",
       "    <tr style=\"text-align: right;\">\n",
       "      <th></th>\n",
       "      <th>idx</th>\n",
       "      <th>Variantenname</th>\n",
       "      <th>longname</th>\n",
       "      <th>Simulation</th>\n",
       "      <th>Berechnungszeitpunkt</th>\n",
       "      <th>FILE</th>\n",
       "      <th>Projekt</th>\n",
       "      <th>Wohnbau NGF (m²)</th>\n",
       "      <th>Büro NGF (m²)</th>\n",
       "      <th>Schule NGF (m²)</th>\n",
       "      <th>...</th>\n",
       "      <th>Netzstrom</th>\n",
       "      <th>Abwärme</th>\n",
       "      <th>Summe</th>\n",
       "      <th>GFZ</th>\n",
       "      <th>PE-Saldo Zielwert [kWh/m²NGF]</th>\n",
       "      <th>PE-Saldo Ziel Real[kWh/m²BGF]</th>\n",
       "      <th>PE-Saldo Zielwert Großkraftwerke [kWh/m²NGF]</th>\n",
       "      <th>diese zellen sind mit ergbnisverweisen befüllbar</th>\n",
       "      <th>diese zellen sind mit ergbnisverweisen befüllbar</th>\n",
       "      <th>ende result saving area</th>\n",
       "    </tr>\n",
       "  </thead>\n",
       "  <tbody>\n",
       "    <tr>\n",
       "      <th>4</th>\n",
       "      <td>5.0</td>\n",
       "      <td>Beta - Bauträger Standard</td>\n",
       "      <td>Aichinger 5 Beta - Bauträger Standard</td>\n",
       "      <td>Doppelsimulation</td>\n",
       "      <td>2021-11-24 15:12:45</td>\n",
       "      <td>latest</td>\n",
       "      <td>Aichinger</td>\n",
       "      <td>123.8</td>\n",
       "      <td>0.0</td>\n",
       "      <td>0.0</td>\n",
       "      <td>...</td>\n",
       "      <td>18.323453</td>\n",
       "      <td>0.0</td>\n",
       "      <td>49.026591</td>\n",
       "      <td>0.234899</td>\n",
       "      <td>121.154503</td>\n",
       "      <td>85.708157</td>\n",
       "      <td>97.91429</td>\n",
       "      <td>0.684</td>\n",
       "      <td>0.924452</td>\n",
       "      <td>None</td>\n",
       "    </tr>\n",
       "  </tbody>\n",
       "</table>\n",
       "<p>1 rows × 401 columns</p>\n",
       "</div>"
      ],
      "text/plain": [
       "   idx              Variantenname                               longname  \\\n",
       "4  5.0  Beta - Bauträger Standard  Aichinger 5 Beta - Bauträger Standard   \n",
       "\n",
       "         Simulation Berechnungszeitpunkt    FILE    Projekt  Wohnbau NGF (m²)  \\\n",
       "4  Doppelsimulation  2021-11-24 15:12:45  latest  Aichinger             123.8   \n",
       "\n",
       "   Büro NGF (m²)  Schule NGF (m²)  ...  Netzstrom  Abwärme      Summe  \\\n",
       "4            0.0              0.0  ...  18.323453      0.0  49.026591   \n",
       "\n",
       "        GFZ  PE-Saldo Zielwert [kWh/m²NGF]  PE-Saldo Ziel Real[kWh/m²BGF]  \\\n",
       "4  0.234899                     121.154503                      85.708157   \n",
       "\n",
       "   PE-Saldo Zielwert Großkraftwerke [kWh/m²NGF]  \\\n",
       "4                                      97.91429   \n",
       "\n",
       "  diese zellen sind mit ergbnisverweisen befüllbar  \\\n",
       "4                                            0.684   \n",
       "\n",
       "  diese zellen sind mit ergbnisverweisen befüllbar  ende result saving area  \n",
       "4                                         0.924452                     None  \n",
       "\n",
       "[1 rows x 401 columns]"
      ]
     },
     "execution_count": 12,
     "metadata": {},
     "output_type": "execute_result"
    }
   ],
   "source": [
    "dsm_df = new_df[\n",
    "    (new_df.index.isin([4.0,4.5]))\n",
    "]\n",
    "dsm_df\n"
   ]
  },
  {
   "cell_type": "code",
   "execution_count": 13,
   "metadata": {
    "pycharm": {
     "name": "#%%\n"
    }
   },
   "outputs": [],
   "source": [
    "# get variants\n",
    "# s2 = aggbook.sheets[4]\n",
    "# local_addr = s2[\"M5\"].formula.split(\"!\")[1]\n",
    "# aggsheet = aggbook.sheets[aggregation_sheet]\n",
    "# new_df.columns[aggsheet[local_addr].column-2]"
   ]
  },
  {
   "cell_type": "markdown",
   "metadata": {
    "pycharm": {
     "name": "#%% md\n"
    }
   },
   "source": [
    "we commonly need to transform the df into a flat version,\n",
    " with an additional column *calc_type*:\n",
    " * Erdgas,\n",
    " * FW,\n",
    " * HP /wo DSM,\n",
    " * HP /w DSM\n"
   ]
  },
  {
   "cell_type": "code",
   "execution_count": 14,
   "metadata": {
    "pycharm": {
     "name": "#%%\n"
    }
   },
   "outputs": [
    {
     "data": {
      "text/html": [
       "<div>\n",
       "<style scoped>\n",
       "    .dataframe tbody tr th:only-of-type {\n",
       "        vertical-align: middle;\n",
       "    }\n",
       "\n",
       "    .dataframe tbody tr th {\n",
       "        vertical-align: top;\n",
       "    }\n",
       "\n",
       "    .dataframe thead th {\n",
       "        text-align: right;\n",
       "    }\n",
       "</style>\n",
       "<table border=\"1\" class=\"dataframe\">\n",
       "  <thead>\n",
       "    <tr style=\"text-align: right;\">\n",
       "      <th></th>\n",
       "      <th>GFZ</th>\n",
       "      <th>PE-Saldo Zielwert [kWh/m²NGF]</th>\n",
       "      <th>PE-Saldo Ziel Real[kWh/m²BGF]</th>\n",
       "      <th>idx</th>\n",
       "      <th>Variantenname</th>\n",
       "      <th>longname</th>\n",
       "      <th>Simulation</th>\n",
       "      <th>Berechnungszeitpunkt</th>\n",
       "      <th>FILE</th>\n",
       "      <th>Projekt</th>\n",
       "      <th>...</th>\n",
       "      <th>None</th>\n",
       "      <th>None</th>\n",
       "      <th>None</th>\n",
       "      <th>None</th>\n",
       "      <th>None</th>\n",
       "      <th>None</th>\n",
       "      <th>None</th>\n",
       "      <th>dont fill, extend instead</th>\n",
       "      <th>None</th>\n",
       "      <th>None</th>\n",
       "    </tr>\n",
       "  </thead>\n",
       "  <tbody>\n",
       "    <tr>\n",
       "      <th>0</th>\n",
       "      <td>0.234899</td>\n",
       "      <td>121.154503</td>\n",
       "      <td>85.708157</td>\n",
       "      <td>1.0</td>\n",
       "      <td>Alpha - Bauträger Standard</td>\n",
       "      <td>Aichinger 1 Alpha - Bauträger Standard</td>\n",
       "      <td>Doppelsimulation</td>\n",
       "      <td>2021-11-24 15:11:57</td>\n",
       "      <td>latest</td>\n",
       "      <td>Aichinger</td>\n",
       "      <td>...</td>\n",
       "      <td>None</td>\n",
       "      <td>None</td>\n",
       "      <td>None</td>\n",
       "      <td>None</td>\n",
       "      <td>None</td>\n",
       "      <td>None</td>\n",
       "      <td>None</td>\n",
       "      <td>None</td>\n",
       "      <td>None</td>\n",
       "      <td>None</td>\n",
       "    </tr>\n",
       "    <tr>\n",
       "      <th>1</th>\n",
       "      <td>0.234899</td>\n",
       "      <td>121.154503</td>\n",
       "      <td>85.708157</td>\n",
       "      <td>2.0</td>\n",
       "      <td>Alpha - Aktuell</td>\n",
       "      <td>Aichinger 2 Alpha - Aktuell</td>\n",
       "      <td>Doppelsimulation</td>\n",
       "      <td>2021-11-24 15:12:07</td>\n",
       "      <td>latest</td>\n",
       "      <td>Aichinger</td>\n",
       "      <td>...</td>\n",
       "      <td>None</td>\n",
       "      <td>None</td>\n",
       "      <td>None</td>\n",
       "      <td>None</td>\n",
       "      <td>None</td>\n",
       "      <td>None</td>\n",
       "      <td>None</td>\n",
       "      <td>None</td>\n",
       "      <td>None</td>\n",
       "      <td>None</td>\n",
       "    </tr>\n",
       "    <tr>\n",
       "      <th>2</th>\n",
       "      <td>0.234899</td>\n",
       "      <td>121.154503</td>\n",
       "      <td>85.708157</td>\n",
       "      <td>3.0</td>\n",
       "      <td>Alpha - Netzdienlichkeit</td>\n",
       "      <td>Aichinger 3 Alpha - Netzdienlichkeit</td>\n",
       "      <td>Doppelsimulation</td>\n",
       "      <td>2021-11-24 15:12:18</td>\n",
       "      <td>latest</td>\n",
       "      <td>Aichinger</td>\n",
       "      <td>...</td>\n",
       "      <td>None</td>\n",
       "      <td>None</td>\n",
       "      <td>None</td>\n",
       "      <td>None</td>\n",
       "      <td>None</td>\n",
       "      <td>None</td>\n",
       "      <td>None</td>\n",
       "      <td>None</td>\n",
       "      <td>None</td>\n",
       "      <td>None</td>\n",
       "    </tr>\n",
       "    <tr>\n",
       "      <th>3</th>\n",
       "      <td>0.234899</td>\n",
       "      <td>121.154503</td>\n",
       "      <td>85.708157</td>\n",
       "      <td>4.0</td>\n",
       "      <td>Alpha - Min PEQ</td>\n",
       "      <td>Aichinger 4 Alpha - Min PEQ</td>\n",
       "      <td>Doppelsimulation</td>\n",
       "      <td>2021-11-24 15:12:31</td>\n",
       "      <td>latest</td>\n",
       "      <td>Aichinger</td>\n",
       "      <td>...</td>\n",
       "      <td>None</td>\n",
       "      <td>None</td>\n",
       "      <td>None</td>\n",
       "      <td>None</td>\n",
       "      <td>None</td>\n",
       "      <td>None</td>\n",
       "      <td>None</td>\n",
       "      <td>None</td>\n",
       "      <td>None</td>\n",
       "      <td>None</td>\n",
       "    </tr>\n",
       "    <tr>\n",
       "      <th>4</th>\n",
       "      <td>0.234899</td>\n",
       "      <td>121.154503</td>\n",
       "      <td>85.708157</td>\n",
       "      <td>5.0</td>\n",
       "      <td>Beta - Bauträger Standard</td>\n",
       "      <td>Aichinger 5 Beta - Bauträger Standard</td>\n",
       "      <td>Doppelsimulation</td>\n",
       "      <td>2021-11-24 15:12:45</td>\n",
       "      <td>latest</td>\n",
       "      <td>Aichinger</td>\n",
       "      <td>...</td>\n",
       "      <td>None</td>\n",
       "      <td>None</td>\n",
       "      <td>None</td>\n",
       "      <td>None</td>\n",
       "      <td>None</td>\n",
       "      <td>None</td>\n",
       "      <td>None</td>\n",
       "      <td>None</td>\n",
       "      <td>None</td>\n",
       "      <td>None</td>\n",
       "    </tr>\n",
       "    <tr>\n",
       "      <th>...</th>\n",
       "      <td>...</td>\n",
       "      <td>...</td>\n",
       "      <td>...</td>\n",
       "      <td>...</td>\n",
       "      <td>...</td>\n",
       "      <td>...</td>\n",
       "      <td>...</td>\n",
       "      <td>...</td>\n",
       "      <td>...</td>\n",
       "      <td>...</td>\n",
       "      <td>...</td>\n",
       "      <td>...</td>\n",
       "      <td>...</td>\n",
       "      <td>...</td>\n",
       "      <td>...</td>\n",
       "      <td>...</td>\n",
       "      <td>...</td>\n",
       "      <td>...</td>\n",
       "      <td>...</td>\n",
       "      <td>...</td>\n",
       "      <td>...</td>\n",
       "    </tr>\n",
       "    <tr>\n",
       "      <th>233</th>\n",
       "      <td>NaN</td>\n",
       "      <td>NaN</td>\n",
       "      <td>NaN</td>\n",
       "      <td>None</td>\n",
       "      <td>None</td>\n",
       "      <td>None</td>\n",
       "      <td>None</td>\n",
       "      <td>None</td>\n",
       "      <td>None</td>\n",
       "      <td>None</td>\n",
       "      <td>...</td>\n",
       "      <td>None</td>\n",
       "      <td>None</td>\n",
       "      <td>None</td>\n",
       "      <td>None</td>\n",
       "      <td>None</td>\n",
       "      <td>None</td>\n",
       "      <td>None</td>\n",
       "      <td>None</td>\n",
       "      <td>None</td>\n",
       "      <td>None</td>\n",
       "    </tr>\n",
       "    <tr>\n",
       "      <th>234</th>\n",
       "      <td>NaN</td>\n",
       "      <td>NaN</td>\n",
       "      <td>NaN</td>\n",
       "      <td>None</td>\n",
       "      <td>None</td>\n",
       "      <td>None</td>\n",
       "      <td>None</td>\n",
       "      <td>None</td>\n",
       "      <td>None</td>\n",
       "      <td>None</td>\n",
       "      <td>...</td>\n",
       "      <td>None</td>\n",
       "      <td>None</td>\n",
       "      <td>None</td>\n",
       "      <td>None</td>\n",
       "      <td>None</td>\n",
       "      <td>None</td>\n",
       "      <td>None</td>\n",
       "      <td>None</td>\n",
       "      <td>None</td>\n",
       "      <td>None</td>\n",
       "    </tr>\n",
       "    <tr>\n",
       "      <th>235</th>\n",
       "      <td>0.500000</td>\n",
       "      <td>61.874472</td>\n",
       "      <td>43.771769</td>\n",
       "      <td>None</td>\n",
       "      <td>Aichinger GFZ 0,5 Alpha - Netzdienlichkeit</td>\n",
       "      <td>Aichinger GFZ 0,5 Alpha - Netzdienlichkeit</td>\n",
       "      <td>None</td>\n",
       "      <td>None</td>\n",
       "      <td>None</td>\n",
       "      <td>Aichinger</td>\n",
       "      <td>...</td>\n",
       "      <td>None</td>\n",
       "      <td>None</td>\n",
       "      <td>None</td>\n",
       "      <td>None</td>\n",
       "      <td>None</td>\n",
       "      <td>None</td>\n",
       "      <td>None</td>\n",
       "      <td>None</td>\n",
       "      <td>None</td>\n",
       "      <td>None</td>\n",
       "    </tr>\n",
       "    <tr>\n",
       "      <th>236</th>\n",
       "      <td>0.500000</td>\n",
       "      <td>61.874472</td>\n",
       "      <td>43.771769</td>\n",
       "      <td>None</td>\n",
       "      <td>Aichinger GFZ 0,5 Beta - Netzdienlichkeit</td>\n",
       "      <td>Aichinger GFZ 0,5 Beta - Netzdienlichkeit</td>\n",
       "      <td>None</td>\n",
       "      <td>None</td>\n",
       "      <td>None</td>\n",
       "      <td>Aichinger</td>\n",
       "      <td>...</td>\n",
       "      <td>None</td>\n",
       "      <td>None</td>\n",
       "      <td>None</td>\n",
       "      <td>None</td>\n",
       "      <td>None</td>\n",
       "      <td>None</td>\n",
       "      <td>None</td>\n",
       "      <td>None</td>\n",
       "      <td>None</td>\n",
       "      <td>None</td>\n",
       "    </tr>\n",
       "    <tr>\n",
       "      <th>237</th>\n",
       "      <td>NaN</td>\n",
       "      <td>NaN</td>\n",
       "      <td>NaN</td>\n",
       "      <td>None</td>\n",
       "      <td>None</td>\n",
       "      <td>None</td>\n",
       "      <td>None</td>\n",
       "      <td>None</td>\n",
       "      <td>None</td>\n",
       "      <td>None</td>\n",
       "      <td>...</td>\n",
       "      <td>None</td>\n",
       "      <td>None</td>\n",
       "      <td>None</td>\n",
       "      <td>None</td>\n",
       "      <td>None</td>\n",
       "      <td>None</td>\n",
       "      <td>None</td>\n",
       "      <td>None</td>\n",
       "      <td>None</td>\n",
       "      <td>None</td>\n",
       "    </tr>\n",
       "  </tbody>\n",
       "</table>\n",
       "<p>238 rows × 207 columns</p>\n",
       "</div>"
      ],
      "text/plain": [
       "          GFZ  PE-Saldo Zielwert [kWh/m²NGF]  PE-Saldo Ziel Real[kWh/m²BGF]  \\\n",
       "0    0.234899                     121.154503                      85.708157   \n",
       "1    0.234899                     121.154503                      85.708157   \n",
       "2    0.234899                     121.154503                      85.708157   \n",
       "3    0.234899                     121.154503                      85.708157   \n",
       "4    0.234899                     121.154503                      85.708157   \n",
       "..        ...                            ...                            ...   \n",
       "233       NaN                            NaN                            NaN   \n",
       "234       NaN                            NaN                            NaN   \n",
       "235  0.500000                      61.874472                      43.771769   \n",
       "236  0.500000                      61.874472                      43.771769   \n",
       "237       NaN                            NaN                            NaN   \n",
       "\n",
       "      idx                               Variantenname  \\\n",
       "0     1.0                  Alpha - Bauträger Standard   \n",
       "1     2.0                             Alpha - Aktuell   \n",
       "2     3.0                    Alpha - Netzdienlichkeit   \n",
       "3     4.0                             Alpha - Min PEQ   \n",
       "4     5.0                   Beta - Bauträger Standard   \n",
       "..    ...                                         ...   \n",
       "233  None                                        None   \n",
       "234  None                                        None   \n",
       "235  None  Aichinger GFZ 0,5 Alpha - Netzdienlichkeit   \n",
       "236  None   Aichinger GFZ 0,5 Beta - Netzdienlichkeit   \n",
       "237  None                                        None   \n",
       "\n",
       "                                       longname        Simulation  \\\n",
       "0        Aichinger 1 Alpha - Bauträger Standard  Doppelsimulation   \n",
       "1                   Aichinger 2 Alpha - Aktuell  Doppelsimulation   \n",
       "2          Aichinger 3 Alpha - Netzdienlichkeit  Doppelsimulation   \n",
       "3                   Aichinger 4 Alpha - Min PEQ  Doppelsimulation   \n",
       "4         Aichinger 5 Beta - Bauträger Standard  Doppelsimulation   \n",
       "..                                          ...               ...   \n",
       "233                                        None              None   \n",
       "234                                        None              None   \n",
       "235  Aichinger GFZ 0,5 Alpha - Netzdienlichkeit              None   \n",
       "236   Aichinger GFZ 0,5 Beta - Netzdienlichkeit              None   \n",
       "237                                        None              None   \n",
       "\n",
       "    Berechnungszeitpunkt    FILE    Projekt  ...  None  None  None  None  \\\n",
       "0    2021-11-24 15:11:57  latest  Aichinger  ...  None  None  None  None   \n",
       "1    2021-11-24 15:12:07  latest  Aichinger  ...  None  None  None  None   \n",
       "2    2021-11-24 15:12:18  latest  Aichinger  ...  None  None  None  None   \n",
       "3    2021-11-24 15:12:31  latest  Aichinger  ...  None  None  None  None   \n",
       "4    2021-11-24 15:12:45  latest  Aichinger  ...  None  None  None  None   \n",
       "..                   ...     ...        ...  ...   ...   ...   ...   ...   \n",
       "233                 None    None       None  ...  None  None  None  None   \n",
       "234                 None    None       None  ...  None  None  None  None   \n",
       "235                 None    None  Aichinger  ...  None  None  None  None   \n",
       "236                 None    None  Aichinger  ...  None  None  None  None   \n",
       "237                 None    None       None  ...  None  None  None  None   \n",
       "\n",
       "     None  None  None  dont fill, extend instead  None  None  \n",
       "0    None  None  None                       None  None  None  \n",
       "1    None  None  None                       None  None  None  \n",
       "2    None  None  None                       None  None  None  \n",
       "3    None  None  None                       None  None  None  \n",
       "4    None  None  None                       None  None  None  \n",
       "..    ...   ...   ...                        ...   ...   ...  \n",
       "233  None  None  None                       None  None  None  \n",
       "234  None  None  None                       None  None  None  \n",
       "235  None  None  None                       None  None  None  \n",
       "236  None  None  None                       None  None  None  \n",
       "237  None  None  None                       None  None  None  \n",
       "\n",
       "[238 rows x 207 columns]"
      ]
     },
     "execution_count": 14,
     "metadata": {},
     "output_type": "execute_result"
    }
   ],
   "source": [
    "first, last = 2, 241# row\n",
    "# df_inputs\n",
    "vars = aggbook.sheets[aggregation_sheet]\n",
    "range = vars[first:last, :204]\n",
    "df_inputslarge = range.options(pd.DataFrame, index=False).value\n",
    "df_gfzblock = vars[first:last, 394:397].options(pd.DataFrame, index=False).value\n",
    "#joining GFZ shit\n",
    "df_inputs = df_gfzblock.join(df_inputslarge)\n",
    "df_inputs"
   ]
  },
  {
   "cell_type": "code",
   "execution_count": 15,
   "metadata": {
    "pycharm": {
     "name": "#%%\n"
    }
   },
   "outputs": [],
   "source": [
    "# df_gas\n",
    "range = vars[first:last, 204:224]\n",
    "df_gas = range.options(pd.DataFrame, index=False).value\n",
    "df_gas[\"energy_system\"] = \"Erdgas\"\n",
    "# df_distheat\n",
    "range = vars[first:last, 224:244]\n",
    "df_distheat = range.options(pd.DataFrame, index=False).value\n",
    "df_distheat[\"energy_system\"] = \"Fernwärme\"\n",
    "# df_HPwoDSM\n",
    "range = vars[first:last, 244:264]\n",
    "df_HPwoDSM = range.options(pd.DataFrame, index=False).value\n",
    "df_HPwoDSM[\"energy_system\"] = \"Wärmepumpe (OHNE DSM)\"\n",
    "# df_HPwDSM\n",
    "range = vars[first:last, 308:328]\n",
    "df_HPwDSM = range.options(pd.DataFrame, index=False).value\n",
    "df_HPwDSM[\"energy_system\"] = \"Wärmepumpe (mit DSM)\""
   ]
  },
  {
   "cell_type": "code",
   "execution_count": 16,
   "metadata": {
    "pycharm": {
     "name": "#%%\n"
    }
   },
   "outputs": [
    {
     "data": {
      "text/plain": [
       "(238, 228)"
      ]
     },
     "execution_count": 16,
     "metadata": {},
     "output_type": "execute_result"
    }
   ],
   "source": [
    "# concatenate all dfs\n",
    "i = np.arange(132)\n",
    "df1 = pd.concat([df_gas, df_inputs], axis=1)#.set_index([i,i]).reset_index(level=0)\n",
    "i2 = i+132\n",
    "df2 = pd.concat([df_distheat, df_inputs], axis=1)#.set_index([i,i2]).reset_index(level=0)\n",
    "i3 = i2+132\n",
    "df3 = pd.concat([df_HPwoDSM, df_inputs], axis=1)#.set_index([i,i3]).reset_index(level=0)\n",
    "i4 = i3+132\n",
    "df4 = pd.concat([df_HPwDSM, df_inputs ], axis=1)#\\\n",
    " #   .set_index([i,i4], drop=True)\\\n",
    "#    .reset_index(level=0)\n",
    "\n",
    "df4.shape"
   ]
  },
  {
   "cell_type": "code",
   "execution_count": 17,
   "metadata": {
    "pycharm": {
     "name": "#%%\n"
    }
   },
   "outputs": [],
   "source": [
    "from enum import Enum, auto\n",
    "# vars[\"K2\"].value\n",
    "class EnerSys(Enum):\n",
    "    gas = auto()\n",
    "    dh = auto()\n",
    "    hp_wo_dsm = auto()\n",
    "    hp_w_dsm = auto()"
   ]
  },
  {
   "cell_type": "code",
   "execution_count": 18,
   "metadata": {
    "pycharm": {
     "name": "#%%\n"
    }
   },
   "outputs": [
    {
     "name": "stdout",
     "output_type": "stream",
     "text": [
      "EnerSys.gas\n",
      "EnerSys.dh\n",
      "EnerSys.hp_wo_dsm\n",
      "EnerSys.hp_w_dsm\n"
     ]
    }
   ],
   "source": [
    "for n in EnerSys:\n",
    "    print(n)"
   ]
  },
  {
   "cell_type": "code",
   "execution_count": 19,
   "metadata": {
    "pycharm": {
     "name": "#%%\n"
    }
   },
   "outputs": [],
   "source": [
    "\n",
    "result_map_NGF = {\n",
    "    EnerSys.gas: {\n",
    "        \"PEBedarf\": {\"abc\": \"GW\", \"num\":204},\n",
    "        \"PEExport\": {\"abc\": \"GX\", \"num\":205},\n",
    "        \"PESaldo\": {\"abc\": \"GY\", \"num\":206},\n",
    "        \"Alpha - Dichteausgleich [kWh/m²NGF]\": {\n",
    "            \"abc\": \"HA\", \"num\":208},\n",
    "    },\n",
    "    EnerSys.dh: {\n",
    "        \"PEBedarf\": {\"abc\": \"HQ\", \"num\":224},\n",
    "        \"PEExport\": {\"abc\": \"HR\", \"num\":225},\n",
    "        \"PESaldo\": {\"abc\": \"HS\", \"num\":226},\n",
    "        \"Alpha - Dichteausgleich [kWh/m²NGF]\": {\n",
    "            \"abc\": \"HU\", \"num\":228},\n",
    "    },\n",
    "    EnerSys.hp_wo_dsm: {\n",
    "        \"PEBedarf\": {\"abc\": \"IK\", \"num\":244},\n",
    "        \"PEExport\": {\"abc\": \"IL\", \"num\":245},\n",
    "        \"PESaldo\": {\"abc\": \"IM\", \"num\":246},\n",
    "        \"Alpha - Dichteausgleich [kWh/m²NGF]\": {\n",
    "            \"abc\": \"IO\", \"num\":248},\n",
    "    },\n",
    "    EnerSys.hp_w_dsm: {\n",
    "        \"PEBedarf\": {\"abc\": \"KW\", \"num\":308},\n",
    "        \"PEExport\": {\"abc\": \"KX\", \"num\":309},\n",
    "        \"PESaldo\": {\"abc\": \"KY\", \"num\":310},\n",
    "        \"Alpha - Dichteausgleich [kWh/m²NGF]\": {\n",
    "            \"abc\": \"LA\", \"num\":312},\n",
    "    }\n",
    "}\n"
   ]
  },
  {
   "cell_type": "code",
   "execution_count": 20,
   "metadata": {
    "pycharm": {
     "name": "#%%\n"
    }
   },
   "outputs": [],
   "source": [
    "def address(system:EnerSys, index, col:str, row_offset=3, mapping=result_map_NGF):\n",
    "    addr = mapping[system][col][\"abc\"]\n",
    "    return addr+str(index+row_offset)\n"
   ]
  },
  {
   "cell_type": "code",
   "execution_count": 21,
   "metadata": {
    "pycharm": {
     "name": "#%%\n"
    }
   },
   "outputs": [
    {
     "data": {
      "text/plain": [
       "'PEBedarf'"
      ]
     },
     "execution_count": 21,
     "metadata": {},
     "output_type": "execute_result"
    }
   ],
   "source": [
    "aggsheet = vars\n",
    "a1 = address(EnerSys.hp_wo_dsm, 0, \"PEBedarf\")\n",
    "aggsheet[a1].value"
   ]
  },
  {
   "cell_type": "code",
   "execution_count": 37,
   "metadata": {
    "pycharm": {
     "name": "#%%\n"
    }
   },
   "outputs": [
    {
     "data": {
      "text/html": [
       "<div>\n",
       "<style scoped>\n",
       "    .dataframe tbody tr th:only-of-type {\n",
       "        vertical-align: middle;\n",
       "    }\n",
       "\n",
       "    .dataframe tbody tr th {\n",
       "        vertical-align: top;\n",
       "    }\n",
       "\n",
       "    .dataframe thead th {\n",
       "        text-align: right;\n",
       "    }\n",
       "</style>\n",
       "<table border=\"1\" class=\"dataframe\">\n",
       "  <thead>\n",
       "    <tr style=\"text-align: right;\">\n",
       "      <th></th>\n",
       "      <th>PEBedarf</th>\n",
       "      <th>PEExport</th>\n",
       "      <th>PESaldo</th>\n",
       "      <th>Alpha - PE-Saldo ohne Dichteausgleich [kWh/m²NGF]</th>\n",
       "      <th>Alpha - Dichteausgleich [kWh/m²NGF]</th>\n",
       "      <th>Alpha - PE-Saldo mit Dichteausgleich [kWh/m²NGF]</th>\n",
       "      <th>Alpha -PE-Saldo mit Dichteausgleich [kWh/m²BGF]</th>\n",
       "      <th>Kontext-Faktor Erneuerbare Großkraftwerte [kWh/m²NGF]</th>\n",
       "      <th>Fossile Alltagsmobilität[kWh/m²NGF]</th>\n",
       "      <th>PE-Bilanz Beta [kWh/m²NGF]</th>\n",
       "      <th>...</th>\n",
       "      <th>None</th>\n",
       "      <th>None</th>\n",
       "      <th>None</th>\n",
       "      <th>None</th>\n",
       "      <th>None</th>\n",
       "      <th>None</th>\n",
       "      <th>None</th>\n",
       "      <th>dont fill, extend instead</th>\n",
       "      <th>None</th>\n",
       "      <th>None</th>\n",
       "    </tr>\n",
       "  </thead>\n",
       "  <tbody>\n",
       "    <tr>\n",
       "      <th>0</th>\n",
       "      <td>96.172054</td>\n",
       "      <td>88.459705</td>\n",
       "      <td>-7.712349</td>\n",
       "      <td>-7.712349</td>\n",
       "      <td>-121.154503</td>\n",
       "      <td>-128.866852</td>\n",
       "      <td>-91.164093</td>\n",
       "      <td>-23.240213</td>\n",
       "      <td>-45.737471</td>\n",
       "      <td>-151.364110</td>\n",
       "      <td>...</td>\n",
       "      <td>None</td>\n",
       "      <td>None</td>\n",
       "      <td>None</td>\n",
       "      <td>None</td>\n",
       "      <td>None</td>\n",
       "      <td>None</td>\n",
       "      <td>None</td>\n",
       "      <td>None</td>\n",
       "      <td>None</td>\n",
       "      <td>None</td>\n",
       "    </tr>\n",
       "    <tr>\n",
       "      <th>1</th>\n",
       "      <td>67.563892</td>\n",
       "      <td>119.696343</td>\n",
       "      <td>52.132450</td>\n",
       "      <td>52.132450</td>\n",
       "      <td>-121.154503</td>\n",
       "      <td>-69.022053</td>\n",
       "      <td>-48.828172</td>\n",
       "      <td>-23.240213</td>\n",
       "      <td>-39.253797</td>\n",
       "      <td>-85.035636</td>\n",
       "      <td>...</td>\n",
       "      <td>None</td>\n",
       "      <td>None</td>\n",
       "      <td>None</td>\n",
       "      <td>None</td>\n",
       "      <td>None</td>\n",
       "      <td>None</td>\n",
       "      <td>None</td>\n",
       "      <td>None</td>\n",
       "      <td>None</td>\n",
       "      <td>None</td>\n",
       "    </tr>\n",
       "    <tr>\n",
       "      <th>2</th>\n",
       "      <td>64.866111</td>\n",
       "      <td>156.221696</td>\n",
       "      <td>91.355585</td>\n",
       "      <td>91.355585</td>\n",
       "      <td>-121.154503</td>\n",
       "      <td>-29.798918</td>\n",
       "      <td>-21.080606</td>\n",
       "      <td>-23.240213</td>\n",
       "      <td>-32.770123</td>\n",
       "      <td>-39.328828</td>\n",
       "      <td>...</td>\n",
       "      <td>None</td>\n",
       "      <td>None</td>\n",
       "      <td>None</td>\n",
       "      <td>None</td>\n",
       "      <td>None</td>\n",
       "      <td>None</td>\n",
       "      <td>None</td>\n",
       "      <td>None</td>\n",
       "      <td>None</td>\n",
       "      <td>None</td>\n",
       "    </tr>\n",
       "    <tr>\n",
       "      <th>3</th>\n",
       "      <td>64.961369</td>\n",
       "      <td>147.942374</td>\n",
       "      <td>82.981005</td>\n",
       "      <td>82.981005</td>\n",
       "      <td>-121.154503</td>\n",
       "      <td>-38.173498</td>\n",
       "      <td>-27.005023</td>\n",
       "      <td>-23.240213</td>\n",
       "      <td>-32.770123</td>\n",
       "      <td>-47.703407</td>\n",
       "      <td>...</td>\n",
       "      <td>None</td>\n",
       "      <td>None</td>\n",
       "      <td>None</td>\n",
       "      <td>None</td>\n",
       "      <td>None</td>\n",
       "      <td>None</td>\n",
       "      <td>None</td>\n",
       "      <td>None</td>\n",
       "      <td>None</td>\n",
       "      <td>None</td>\n",
       "    </tr>\n",
       "    <tr>\n",
       "      <th>4</th>\n",
       "      <td>99.970927</td>\n",
       "      <td>86.275555</td>\n",
       "      <td>-13.695372</td>\n",
       "      <td>-13.695372</td>\n",
       "      <td>-121.154503</td>\n",
       "      <td>-134.849875</td>\n",
       "      <td>-95.396654</td>\n",
       "      <td>-23.240213</td>\n",
       "      <td>-45.737471</td>\n",
       "      <td>-157.347133</td>\n",
       "      <td>...</td>\n",
       "      <td>None</td>\n",
       "      <td>None</td>\n",
       "      <td>None</td>\n",
       "      <td>None</td>\n",
       "      <td>None</td>\n",
       "      <td>None</td>\n",
       "      <td>None</td>\n",
       "      <td>None</td>\n",
       "      <td>None</td>\n",
       "      <td>None</td>\n",
       "    </tr>\n",
       "    <tr>\n",
       "      <th>...</th>\n",
       "      <td>...</td>\n",
       "      <td>...</td>\n",
       "      <td>...</td>\n",
       "      <td>...</td>\n",
       "      <td>...</td>\n",
       "      <td>...</td>\n",
       "      <td>...</td>\n",
       "      <td>...</td>\n",
       "      <td>...</td>\n",
       "      <td>...</td>\n",
       "      <td>...</td>\n",
       "      <td>...</td>\n",
       "      <td>...</td>\n",
       "      <td>...</td>\n",
       "      <td>...</td>\n",
       "      <td>...</td>\n",
       "      <td>...</td>\n",
       "      <td>...</td>\n",
       "      <td>...</td>\n",
       "      <td>...</td>\n",
       "      <td>...</td>\n",
       "    </tr>\n",
       "    <tr>\n",
       "      <th>233</th>\n",
       "      <td>NaN</td>\n",
       "      <td>NaN</td>\n",
       "      <td>NaN</td>\n",
       "      <td>NaN</td>\n",
       "      <td>NaN</td>\n",
       "      <td>NaN</td>\n",
       "      <td>NaN</td>\n",
       "      <td>NaN</td>\n",
       "      <td>NaN</td>\n",
       "      <td>NaN</td>\n",
       "      <td>...</td>\n",
       "      <td>None</td>\n",
       "      <td>None</td>\n",
       "      <td>None</td>\n",
       "      <td>None</td>\n",
       "      <td>None</td>\n",
       "      <td>None</td>\n",
       "      <td>None</td>\n",
       "      <td>None</td>\n",
       "      <td>None</td>\n",
       "      <td>None</td>\n",
       "    </tr>\n",
       "    <tr>\n",
       "      <th>234</th>\n",
       "      <td>NaN</td>\n",
       "      <td>NaN</td>\n",
       "      <td>NaN</td>\n",
       "      <td>NaN</td>\n",
       "      <td>NaN</td>\n",
       "      <td>NaN</td>\n",
       "      <td>NaN</td>\n",
       "      <td>NaN</td>\n",
       "      <td>NaN</td>\n",
       "      <td>NaN</td>\n",
       "      <td>...</td>\n",
       "      <td>None</td>\n",
       "      <td>None</td>\n",
       "      <td>None</td>\n",
       "      <td>None</td>\n",
       "      <td>None</td>\n",
       "      <td>None</td>\n",
       "      <td>None</td>\n",
       "      <td>None</td>\n",
       "      <td>None</td>\n",
       "      <td>None</td>\n",
       "    </tr>\n",
       "    <tr>\n",
       "      <th>235</th>\n",
       "      <td>64.542486</td>\n",
       "      <td>189.889012</td>\n",
       "      <td>125.346526</td>\n",
       "      <td>125.346526</td>\n",
       "      <td>-61.874472</td>\n",
       "      <td>63.472055</td>\n",
       "      <td>44.901945</td>\n",
       "      <td>-23.240213</td>\n",
       "      <td>-32.770123</td>\n",
       "      <td>53.942145</td>\n",
       "      <td>...</td>\n",
       "      <td>None</td>\n",
       "      <td>None</td>\n",
       "      <td>None</td>\n",
       "      <td>None</td>\n",
       "      <td>None</td>\n",
       "      <td>None</td>\n",
       "      <td>None</td>\n",
       "      <td>None</td>\n",
       "      <td>None</td>\n",
       "      <td>None</td>\n",
       "    </tr>\n",
       "    <tr>\n",
       "      <th>236</th>\n",
       "      <td>70.432301</td>\n",
       "      <td>185.880783</td>\n",
       "      <td>115.448482</td>\n",
       "      <td>115.448482</td>\n",
       "      <td>-61.874472</td>\n",
       "      <td>53.574010</td>\n",
       "      <td>37.899785</td>\n",
       "      <td>-23.240213</td>\n",
       "      <td>-32.770123</td>\n",
       "      <td>44.044100</td>\n",
       "      <td>...</td>\n",
       "      <td>None</td>\n",
       "      <td>None</td>\n",
       "      <td>None</td>\n",
       "      <td>None</td>\n",
       "      <td>None</td>\n",
       "      <td>None</td>\n",
       "      <td>None</td>\n",
       "      <td>None</td>\n",
       "      <td>None</td>\n",
       "      <td>None</td>\n",
       "    </tr>\n",
       "    <tr>\n",
       "      <th>237</th>\n",
       "      <td>NaN</td>\n",
       "      <td>NaN</td>\n",
       "      <td>NaN</td>\n",
       "      <td>NaN</td>\n",
       "      <td>NaN</td>\n",
       "      <td>NaN</td>\n",
       "      <td>NaN</td>\n",
       "      <td>NaN</td>\n",
       "      <td>NaN</td>\n",
       "      <td>NaN</td>\n",
       "      <td>...</td>\n",
       "      <td>None</td>\n",
       "      <td>None</td>\n",
       "      <td>None</td>\n",
       "      <td>None</td>\n",
       "      <td>None</td>\n",
       "      <td>None</td>\n",
       "      <td>None</td>\n",
       "      <td>None</td>\n",
       "      <td>None</td>\n",
       "      <td>None</td>\n",
       "    </tr>\n",
       "  </tbody>\n",
       "</table>\n",
       "<p>238 rows × 228 columns</p>\n",
       "</div>"
      ],
      "text/plain": [
       "      PEBedarf    PEExport     PESaldo  \\\n",
       "0    96.172054   88.459705   -7.712349   \n",
       "1    67.563892  119.696343   52.132450   \n",
       "2    64.866111  156.221696   91.355585   \n",
       "3    64.961369  147.942374   82.981005   \n",
       "4    99.970927   86.275555  -13.695372   \n",
       "..         ...         ...         ...   \n",
       "233        NaN         NaN         NaN   \n",
       "234        NaN         NaN         NaN   \n",
       "235  64.542486  189.889012  125.346526   \n",
       "236  70.432301  185.880783  115.448482   \n",
       "237        NaN         NaN         NaN   \n",
       "\n",
       "     Alpha - PE-Saldo ohne Dichteausgleich [kWh/m²NGF]  \\\n",
       "0                                            -7.712349   \n",
       "1                                            52.132450   \n",
       "2                                            91.355585   \n",
       "3                                            82.981005   \n",
       "4                                           -13.695372   \n",
       "..                                                 ...   \n",
       "233                                                NaN   \n",
       "234                                                NaN   \n",
       "235                                         125.346526   \n",
       "236                                         115.448482   \n",
       "237                                                NaN   \n",
       "\n",
       "     Alpha - Dichteausgleich [kWh/m²NGF]  \\\n",
       "0                            -121.154503   \n",
       "1                            -121.154503   \n",
       "2                            -121.154503   \n",
       "3                            -121.154503   \n",
       "4                            -121.154503   \n",
       "..                                   ...   \n",
       "233                                  NaN   \n",
       "234                                  NaN   \n",
       "235                           -61.874472   \n",
       "236                           -61.874472   \n",
       "237                                  NaN   \n",
       "\n",
       "     Alpha - PE-Saldo mit Dichteausgleich [kWh/m²NGF]  \\\n",
       "0                                         -128.866852   \n",
       "1                                          -69.022053   \n",
       "2                                          -29.798918   \n",
       "3                                          -38.173498   \n",
       "4                                         -134.849875   \n",
       "..                                                ...   \n",
       "233                                               NaN   \n",
       "234                                               NaN   \n",
       "235                                         63.472055   \n",
       "236                                         53.574010   \n",
       "237                                               NaN   \n",
       "\n",
       "     Alpha -PE-Saldo mit Dichteausgleich [kWh/m²BGF]  \\\n",
       "0                                         -91.164093   \n",
       "1                                         -48.828172   \n",
       "2                                         -21.080606   \n",
       "3                                         -27.005023   \n",
       "4                                         -95.396654   \n",
       "..                                               ...   \n",
       "233                                              NaN   \n",
       "234                                              NaN   \n",
       "235                                        44.901945   \n",
       "236                                        37.899785   \n",
       "237                                              NaN   \n",
       "\n",
       "     Kontext-Faktor Erneuerbare Großkraftwerte [kWh/m²NGF]  \\\n",
       "0                                           -23.240213       \n",
       "1                                           -23.240213       \n",
       "2                                           -23.240213       \n",
       "3                                           -23.240213       \n",
       "4                                           -23.240213       \n",
       "..                                                 ...       \n",
       "233                                                NaN       \n",
       "234                                                NaN       \n",
       "235                                         -23.240213       \n",
       "236                                         -23.240213       \n",
       "237                                                NaN       \n",
       "\n",
       "     Fossile Alltagsmobilität[kWh/m²NGF]  PE-Bilanz Beta [kWh/m²NGF]  ...  \\\n",
       "0                             -45.737471                 -151.364110  ...   \n",
       "1                             -39.253797                  -85.035636  ...   \n",
       "2                             -32.770123                  -39.328828  ...   \n",
       "3                             -32.770123                  -47.703407  ...   \n",
       "4                             -45.737471                 -157.347133  ...   \n",
       "..                                   ...                         ...  ...   \n",
       "233                                  NaN                         NaN  ...   \n",
       "234                                  NaN                         NaN  ...   \n",
       "235                           -32.770123                   53.942145  ...   \n",
       "236                           -32.770123                   44.044100  ...   \n",
       "237                                  NaN                         NaN  ...   \n",
       "\n",
       "     None  None  None  None  None  None  None  dont fill, extend instead  \\\n",
       "0    None  None  None  None  None  None  None                       None   \n",
       "1    None  None  None  None  None  None  None                       None   \n",
       "2    None  None  None  None  None  None  None                       None   \n",
       "3    None  None  None  None  None  None  None                       None   \n",
       "4    None  None  None  None  None  None  None                       None   \n",
       "..    ...   ...   ...   ...   ...   ...   ...                        ...   \n",
       "233  None  None  None  None  None  None  None                       None   \n",
       "234  None  None  None  None  None  None  None                       None   \n",
       "235  None  None  None  None  None  None  None                       None   \n",
       "236  None  None  None  None  None  None  None                       None   \n",
       "237  None  None  None  None  None  None  None                       None   \n",
       "\n",
       "     None  None  \n",
       "0    None  None  \n",
       "1    None  None  \n",
       "2    None  None  \n",
       "3    None  None  \n",
       "4    None  None  \n",
       "..    ...   ...  \n",
       "233  None  None  \n",
       "234  None  None  \n",
       "235  None  None  \n",
       "236  None  None  \n",
       "237  None  None  \n",
       "\n",
       "[238 rows x 228 columns]"
      ]
     },
     "execution_count": 37,
     "metadata": {},
     "output_type": "execute_result"
    }
   ],
   "source": [
    "df1\n",
    "df1[\"PEBedarf\"] = - df1[\"PEBedarf\"] \n",
    "df1"
   ]
  },
  {
   "cell_type": "markdown",
   "metadata": {
    "pycharm": {
     "name": "#%% md\n"
    }
   },
   "source": [
    "Zuerst einmal ein Sanity check:\n",
    "In welchen Input Kategorien unterscheiden sich die Varianten nicht?"
   ]
  },
  {
   "cell_type": "code",
   "execution_count": 38,
   "metadata": {
    "pycharm": {
     "name": "#%%\n"
    }
   },
   "outputs": [
    {
     "data": {
      "text/plain": [
       "array(['Aichinger', 'Am Bichl', 'Gneis', 'Graz', 'Pilzgasse', None,\n",
       "       'Glan', 'Graz16'], dtype=object)"
      ]
     },
     "execution_count": 38,
     "metadata": {},
     "output_type": "execute_result"
    }
   ],
   "source": [
    "projects = df_inputs.Projekt.unique()\n",
    "projects"
   ]
  },
  {
   "cell_type": "code",
   "execution_count": 39,
   "metadata": {
    "pycharm": {
     "name": "#%%\n"
    }
   },
   "outputs": [
    {
     "data": {
      "text/plain": [
       "array(['Alpha - Bauträger Standard', 'Alpha - Aktuell',\n",
       "       'Alpha - Netzdienlichkeit', 'Alpha - Min PEQ',\n",
       "       'Beta - Bauträger Standard', 'Beta - Aktuell',\n",
       "       'Beta - Netzdienlichkeit', 'Beta - Min PEQ',\n",
       "       'Omega - Bauträger Standard', 'Omega - Aktuell',\n",
       "       'Omega - Netzdienlichkeit', 'Omega - Min PEQ',\n",
       "       'Alpha - Min PEQ - 75% Nutzerstrom',\n",
       "       'Beta - Min PEQ - 75% Nutzerstrom',\n",
       "       'Omega - Min PEQ - Nutzerstrom 75%',\n",
       "       'Beta - Min PEQ - Nutzerstrom 75%',\n",
       "       'Omega - Min PEQ - 75% Nutzerstrom', 'Alpha - Bauträger',\n",
       "       'Beta - Bauträger', 'Beta - Akutell', 'Omega - Bauträger',\n",
       "       'Omega - Akutell',\n",
       "       'Alpha - Pilzgasse Manfred mit Netzdienlichkeit',\n",
       "       'Alpha - Pilzgasse Manfred mit Netzdienlichkeit Wind 2017',\n",
       "       'Alpha - Pilzgasse Manfred mit Netzdienlichkeit Wind 2018',\n",
       "       'Alpha - Pilzgasse Manfred mit Netzdienlichkeit Wind 2019',\n",
       "       'Alpha - Pilzgasse Manfred mit Netzdienlichkeit Wind 2020', None,\n",
       "       'Aichinger GFZ 0,5 Alpha - Netzdienlichkeit',\n",
       "       'Aichinger GFZ 0,5 Beta - Netzdienlichkeit'], dtype=object)"
      ]
     },
     "execution_count": 39,
     "metadata": {},
     "output_type": "execute_result"
    }
   ],
   "source": [
    "varianten = df_inputs.Variantenname.unique()\n",
    "varianten\n"
   ]
  },
  {
   "cell_type": "code",
   "execution_count": 25,
   "metadata": {
    "pycharm": {
     "name": "#%%\n"
    }
   },
   "outputs": [
    {
     "data": {
      "text/plain": [
       "(array(['Bauträger Standard', 'Aktuell', 'Hybridbauweise',\n",
       "        'Graz Bauträger Standard', 'Graz Aktuelle Planung', 'ZQ2 P33',\n",
       "        None], dtype=object),\n",
       " 7)"
      ]
     },
     "execution_count": 25,
     "metadata": {},
     "output_type": "execute_result"
    }
   ],
   "source": [
    "bauweisen = df_inputs[\"Gewählte Variante\"].unique()\n",
    "bauweisen, len(bauweisen)"
   ]
  },
  {
   "cell_type": "code",
   "execution_count": 40,
   "metadata": {
    "pycharm": {
     "name": "#%%\n"
    }
   },
   "outputs": [
    {
     "data": {
      "text/plain": [
       "(array([0.58      , 0.6       , 0.96059388, 0.8       ,        nan,\n",
       "        0.9       ]),\n",
       " 6)"
      ]
     },
     "execution_count": 40,
     "metadata": {},
     "output_type": "execute_result"
    }
   ],
   "source": [
    "sonnenschutz = df_inputs[\"Mobiler Sommerlicher Sonnenschutz\"].unique()\n",
    "sonnenschutz, len(sonnenschutz)\n"
   ]
  },
  {
   "cell_type": "code",
   "execution_count": 41,
   "metadata": {
    "pycharm": {
     "name": "#%%\n"
    }
   },
   "outputs": [],
   "source": [
    "view2 = df2[df2.idx.isin([1.,5.,9.])].copy()\n",
    "view3 = df3[df3.idx.isin([2.,6.,10.])].copy()\n",
    "view4 = df4[df4.idx.isin([3.,4.0,4.5,7.,8.,8.5,11.,12.,12.5])].copy()\n",
    "view = pd.concat([view2,view3, view4])"
   ]
  },
  {
   "cell_type": "code",
   "execution_count": 42,
   "metadata": {
    "pycharm": {
     "name": "#%%\n"
    }
   },
   "outputs": [],
   "source": [
    "view = view[view.FILE != \"None\"]"
   ]
  },
  {
   "cell_type": "code",
   "execution_count": 43,
   "metadata": {
    "pycharm": {
     "name": "#%%\n"
    }
   },
   "outputs": [],
   "source": [
    "aggbook.sheets[\"Varianten\"][\"A1\"].value     = view"
   ]
  },
  {
   "cell_type": "code",
   "execution_count": 48,
   "metadata": {
    "pycharm": {
     "name": "#%%\n"
    }
   },
   "outputs": [
    {
     "name": "stderr",
     "output_type": "stream",
     "text": [
      "C:\\Users\\Simon Schneider\\AppData\\Local\\Temp\\ipykernel_16548\\3131556990.py:4: SettingWithCopyWarning: \n",
      "A value is trying to be set on a copy of a slice from a DataFrame.\n",
      "Try using .loc[row_indexer,col_indexer] = value instead\n",
      "\n",
      "See the caveats in the documentation: https://pandas.pydata.org/pandas-docs/stable/user_guide/indexing.html#returning-a-view-versus-a-copy\n",
      "  alfa[\"PEBedarf\"] = -alfa[\"PEBedarf\"]\n"
     ]
    }
   ],
   "source": [
    "import seaborn as sns\n",
    "\n",
    "alfa = view[view[\"Variantenname\"].str.contains(\"Alpha\")]\n",
    "alfa[\"PEBedarf\"] = -alfa[\"PEBedarf\"]"
   ]
  },
  {
   "cell_type": "code",
   "execution_count": 49,
   "metadata": {
    "pycharm": {
     "name": "#%%\n"
    }
   },
   "outputs": [
    {
     "data": {
      "text/plain": [
       "<AxesSubplot:xlabel='PEBedarf', ylabel='PEExport'>"
      ]
     },
     "execution_count": 49,
     "metadata": {},
     "output_type": "execute_result"
    },
    {
     "data": {
      "image/png": "[encoded data removed]",
      "text/plain": [
       "<Figure size 640x480 with 1 Axes>"
      ]
     },
     "metadata": {},
     "output_type": "display_data"
    }
   ],
   "source": [
    "sns.scatterplot(data=alfa,\n",
    "            x=\"PEBedarf\",\n",
    "            y=\"PEExport\",\n",
    "            hue=\"Projekt\")"
   ]
  },
  {
   "cell_type": "code",
   "execution_count": 32,
   "metadata": {
    "pycharm": {
     "name": "#%%\n"
    }
   },
   "outputs": [
    {
     "data": {
      "text/plain": [
       "(-126.79530123469388, 88.4597052992049)"
      ]
     },
     "execution_count": 32,
     "metadata": {},
     "output_type": "execute_result"
    }
   ],
   "source": [
    "from utils.targets import target\n",
    "var = alfa.iloc[0]\n",
    "# var\n",
    "peb = var[\"PEBedarf\"]\n",
    "pee = var[\"PEExport\"]\n",
    "peb, pee"
   ]
  },
  {
   "cell_type": "code",
   "execution_count": 33,
   "metadata": {
    "pycharm": {
     "name": "#%%\n"
    }
   },
   "outputs": [
    {
     "data": {
      "text/plain": [
       "PEBedarf                                            -126.795301\n",
       "PEExport                                              88.459705\n",
       "PESaldo                                              -38.335596\n",
       "Alpha - PE-Saldo ohne Dichteausgleich [kWh/m²NGF]    -38.335596\n",
       "Alpha - Dichteausgleich [kWh/m²NGF]                 -121.154503\n",
       "                                                        ...    \n",
       "None                                                       None\n",
       "None                                                       None\n",
       "dont fill, extend instead                                  None\n",
       "None                                                       None\n",
       "None                                                       None\n",
       "Name: 0, Length: 228, dtype: object"
      ]
     },
     "execution_count": 33,
     "metadata": {},
     "output_type": "execute_result"
    }
   ],
   "source": [
    "var"
   ]
  },
  {
   "cell_type": "code",
   "execution_count": 34,
   "metadata": {
    "pycharm": {
     "name": "#%%\n"
    }
   },
   "outputs": [
    {
     "data": {
      "text/plain": [
       "107.13519616390583"
      ]
     },
     "execution_count": 34,
     "metadata": {},
     "output_type": "execute_result"
    }
   ],
   "source": [
    "from utils.targets import Zielwert\n",
    "za = Zielwert.ZQSynergy().alpha(var[\"GFZ\"])\n",
    "\n",
    "za"
   ]
  }
 ],
 "metadata": {
  "kernelspec": {
   "display_name": "Python 3 (ipykernel)",
   "language": "python",
   "name": "python3"
  },
  "language_info": {
   "codemirror_mode": {
    "name": "ipython",
    "version": 3
   },
   "file_extension": ".py",
   "mimetype": "text/x-python",
   "name": "python",
   "nbconvert_exporter": "python",
   "pygments_lexer": "ipython3",
   "version": "3.9.12"
  }
 },
 "nbformat": 4,
 "nbformat_minor": 1
}
