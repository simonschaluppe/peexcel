{
 "cells": [
  {
   "cell_type": "code",
   "execution_count": 30,
   "metadata": {},
   "outputs": [
    {
     "data": {
      "text/plain": [
       "{'Icon': nan,\n",
       " 'Name': 'Geschoßanzahl',\n",
       " 'Einheit': nan,\n",
       " 'Kommentar': nan,\n",
       " 'Type': nan,\n",
       " 'var_name': nan,\n",
       " 'ka': 0.0,\n",
       " 'values': {'Kurze ID_2': 4.410751206064783,\n",
       "  'Kurze ID_2_2_2_2': 4.410751206064783}}"
      ]
     },
     "execution_count": 30,
     "metadata": {},
     "output_type": "execute_result"
    }
   ],
   "source": [
    "import pandas as pd\n",
    "\n",
    "df = pd.read_excel(\"../IN_Export.xlsx\", sheet_name=\"IN\")\n",
    "\n",
    "def parse_inputs(df):\n",
    "    \"\"\"Parses input rows into a nested dictionary keyed by 'var_name' (or 'Name'), with base fields and scenario values.\"\"\"\n",
    "    inputs = {}\n",
    "    \n",
    "    base_header = [\"Icon\", \"Name\", \"Einheit\", \"Kommentar\", \"Type\", \"var_name\", \"ka\"]\n",
    "    scenarios = [c for c in df.columns if c not in base_header]\n",
    "\n",
    "    for _, row in df.iterrows():\n",
    "        key = row[\"var_name\"] if pd.notna(row.get(\"var_name\")) else row.get(\"Name\")\n",
    "        if pd.isna(key):\n",
    "            continue  # Skip unnamed rows\n",
    "\n",
    "        inputs[key] = {field: row[field] for field in base_header if field in df.columns}\n",
    "        inputs[key][\"values\"] = {scenario: row[scenario] for scenario in scenarios}\n",
    "\n",
    "    return inputs\n",
    "\n",
    "d = parse_inputs(df)\n",
    "d[\"Geschoßanzahl\"]"
   ]
  },
  {
   "cell_type": "code",
   "execution_count": 33,
   "metadata": {},
   "outputs": [],
   "source": [
    "# === Save to JSON ===\n",
    "import json\n",
    "def convert(o):\n",
    "    if isinstance(o, pd.Timestamp):\n",
    "        return o.isoformat()\n",
    "    elif hasattr(o, 'isoformat'):\n",
    "        return o.isoformat()\n",
    "    return str(o)\n",
    "\n",
    "with open(\"inputs_parsed.json\", \"w\", encoding=\"utf-8\") as f:\n",
    "    json.dump(d, f, indent=2, ensure_ascii=False, default=convert)"
   ]
  },
  {
   "cell_type": "code",
   "execution_count": 4,
   "metadata": {},
   "outputs": [
    {
     "data": {
      "text/plain": [
       "<peexcel.utils.excel.Project at 0x1990c3e1750>"
      ]
     },
     "execution_count": 4,
     "metadata": {},
     "output_type": "execute_result"
    }
   ],
   "source": [
    "%reload_ext autoreload\n",
    "%autoreload 2\n",
    " \n",
    "from peexcel.utils import excel\n",
    "pee = excel.Project()\n",
    "pee\n"
   ]
  }
 ],
 "metadata": {
  "kernelspec": {
   "display_name": "base",
   "language": "python",
   "name": "python3"
  },
  "language_info": {
   "codemirror_mode": {
    "name": "ipython",
    "version": 3
   },
   "file_extension": ".py",
   "mimetype": "text/x-python",
   "name": "python",
   "nbconvert_exporter": "python",
   "pygments_lexer": "ipython3",
   "version": "3.11.4"
  }
 },
 "nbformat": 4,
 "nbformat_minor": 2
}
