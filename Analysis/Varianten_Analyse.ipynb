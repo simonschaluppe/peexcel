{
 "cells": [
  {
   "cell_type": "code",
   "execution_count": 1,
   "metadata": {
    "pycharm": {
     "name": "#%%\n"
    }
   },
   "outputs": [],
   "source": [
    "import matplotlib.pyplot as plt\n",
    "import numpy as np\n",
    "import pandas as pd\n",
    "import seaborn as sns\n",
    "\n",
    "from pathlib import Path\n",
    "\n"
   ]
  },
  {
   "cell_type": "markdown",
   "metadata": {
    "pycharm": {
     "name": "#%% md\n"
    }
   },
   "source": [
    "## Zielwert ZQ Synergy\n",
    "\n",
    "#### Vorschlag Oktober 2021\n",
    "$PE(GFZ)= min( 1,63*(\\frac{35.2}{GFZ+0,15}-27.3) ; 100) $     $[kWh_{PE}/m²_{BGF}a]$\n",
    "\n",
    "### Letztstand (23.11.2021)\n",
    "Bezogen auf BGF:\n",
    "$PE(GFZ)= min( \\frac{30.4}{GFZ+0,15}-26.4) ; 100)  kWh_{PE}/m²_{BGF}a$\n",
    "\n",
    "Bezogen auf NGF:\n",
    "$PE(GFZ)= min( \\frac{38}{GFZ+0,15}-33) ; 125) kWh_{PE}/m²_{NGF}a$\n"
   ]
  },
  {
   "cell_type": "code",
   "execution_count": 2,
   "metadata": {
    "pycharm": {
     "name": "#%%\n"
    }
   },
   "outputs": [],
   "source": [
    "# ZQ Austria Vorschlag\n",
    "\n",
    "GFZ = np.linspace(0.0, 8, 500) #min, max, steps\n",
    "from utils.targets import Zielwert"
   ]
  },
  {
   "cell_type": "code",
   "execution_count": 3,
   "metadata": {
    "pycharm": {
     "name": "#%%\n"
    }
   },
   "outputs": [
    {
     "data": {
      "text/plain": [
       "Text(0, 0.5, 'PE-Balance $[{kWh/m²_{NGF}a}]$')"
      ]
     },
     "execution_count": 3,
     "metadata": {},
     "output_type": "execute_result"
    },
    {
     "data": {
      "image/png": "[encoded data removed]",
      "text/plain": [
       "<Figure size 720x432 with 1 Axes>"
      ]
     },
     "metadata": {
      "needs_background": "light"
     },
     "output_type": "display_data"
    }
   ],
   "source": [
    "PEQ_alfa_NGF = pd.DataFrame({\n",
    "    \"Positive Energy Balance\":np.zeros(len(GFZ)),\n",
    "    \"ZQ Synergy\": Zielwert.ZQSynergy().alpha(GFZ),\n",
    "    # \"ZQ Synergy (Vorschlag Simon I 21.11.)\": target(GFZ, dx=0.18, EUI=30),\n",
    "    # \"ZQ Synergy (Vorschlag Simon II 21.11.)\": target(GFZ, dx=0.25, A=40, EUI=30),\n",
    "}, index=GFZ)\n",
    "\n",
    "PEQ_alfa = PEQ_alfa_NGF * 0.8\n",
    "\n",
    "\n",
    "from utils.plotting import target_of_gfz\n",
    "fig, ax = plt.subplots(1,1, figsize=(10,6))\n",
    "target_of_gfz(ax, df=PEQ_alfa_NGF)\n",
    "ax.set_ylabel(\"PE-Balance $[{kWh/m²_{NGF}a}]$\")\n"
   ]
  },
  {
   "cell_type": "code",
   "execution_count": 4,
   "metadata": {
    "pycharm": {
     "name": "#%%\n"
    }
   },
   "outputs": [
    {
     "data": {
      "text/html": [
       "<div>\n",
       "<style scoped>\n",
       "    .dataframe tbody tr th:only-of-type {\n",
       "        vertical-align: middle;\n",
       "    }\n",
       "\n",
       "    .dataframe tbody tr th {\n",
       "        vertical-align: top;\n",
       "    }\n",
       "\n",
       "    .dataframe thead th {\n",
       "        text-align: right;\n",
       "    }\n",
       "</style>\n",
       "<table border=\"1\" class=\"dataframe\">\n",
       "  <thead>\n",
       "    <tr style=\"text-align: right;\">\n",
       "      <th></th>\n",
       "      <th>Positive Energy Balance</th>\n",
       "      <th>ZQ Synergy</th>\n",
       "    </tr>\n",
       "  </thead>\n",
       "  <tbody>\n",
       "    <tr>\n",
       "      <th>0.000000</th>\n",
       "      <td>0.0</td>\n",
       "      <td>125.000000</td>\n",
       "    </tr>\n",
       "    <tr>\n",
       "      <th>0.016032</th>\n",
       "      <td>0.0</td>\n",
       "      <td>125.000000</td>\n",
       "    </tr>\n",
       "    <tr>\n",
       "      <th>0.032064</th>\n",
       "      <td>0.0</td>\n",
       "      <td>125.000000</td>\n",
       "    </tr>\n",
       "    <tr>\n",
       "      <th>0.048096</th>\n",
       "      <td>0.0</td>\n",
       "      <td>125.000000</td>\n",
       "    </tr>\n",
       "    <tr>\n",
       "      <th>0.064128</th>\n",
       "      <td>0.0</td>\n",
       "      <td>125.000000</td>\n",
       "    </tr>\n",
       "    <tr>\n",
       "      <th>...</th>\n",
       "      <td>...</td>\n",
       "      <td>...</td>\n",
       "    </tr>\n",
       "    <tr>\n",
       "      <th>7.935872</th>\n",
       "      <td>0.0</td>\n",
       "      <td>-46.129725</td>\n",
       "    </tr>\n",
       "    <tr>\n",
       "      <th>7.951904</th>\n",
       "      <td>0.0</td>\n",
       "      <td>-46.144883</td>\n",
       "    </tr>\n",
       "    <tr>\n",
       "      <th>7.967936</th>\n",
       "      <td>0.0</td>\n",
       "      <td>-46.159982</td>\n",
       "    </tr>\n",
       "    <tr>\n",
       "      <th>7.983968</th>\n",
       "      <td>0.0</td>\n",
       "      <td>-46.175020</td>\n",
       "    </tr>\n",
       "    <tr>\n",
       "      <th>8.000000</th>\n",
       "      <td>0.0</td>\n",
       "      <td>-46.190000</td>\n",
       "    </tr>\n",
       "  </tbody>\n",
       "</table>\n",
       "<p>500 rows × 2 columns</p>\n",
       "</div>"
      ],
      "text/plain": [
       "          Positive Energy Balance  ZQ Synergy\n",
       "0.000000                      0.0  125.000000\n",
       "0.016032                      0.0  125.000000\n",
       "0.032064                      0.0  125.000000\n",
       "0.048096                      0.0  125.000000\n",
       "0.064128                      0.0  125.000000\n",
       "...                           ...         ...\n",
       "7.935872                      0.0  -46.129725\n",
       "7.951904                      0.0  -46.144883\n",
       "7.967936                      0.0  -46.159982\n",
       "7.983968                      0.0  -46.175020\n",
       "8.000000                      0.0  -46.190000\n",
       "\n",
       "[500 rows x 2 columns]"
      ]
     },
     "execution_count": 4,
     "metadata": {},
     "output_type": "execute_result"
    }
   ],
   "source": [
    "PEQ_alfa_NGF\n"
   ]
  },
  {
   "cell_type": "markdown",
   "metadata": {
    "pycharm": {
     "name": "#%% md\n"
    }
   },
   "source": []
  },
  {
   "cell_type": "code",
   "execution_count": 5,
   "metadata": {
    "pycharm": {
     "name": "#%%\n"
    }
   },
   "outputs": [
    {
     "name": "stdout",
     "output_type": "stream",
     "text": [
      "<class 'pandas.core.frame.DataFrame'>\n",
      "RangeIndex: 907 entries, 0 to 906\n",
      "Columns: 380 entries, Name to Umweltenergiepotential Straße/Gehweg [MWh/a]\n",
      "dtypes: bool(13), float64(255), int64(90), object(22)\n",
      "memory usage: 2.6+ MB\n"
     ]
    }
   ],
   "source": [
    "# get Varianten excel from nextcloud\n",
    "import utils.nextcloud\n",
    "\n",
    "\n",
    "nc_path = r\"EE\\1_Forschung\\2_Laufend\\Plusenergie-Campus Energybase 2.0 (Sdz 9)\\4_Quartier\\PEExcel_final\\PEC Varianten.xlsx\"\n",
    "path = Path(nc_path)\n",
    "excel = utils.nextcloud.get(path)\n",
    "df = pd.read_excel(excel)\n",
    "df.info()"
   ]
  },
  {
   "cell_type": "markdown",
   "metadata": {
    "pycharm": {
     "name": "#%% md\n"
    }
   },
   "source": [
    "Identify the required columns"
   ]
  },
  {
   "cell_type": "code",
   "execution_count": 6,
   "metadata": {
    "pycharm": {
     "name": "#%%\n"
    }
   },
   "outputs": [
    {
     "name": "stdout",
     "output_type": "stream",
     "text": [
      "Index(['Name', 'Quartier', 'depth', 'Linie', 'Forschungsprojekt', 'Land',\n",
      "       'Stadt', 'Variante', 'Mikroquartier', 'Generation',\n",
      "       ...\n",
      "       'Primärenergiesaldo ohne Dichteausgleich [kWh/m²NGFa]2',\n",
      "       'PE-Saldo Ziel NGF [kWh/m²NGFa]2',\n",
      "       'PE-Anforderung erreicht? Werte inkl. Dichtebonus [kWh/m²NGFa]2',\n",
      "       'PE-Saldo Ziel BGF default (NGF/BGF=0,8) [kWh/m²BGFa]2',\n",
      "       'PE-Saldo Ziel BGF real (NGF/BGF=0,85) [kWh/m²BGFa]2',\n",
      "       'Heizenergie [MWh/a]', 'Kühlenergie [MWh/a]',\n",
      "       'Umweltenergiepotential Freifläche [MWh/a]',\n",
      "       'Umweltenergiepotential Innenhof [MWh/a]',\n",
      "       'Umweltenergiepotential Straße/Gehweg [MWh/a]'],\n",
      "      dtype='object', length=380)\n"
     ]
    }
   ],
   "source": [
    "print(df.columns)"
   ]
  },
  {
   "cell_type": "code",
   "execution_count": 7,
   "metadata": {
    "pycharm": {
     "name": "#%%\n"
    }
   },
   "outputs": [
    {
     "name": "stdout",
     "output_type": "stream",
     "text": [
      "missing columns:\n"
     ]
    }
   ],
   "source": [
    "available = set(df.columns)\n",
    "\n",
    "PEB_varname = \"Primärenergiesaldo ohne Dichteausgleich [kWh/m²NGFa]2\"\n",
    "PEB_Zielwert_varname = \"PE-Saldo Ziel NGF [kWh/m²NGFa]2\"\n",
    "GFZ_varname = \"GFZ [-]\"\n",
    "\n",
    "required = {\n",
    "    \"Name\",\n",
    "\n",
    "    \"Mikroquartier\",\n",
    "    \"Gebäudehülle\",\n",
    "    \"Lüftung mit WRG\",\n",
    "    \"PV\",\n",
    "    \"JAZ\",\n",
    "    \"Reduktion Nutzerstrom\",\n",
    "    \"ecars\",\n",
    "    \"WPS\",\n",
    "    \"Klima\",\n",
    "\n",
    "    GFZ_varname,\n",
    "    PEB_varname,\n",
    "    PEB_Zielwert_varname,\n",
    "    'Heizenergie [MWh/a]',\n",
    "    'Kühlenergie [MWh/a]',\n",
    "    # 'Umweltenergiepotential auf Grundstück [MWh/a]',\n",
    "\n",
    "}\n",
    "missing = required - available\n",
    "print(\"missing columns:\")\n",
    "for miss in missing:\n",
    "    print(miss)\n"
   ]
  },
  {
   "cell_type": "code",
   "execution_count": 8,
   "metadata": {
    "pycharm": {
     "name": "#%%\n"
    }
   },
   "outputs": [
    {
     "name": "stdout",
     "output_type": "stream",
     "text": [
      "PEBedarf [kWh/m²NGFa]43\n",
      "CO2,PE Profil\n",
      "PEBedarf [kWh/m²NGFa]\n",
      "PEExport [kWh/m²NGFa]\n",
      "PESaldo [kWh/m²NGFa]\n",
      "PEBedarf [kWh/m²NGFa]45\n",
      "PEExport [kWh/m²NGFa]46\n",
      "PESaldo [kWh/m²NGFa]47\n",
      "PEBedarf [kWh/m²NGFa]57\n",
      "PEExport [kWh/m²NGFa]58\n",
      "PESaldo [kWh/m²NGFa]59\n",
      "PE-Saldo Ziel NGF [kWh/m²NGFa]\n",
      "PE-Anforderung erreicht? Werte inkl. Dichtebonus [kWh/m²NGFa]\n",
      "PE-Saldo Ziel BGF default (NGF/BGF=0,8) [kWh/m²BGFa]\n",
      "PE-Saldo Ziel BGF real (NGF/BGF=0,85) [kWh/m²BGFa]\n",
      "PEBedarf [kWh/m²NGFa]2\n",
      "PEExport [kWh/m²NGFa]2\n",
      "PESaldo [kWh/m²NGFa]2\n",
      "PE-Saldo Ziel NGF [kWh/m²NGFa]2\n",
      "PE-Anforderung erreicht? Werte inkl. Dichtebonus [kWh/m²NGFa]2\n",
      "PE-Saldo Ziel BGF default (NGF/BGF=0,8) [kWh/m²BGFa]2\n",
      "PE-Saldo Ziel BGF real (NGF/BGF=0,85) [kWh/m²BGFa]2\n"
     ]
    }
   ],
   "source": [
    "for c in df.columns:\n",
    "    if \"PE\" in c:\n",
    "        print(c)"
   ]
  },
  {
   "cell_type": "code",
   "execution_count": 9,
   "metadata": {
    "pycharm": {
     "name": "#%%\n"
    }
   },
   "outputs": [
    {
     "ename": "NameError",
     "evalue": "name 'plot_context_factor' is not defined",
     "output_type": "error",
     "traceback": [
      "\u001b[1;31m---------------------------------------------------------------------------\u001b[0m",
      "\u001b[1;31mNameError\u001b[0m                                 Traceback (most recent call last)",
      "\u001b[1;32m~\\AppData\\Local\\Temp/ipykernel_6552/2417007986.py\u001b[0m in \u001b[0;36m<module>\u001b[1;34m\u001b[0m\n\u001b[0;32m      1\u001b[0m \u001b[0mfig\u001b[0m\u001b[1;33m,\u001b[0m \u001b[0max\u001b[0m \u001b[1;33m=\u001b[0m \u001b[0mplt\u001b[0m\u001b[1;33m.\u001b[0m\u001b[0msubplots\u001b[0m\u001b[1;33m(\u001b[0m\u001b[1;36m1\u001b[0m\u001b[1;33m,\u001b[0m\u001b[1;36m1\u001b[0m\u001b[1;33m,\u001b[0m \u001b[0mfigsize\u001b[0m\u001b[1;33m=\u001b[0m\u001b[1;33m(\u001b[0m\u001b[1;36m10\u001b[0m\u001b[1;33m,\u001b[0m\u001b[1;36m6\u001b[0m\u001b[1;33m)\u001b[0m\u001b[1;33m)\u001b[0m\u001b[1;33m\u001b[0m\u001b[1;33m\u001b[0m\u001b[0m\n\u001b[1;32m----> 2\u001b[1;33m \u001b[0mplot_context_factor\u001b[0m\u001b[1;33m(\u001b[0m\u001b[0max\u001b[0m\u001b[1;33m,\u001b[0m \u001b[0mdf\u001b[0m\u001b[1;33m=\u001b[0m\u001b[0mPEQ_alfa\u001b[0m\u001b[1;33m,\u001b[0m \u001b[0mylims\u001b[0m\u001b[1;33m=\u001b[0m\u001b[1;33m(\u001b[0m\u001b[1;33m-\u001b[0m\u001b[1;36m200\u001b[0m\u001b[1;33m,\u001b[0m\u001b[1;36m100\u001b[0m\u001b[1;33m)\u001b[0m\u001b[1;33m)\u001b[0m\u001b[1;33m\u001b[0m\u001b[1;33m\u001b[0m\u001b[0m\n\u001b[0m\u001b[0;32m      3\u001b[0m \u001b[0msns\u001b[0m\u001b[1;33m.\u001b[0m\u001b[0mset_palette\u001b[0m\u001b[1;33m(\u001b[0m\u001b[1;34m\"Set2\"\u001b[0m\u001b[1;33m)\u001b[0m \u001b[1;31m#\"Reds\"\u001b[0m\u001b[1;33m\u001b[0m\u001b[1;33m\u001b[0m\u001b[0m\n\u001b[0;32m      4\u001b[0m sns.scatterplot(ax=ax,\n\u001b[0;32m      5\u001b[0m                 \u001b[0mx\u001b[0m\u001b[1;33m=\u001b[0m\u001b[0mGFZ\u001b[0m\u001b[1;33m,\u001b[0m\u001b[1;33m\u001b[0m\u001b[1;33m\u001b[0m\u001b[0m\n",
      "\u001b[1;31mNameError\u001b[0m: name 'plot_context_factor' is not defined"
     ]
    },
    {
     "data": {
      "image/png": "[encoded data removed]",
      "text/plain": [
       "<Figure size 720x432 with 1 Axes>"
      ]
     },
     "metadata": {
      "needs_background": "light"
     },
     "output_type": "display_data"
    }
   ],
   "source": [
    "fig, ax = plt.subplots(1,1, figsize=(10,6))\n",
    "plot_context_factor(ax, df=PEQ_alfa, ylims=(-200,100))\n",
    "sns.set_palette(\"Set2\") #\"Reds\"\n",
    "sns.scatterplot(ax=ax,\n",
    "                x=GFZ,\n",
    "                y=PEB_varname,\n",
    "                hue=\"Mikroquartier\",\n",
    "                data=df)"
   ]
  },
  {
   "cell_type": "code",
   "execution_count": null,
   "metadata": {
    "pycharm": {
     "name": "#%%\n"
    }
   },
   "outputs": [],
   "source": [
    "subplot_columns = [\n",
    "    \"Mikroquartier\",\n",
    "    \"Gebäudehülle\",\n",
    "    \"Lüftung mit WRG\",\n",
    "    \"PV\",\n",
    "    \"JAZ\",\n",
    "    \"Reduktion Nutzerstrom\",\n",
    "    \"ecars\",\n",
    "    \"WPS\",\n",
    "    \"Klima\"]"
   ]
  },
  {
   "cell_type": "code",
   "execution_count": null,
   "metadata": {
    "pycharm": {
     "name": "#%%\n"
    }
   },
   "outputs": [],
   "source": [
    "fig, axes = plt.subplots(3,3, figsize=(15,15), sharex=True, sharey=True)\n",
    "for ax, category in zip(axes.flatten(), subplot_columns):\n",
    "    plot_context_factor(ax,\n",
    "                        df=PEQ_alfa,\n",
    "                        ylims=(-200,100),\n",
    "                        xlims=(1.5,3),\n",
    "                        no_legend=True\n",
    "                        )\n",
    "    sns.scatterplot(ax=ax,\n",
    "                    x=GFZ_varname,\n",
    "                    y=PEB_varname,\n",
    "                    hue=category,\n",
    "                    data=df)\n",
    "plt.tight_layout()"
   ]
  },
  {
   "cell_type": "code",
   "execution_count": null,
   "metadata": {
    "pycharm": {
     "name": "#%%\n"
    }
   },
   "outputs": [],
   "source": [
    "dfmin = df[required]\n",
    "dfmin.columns\n"
   ]
  },
  {
   "cell_type": "code",
   "execution_count": null,
   "metadata": {
    "pycharm": {
     "name": "#%%\n"
    }
   },
   "outputs": [],
   "source": [
    "fig, axes = plt.subplots(3,3, figsize=(15,15), sharex=True, sharey=True)\n",
    "for ax, category in zip(axes.flatten(), subplot_columns):\n",
    "    sns.boxplot(ax=ax, data=dfmin,\n",
    "                x=PEB_varname, y=\"Mikroquartier\",\n",
    "                whis=[0, 100], width=.8, linewidth=0.6\n",
    "                )\n",
    "\n",
    "    sns.stripplot(ax=ax, x=PEB_varname, y=\"Mikroquartier\",\n",
    "              data=dfmin, hue=category, color=\"orange\",\n",
    "              size=4, linewidth=0)\n",
    "\n",
    "    sns.stripplot(ax=ax, x=PEB_Zielwert_varname, y=\"Mikroquartier\",\n",
    "              data=dfmin, color=\"red\",\n",
    "              size=5, linewidth=0)\n",
    "plt.tight_layout()"
   ]
  },
  {
   "cell_type": "code",
   "execution_count": null,
   "metadata": {
    "pycharm": {
     "name": "#%%\n"
    }
   },
   "outputs": [],
   "source": [
    "fig, axes = plt.subplots(6,2, figsize=(20,15), sharex=True, sharey=True)\n",
    "for ax, mqs in zip(axes.flatten(), dfmin.Mikroquartier.unique()):\n",
    "    ax.plot(np.arange(len(dfmin[dfmin.Mikroquartier==mqs])), PEB_varname,\n",
    "    data=dfmin[dfmin.Mikroquartier==mqs], linestyle='-', marker='o')\n"
   ]
  },
  {
   "cell_type": "code",
   "execution_count": null,
   "metadata": {
    "pycharm": {
     "name": "#%%\n"
    }
   },
   "outputs": [],
   "source": [
    "b1 = dfmin[dfmin.Mikroquartier==\"Blockrand 1\"]\n",
    "mq_count = 2 #dfmin.Mikroquartier.unique()\n",
    "cat_count = len(subplot_columns[:3])\n",
    "\n",
    "fig, axes = plt.subplots(mq_count,cat_count, figsize=(20,15))\n",
    "for axcol, cat in enumerate(subplot_columns[:3]):\n",
    "    sns.catplot(ax=axes[0, axcol],\n",
    "                x=cat,\n",
    "                y=PEB_varname,\n",
    "                order=b1[cat].unique(),\n",
    "                data=b1)\n"
   ]
  }
 ],
 "metadata": {
  "kernelspec": {
   "display_name": "Python 3 (ipykernel)",
   "language": "python",
   "name": "python3"
  },
  "language_info": {
   "codemirror_mode": {
    "name": "ipython",
    "version": 3
   },
   "file_extension": ".py",
   "mimetype": "text/x-python",
   "name": "python",
   "nbconvert_exporter": "python",
   "pygments_lexer": "ipython3",
   "version": "3.9.12"
  },
  "toc": {
   "base_numbering": 1,
   "nav_menu": {},
   "number_sections": true,
   "sideBar": true,
   "skip_h1_title": false,
   "title_cell": "Table of Contents",
   "title_sidebar": "Contents",
   "toc_cell": false,
   "toc_position": {},
   "toc_section_display": true,
   "toc_window_display": false
  }
 },
 "nbformat": 4,
 "nbformat_minor": 1
}
