{
 "cells": [
  {
   "cell_type": "code",
   "execution_count": 2,
   "metadata": {},
   "outputs": [
    {
     "ename": "ModuleNotFoundError",
     "evalue": "No module named 'peexcel.config'",
     "output_type": "error",
     "traceback": [
      "\u001b[1;31m---------------------------------------------------------------------------\u001b[0m",
      "\u001b[1;31mModuleNotFoundError\u001b[0m                       Traceback (most recent call last)",
      "Cell \u001b[1;32mIn[2], line 3\u001b[0m\n\u001b[0;32m      1\u001b[0m \u001b[38;5;28;01mimport\u001b[39;00m \u001b[38;5;21;01mmatplotlib\u001b[39;00m\u001b[38;5;21;01m.\u001b[39;00m\u001b[38;5;21;01mpyplot\u001b[39;00m \u001b[38;5;28;01mas\u001b[39;00m \u001b[38;5;21;01mplt\u001b[39;00m\n\u001b[1;32m----> 3\u001b[0m \u001b[38;5;28;01mimport\u001b[39;00m \u001b[38;5;21;01mpeexcel\u001b[39;00m\u001b[38;5;21;01m.\u001b[39;00m\u001b[38;5;21;01mconfig\u001b[39;00m\n\u001b[0;32m      4\u001b[0m \u001b[38;5;28;01mfrom\u001b[39;00m \u001b[38;5;21;01mpeexcel\u001b[39;00m\u001b[38;5;21;01m.\u001b[39;00m\u001b[38;5;21;01mconfig\u001b[39;00m \u001b[38;5;28;01mimport\u001b[39;00m translate\n\u001b[0;32m      6\u001b[0m \u001b[38;5;28;01mfrom\u001b[39;00m \u001b[38;5;21;01mpeexcel\u001b[39;00m\u001b[38;5;21;01m.\u001b[39;00m\u001b[38;5;21;01mcontext\u001b[39;00m \u001b[38;5;28;01mimport\u001b[39;00m Density\n",
      "\u001b[1;31mModuleNotFoundError\u001b[0m: No module named 'peexcel.config'"
     ]
    }
   ],
   "source": [
    "import matplotlib.pyplot as plt\n",
    "\n",
    "import peexcel.config\n",
    "from peexcel.config import translate\n",
    "\n",
    "from peexcel.context import Density\n",
    "\n",
    "peexcel.config.set_language('de')\n",
    "\n",
    "def fill_areas(ax, x,y1,y2, colors = [\"lightgreen\", \"red\"]):\n",
    "    ax.fill_between(x, y1, y2, where=y2 >= y1,\n",
    "                    facecolor=colors[1], interpolate=True,  alpha = 0.3)\n",
    "    ax.fill_between(x, y1, y2, where=y2 <= y1,\n",
    "                    facecolor=colors[0], interpolate=True, alpha = 0.3)\n",
    "\n",
    "\n",
    "def annotate_effort_sharing(ax, p1=(0.3, -25), p2=(4.6, 10)):\n",
    "    arrow_props=dict(arrowstyle=\"->\", color=\"green\")\n",
    "    ax.annotate(\"Effort Sharing\", xy=p1, xytext=(1.3, -15),\n",
    "                arrowprops=arrow_props)\n",
    "    ax.annotate(\"Effort Sharing\", xy=p2, xytext=(1.3, -15),\n",
    "                arrowprops=arrow_props, color=\"green\")\n",
    "\n",
    "def add_points(ax, yminlim):\n",
    "    import matplotlib.pyplot as plt\n",
    "    import numpy as np\n",
    "    sel = np.array([0.2,0.5, 0.75, 1, 1.5, 2, 3, 4, 5])\n",
    "\n",
    "    points = Density.context_factor(sel)\n",
    "    plt.scatter(sel, points,  color=\"red\", s=20)\n",
    "    for gfz in sel:\n",
    "        y = Density.context_factor(gfz)\n",
    "        if gfz < 2 and gfz != 1:\n",
    "            ax.plot((gfz, gfz),(yminlim,y), linewidth=0.1, color=\"grey\")\n",
    "            ax.text(gfz-0.1, yminlim-10, round(gfz,2), fontsize=8, color=\"grey\")\n",
    "        ax.text(gfz+0.05, round(y,1)-8, str(round(y)),\n",
    "                fontsize=8, color=\"red\")\n",
    "\n",
    "def add_formula_box(ax, text, anchor=(1, -50)):\n",
    "    props = dict(boxstyle='round', facecolor='wheat', alpha=0.8)\n",
    "\n",
    "    ax.text(*anchor, text, fontsize=8, bbox=props)   \n",
    "\n",
    "def density_credit_ka(figsize=(7,4), ylims=(-150, 75), xlims=(0, 6)):\n",
    "    # setup plot\n",
    "\n",
    "    import numpy as np\n",
    "    fig, ax = plt.subplots(1, 1, figsize=figsize)\n",
    "    ax.set_ylim(*ylims)\n",
    "    ax.set_xlim(*xlims)\n",
    "    ax.set_xlabel(f\"{translate('Dichte (Geschoßflächenzahl)')} [-]\")\n",
    "    ax.set_ylabel(f\"{translate('Primärenergie-Gutschrift')}\\n[$kWh/m²{translate('NGF')}a$]\")\n",
    "    ax.grid()\n",
    "    # Density curve\n",
    "    Density.set_xlim(10)\n",
    "    x = Density.GFZ\n",
    "    y1 = Density.context_factor()\n",
    "    y2= np.zeros(len(Density.GFZ))\n",
    "    plt.plot(x, y1, color=\"red\")\n",
    "    plt.plot(x, y2, color=\"darkred\")\n",
    "    # \n",
    "    fill_areas(ax, x, y1,y2)\n",
    "    #\n",
    "    annotate_effort_sharing(ax)\n",
    "    #\n",
    "    add_points(ax, yminlim=ylims[0])\n",
    "    #\n",
    "    #add_formula_box(ax, text=Density.formula())\n",
    "    \n",
    "    plt.legend([\"_\",\"_\",translate(\"Lastschrift\"), translate(\"Gutschrift\")])\n",
    "    return fig, ax\n",
    "\n",
    "fig, ax = density_credit_ka()\n",
    "\n",
    "plt.savefig(\"PE-Dichtegutschrift.png\", dpi=300)"
   ]
  },
  {
   "cell_type": "code",
   "execution_count": null,
   "metadata": {},
   "outputs": [
    {
     "ename": "NameError",
     "evalue": "name 'peexcel' is not defined",
     "output_type": "error",
     "traceback": [
      "\u001b[1;31m---------------------------------------------------------------------------\u001b[0m",
      "\u001b[1;31mNameError\u001b[0m                                 Traceback (most recent call last)",
      "Cell \u001b[1;32mIn[1], line 1\u001b[0m\n\u001b[1;32m----> 1\u001b[0m peexcel\u001b[38;5;241m.\u001b[39mconfig\u001b[38;5;241m.\u001b[39mIMAGE_PATH\n",
      "\u001b[1;31mNameError\u001b[0m: name 'peexcel' is not defined"
     ]
    }
   ],
   "source": [
    "peexcel.config.IMAGE_PATH"
   ]
  },
  {
   "cell_type": "code",
   "execution_count": null,
   "metadata": {},
   "outputs": [],
   "source": []
  }
 ],
 "metadata": {
  "kernelspec": {
   "display_name": "base",
   "language": "python",
   "name": "python3"
  },
  "language_info": {
   "codemirror_mode": {
    "name": "ipython",
    "version": 3
   },
   "file_extension": ".py",
   "mimetype": "text/x-python",
   "name": "python",
   "nbconvert_exporter": "python",
   "pygments_lexer": "ipython3",
   "version": "3.11.4"
  }
 },
 "nbformat": 4,
 "nbformat_minor": 2
}
