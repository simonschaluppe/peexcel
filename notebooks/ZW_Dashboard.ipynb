{
 "cells": [
  {
   "cell_type": "code",
   "execution_count": 1,
   "metadata": {
    "collapsed": true
   },
   "outputs": [],
   "source": [
    "import numpy as np\n",
    "import panel as pn\n",
    "from bokeh.plotting import figure, show\n",
    "from peexcel.utils.targets import Zielwert\n",
    "\n",
    "pn.interact()\n",
    "\n",
    "zw = Zielwert.ZQSynergy()\n",
    "GFZ = np.linspace(0,6,600)"
   ]
  },
  {
   "cell_type": "code",
   "execution_count": 2,
   "metadata": {
    "collapsed": false,
    "pycharm": {
     "name": "#%%\n"
    }
   },
   "outputs": [
    {
     "data": {
      "text/plain": [
       "0.07086956521739886"
      ]
     },
     "execution_count": 2,
     "metadata": {},
     "output_type": "execute_result"
    }
   ],
   "source": [
    "zw.alpha(1)"
   ]
  },
  {
   "cell_type": "code",
   "execution_count": 3,
   "metadata": {
    "collapsed": false,
    "pycharm": {
     "name": "#%%\n"
    }
   },
   "outputs": [],
   "source": [
    "from bokeh.models import Label\n",
    "\n",
    "\n",
    "def bokeh_plot(x=1, PEsaldo=100) -> figure:\n",
    "    p = figure(width=500, height=300,\n",
    "            title=\"Primärenergie-Bilanz\",\n",
    "            x_axis_label=\"GFZ\",\n",
    "            y_axis_label=\"Primärenergie-Bilanz [kWh/m²BGFa]\",\n",
    "            tools=\"hover,reset,save\")\n",
    "    p.line(GFZ, zw.alpha(GFZ), color=\"red\", legend_label=\"ZQ Synergy Zielwert\")\n",
    "    p.line(GFZ, np.zeros(600), color=\"red\")\n",
    "\n",
    "\n",
    "    #zielwert\n",
    "    y=zw.alpha(x)\n",
    "    pw = PEsaldo\n",
    "    diff = pw-y\n",
    "    p.circle(x,y, color=\"red\", size=5, legend_label=f\"Zielwert bei GFZ {x:.1f} = {y:.1f}\")\n",
    "    if abs(diff)>20:\n",
    "        p.add_layout(Label(x=x+0.1, y=y, text=f\"{y:.1f} kWh/m²BGF\"))\n",
    "\n",
    "    #projektwert\n",
    "    if diff>=0:\n",
    "        color=\"lime\"\n",
    "    else:\n",
    "        color=\"grey\"\n",
    "    p.line([x,x],[y,pw], color=color, width=2)\n",
    "    p.circle(x,pw, color=color, size=10, legend_label=f\"Projektwert = {pw:.1f}\")\n",
    "    t = f\"{pw:.1f} kWh/m²BGF\\n({diff:+.1f})\"\n",
    "    p.add_layout(Label(x=x+0.1, y=pw-10, text=t))\n",
    "    return p\n",
    "\n",
    "#p = bokeh_plot()\n",
    "#app = pn.Column(p)\n",
    "#show(p)"
   ]
  },
  {
   "cell_type": "code",
   "execution_count": 4,
   "metadata": {
    "collapsed": false,
    "pycharm": {
     "name": "#%%\n"
    }
   },
   "outputs": [
    {
     "name": "stdout",
     "output_type": "stream",
     "text": [
      "Launching server at http://localhost:49321\n"
     ]
    },
    {
     "data": {
      "text/plain": [
       "<panel.io.server.Server at 0x24367e57110>"
      ]
     },
     "execution_count": 4,
     "metadata": {},
     "output_type": "execute_result"
    }
   ],
   "source": [
    "pe = pn.widgets.FloatInput(value=0, name=\"PE-Bilanz Projektwert [kWh/m²a]\")\n",
    "xslider = pn.widgets.FloatSlider(start=0,end=6,value=1, name=\"GFZ\")\n",
    "plot = pn.bind(bokeh_plot, xslider, pe)\n",
    "col = pn.Column(\"#ZW Synergy Zielwert\", \"###Primärenergie\", pe, \"Bauliche Dichte\", xslider)\n",
    "#kw = dict(x=(0, GFZ[-1]), PEsaldo=(-200,125))\n",
    "#a = pn.interact(bokeh_plot, **kw)\n",
    "app = pn.Row(col, plot)\n",
    "app.show()"
   ]
  },
  {
   "cell_type": "code",
   "execution_count": null,
   "metadata": {
    "collapsed": false,
    "pycharm": {
     "name": "#%%\n"
    }
   },
   "outputs": [],
   "source": []
  }
 ],
 "metadata": {
  "kernelspec": {
   "display_name": "base",
   "language": "python",
   "name": "python3"
  },
  "language_info": {
   "codemirror_mode": {
    "name": "ipython",
    "version": 3
   },
   "file_extension": ".py",
   "mimetype": "text/x-python",
   "name": "python",
   "nbconvert_exporter": "python",
   "pygments_lexer": "ipython3",
   "version": "3.11.4"
  }
 },
 "nbformat": 4,
 "nbformat_minor": 0
}
