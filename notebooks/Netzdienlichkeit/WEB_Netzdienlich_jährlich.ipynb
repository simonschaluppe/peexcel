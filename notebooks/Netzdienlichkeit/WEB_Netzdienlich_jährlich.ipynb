{
 "cells": [
  {
   "cell_type": "code",
   "execution_count": 76,
   "outputs": [],
   "source": [
    "#todo Frage: Was ist mit den Schaltjahren?? 29. Februar auslassen?\n",
    "\n",
    "import pandas as pd\n",
    "year1 = 2012\n",
    "year2 = \" \""
   ],
   "metadata": {
    "collapsed": false,
    "pycharm": {
     "name": "#%%\n"
    }
   }
  },
  {
   "cell_type": "code",
   "execution_count": 77,
   "outputs": [],
   "source": [
    "# Es wird hier die externe WEB-Datei eingelesen"
   ],
   "metadata": {
    "collapsed": false,
    "pycharm": {
     "name": "#%%\n"
    }
   }
  },
  {
   "cell_type": "code",
   "execution_count": 78,
   "outputs": [
    {
     "data": {
      "text/plain": "                     Neuhof I  Neuhof III  Maustrenk  STERN I  STERN II  \\\nDatetime UCT                                                              \n2011-01-01 00:00:00       0.0         0.0   0.220798      0.0       0.0   \n2011-01-01 01:00:00       0.0         0.0   0.280753      0.0       0.0   \n2011-01-01 02:00:00       0.0         0.0   0.233616      0.0       0.0   \n2011-01-01 03:00:00       0.0         0.0   0.216870      0.0       0.0   \n2011-01-01 04:00:00       0.0         0.0   0.322100      0.0       0.0   \n...                       ...         ...        ...      ...       ...   \n2020-12-02 19:00:00       0.0         0.0   0.549101      0.0       0.0   \n2020-12-02 20:00:00       0.0         0.0   0.647095      0.0       0.0   \n2020-12-02 21:00:00       0.0         0.0   0.813107      0.0       0.0   \n2020-12-02 22:00:00       0.0         0.0   0.562952      0.0       0.0   \n2020-12-02 23:00:00       0.0         0.0   0.399628      0.0       0.0   \n\n                     STERN III  \nDatetime UCT                    \n2011-01-01 00:00:00        0.0  \n2011-01-01 01:00:00        0.0  \n2011-01-01 02:00:00        0.0  \n2011-01-01 03:00:00        0.0  \n2011-01-01 04:00:00        0.0  \n...                        ...  \n2020-12-02 19:00:00        0.0  \n2020-12-02 20:00:00        0.0  \n2020-12-02 21:00:00        0.0  \n2020-12-02 22:00:00        0.0  \n2020-12-02 23:00:00        0.0  \n\n[81945 rows x 6 columns]",
      "text/html": "<div>\n<style scoped>\n    .dataframe tbody tr th:only-of-type {\n        vertical-align: middle;\n    }\n\n    .dataframe tbody tr th {\n        vertical-align: top;\n    }\n\n    .dataframe thead th {\n        text-align: right;\n    }\n</style>\n<table border=\"1\" class=\"dataframe\">\n  <thead>\n    <tr style=\"text-align: right;\">\n      <th></th>\n      <th>Neuhof I</th>\n      <th>Neuhof III</th>\n      <th>Maustrenk</th>\n      <th>STERN I</th>\n      <th>STERN II</th>\n      <th>STERN III</th>\n    </tr>\n    <tr>\n      <th>Datetime UCT</th>\n      <th></th>\n      <th></th>\n      <th></th>\n      <th></th>\n      <th></th>\n      <th></th>\n    </tr>\n  </thead>\n  <tbody>\n    <tr>\n      <th>2011-01-01 00:00:00</th>\n      <td>0.0</td>\n      <td>0.0</td>\n      <td>0.220798</td>\n      <td>0.0</td>\n      <td>0.0</td>\n      <td>0.0</td>\n    </tr>\n    <tr>\n      <th>2011-01-01 01:00:00</th>\n      <td>0.0</td>\n      <td>0.0</td>\n      <td>0.280753</td>\n      <td>0.0</td>\n      <td>0.0</td>\n      <td>0.0</td>\n    </tr>\n    <tr>\n      <th>2011-01-01 02:00:00</th>\n      <td>0.0</td>\n      <td>0.0</td>\n      <td>0.233616</td>\n      <td>0.0</td>\n      <td>0.0</td>\n      <td>0.0</td>\n    </tr>\n    <tr>\n      <th>2011-01-01 03:00:00</th>\n      <td>0.0</td>\n      <td>0.0</td>\n      <td>0.216870</td>\n      <td>0.0</td>\n      <td>0.0</td>\n      <td>0.0</td>\n    </tr>\n    <tr>\n      <th>2011-01-01 04:00:00</th>\n      <td>0.0</td>\n      <td>0.0</td>\n      <td>0.322100</td>\n      <td>0.0</td>\n      <td>0.0</td>\n      <td>0.0</td>\n    </tr>\n    <tr>\n      <th>...</th>\n      <td>...</td>\n      <td>...</td>\n      <td>...</td>\n      <td>...</td>\n      <td>...</td>\n      <td>...</td>\n    </tr>\n    <tr>\n      <th>2020-12-02 19:00:00</th>\n      <td>0.0</td>\n      <td>0.0</td>\n      <td>0.549101</td>\n      <td>0.0</td>\n      <td>0.0</td>\n      <td>0.0</td>\n    </tr>\n    <tr>\n      <th>2020-12-02 20:00:00</th>\n      <td>0.0</td>\n      <td>0.0</td>\n      <td>0.647095</td>\n      <td>0.0</td>\n      <td>0.0</td>\n      <td>0.0</td>\n    </tr>\n    <tr>\n      <th>2020-12-02 21:00:00</th>\n      <td>0.0</td>\n      <td>0.0</td>\n      <td>0.813107</td>\n      <td>0.0</td>\n      <td>0.0</td>\n      <td>0.0</td>\n    </tr>\n    <tr>\n      <th>2020-12-02 22:00:00</th>\n      <td>0.0</td>\n      <td>0.0</td>\n      <td>0.562952</td>\n      <td>0.0</td>\n      <td>0.0</td>\n      <td>0.0</td>\n    </tr>\n    <tr>\n      <th>2020-12-02 23:00:00</th>\n      <td>0.0</td>\n      <td>0.0</td>\n      <td>0.399628</td>\n      <td>0.0</td>\n      <td>0.0</td>\n      <td>0.0</td>\n    </tr>\n  </tbody>\n</table>\n<p>81945 rows × 6 columns</p>\n</div>"
     },
     "execution_count": 78,
     "metadata": {},
     "output_type": "execute_result"
    }
   ],
   "source": [
    "df_web = pd.read_csv(\"WEB_normalized_allyears.csv\", delimiter=\";\", parse_dates=True, index_col=0)\n",
    "df_web"
   ],
   "metadata": {
    "collapsed": false,
    "pycharm": {
     "name": "#%%\n"
    }
   }
  },
  {
   "cell_type": "code",
   "execution_count": 79,
   "outputs": [],
   "source": [
    "# DataFrame wird nur für das ausgewählte Jahr definiert"
   ],
   "metadata": {
    "collapsed": false,
    "pycharm": {
     "name": "#%%\n"
    }
   }
  },
  {
   "cell_type": "code",
   "execution_count": 80,
   "outputs": [
    {
     "data": {
      "text/plain": "                     Neuhof I  Neuhof III  Maustrenk  STERN I  STERN II  \\\nDatetime UCT                                                              \n2012-01-01 00:00:00  0.017533         0.0   0.001034      0.0       0.0   \n2012-01-01 01:00:00  0.002296         0.0   0.084763      0.0       0.0   \n2012-01-01 02:00:00  0.006470         0.0   0.129833      0.0       0.0   \n2012-01-01 03:00:00  0.016698         0.0   0.112466      0.0       0.0   \n2012-01-01 04:00:00  0.043206         0.0   0.199711      0.0       0.0   \n...                       ...         ...        ...      ...       ...   \n2012-12-30 20:00:00  0.080568         0.0   0.499483      0.0       0.0   \n2012-12-30 21:00:00  0.037570         0.0   0.241885      0.0       0.0   \n2012-12-30 22:00:00  0.030265         0.0   0.175522      0.0       0.0   \n2012-12-30 23:00:00  0.039449         0.0   0.442423      0.0       0.0   \n2012-12-31 00:00:00  0.034231         0.0   0.663634      0.0       0.0   \n\n                     STERN III  \nDatetime UCT                    \n2012-01-01 00:00:00        0.0  \n2012-01-01 01:00:00        0.0  \n2012-01-01 02:00:00        0.0  \n2012-01-01 03:00:00        0.0  \n2012-01-01 04:00:00        0.0  \n...                        ...  \n2012-12-30 20:00:00        0.0  \n2012-12-30 21:00:00        0.0  \n2012-12-30 22:00:00        0.0  \n2012-12-30 23:00:00        0.0  \n2012-12-31 00:00:00        0.0  \n\n[8760 rows x 6 columns]",
      "text/html": "<div>\n<style scoped>\n    .dataframe tbody tr th:only-of-type {\n        vertical-align: middle;\n    }\n\n    .dataframe tbody tr th {\n        vertical-align: top;\n    }\n\n    .dataframe thead th {\n        text-align: right;\n    }\n</style>\n<table border=\"1\" class=\"dataframe\">\n  <thead>\n    <tr style=\"text-align: right;\">\n      <th></th>\n      <th>Neuhof I</th>\n      <th>Neuhof III</th>\n      <th>Maustrenk</th>\n      <th>STERN I</th>\n      <th>STERN II</th>\n      <th>STERN III</th>\n    </tr>\n    <tr>\n      <th>Datetime UCT</th>\n      <th></th>\n      <th></th>\n      <th></th>\n      <th></th>\n      <th></th>\n      <th></th>\n    </tr>\n  </thead>\n  <tbody>\n    <tr>\n      <th>2012-01-01 00:00:00</th>\n      <td>0.017533</td>\n      <td>0.0</td>\n      <td>0.001034</td>\n      <td>0.0</td>\n      <td>0.0</td>\n      <td>0.0</td>\n    </tr>\n    <tr>\n      <th>2012-01-01 01:00:00</th>\n      <td>0.002296</td>\n      <td>0.0</td>\n      <td>0.084763</td>\n      <td>0.0</td>\n      <td>0.0</td>\n      <td>0.0</td>\n    </tr>\n    <tr>\n      <th>2012-01-01 02:00:00</th>\n      <td>0.006470</td>\n      <td>0.0</td>\n      <td>0.129833</td>\n      <td>0.0</td>\n      <td>0.0</td>\n      <td>0.0</td>\n    </tr>\n    <tr>\n      <th>2012-01-01 03:00:00</th>\n      <td>0.016698</td>\n      <td>0.0</td>\n      <td>0.112466</td>\n      <td>0.0</td>\n      <td>0.0</td>\n      <td>0.0</td>\n    </tr>\n    <tr>\n      <th>2012-01-01 04:00:00</th>\n      <td>0.043206</td>\n      <td>0.0</td>\n      <td>0.199711</td>\n      <td>0.0</td>\n      <td>0.0</td>\n      <td>0.0</td>\n    </tr>\n    <tr>\n      <th>...</th>\n      <td>...</td>\n      <td>...</td>\n      <td>...</td>\n      <td>...</td>\n      <td>...</td>\n      <td>...</td>\n    </tr>\n    <tr>\n      <th>2012-12-30 20:00:00</th>\n      <td>0.080568</td>\n      <td>0.0</td>\n      <td>0.499483</td>\n      <td>0.0</td>\n      <td>0.0</td>\n      <td>0.0</td>\n    </tr>\n    <tr>\n      <th>2012-12-30 21:00:00</th>\n      <td>0.037570</td>\n      <td>0.0</td>\n      <td>0.241885</td>\n      <td>0.0</td>\n      <td>0.0</td>\n      <td>0.0</td>\n    </tr>\n    <tr>\n      <th>2012-12-30 22:00:00</th>\n      <td>0.030265</td>\n      <td>0.0</td>\n      <td>0.175522</td>\n      <td>0.0</td>\n      <td>0.0</td>\n      <td>0.0</td>\n    </tr>\n    <tr>\n      <th>2012-12-30 23:00:00</th>\n      <td>0.039449</td>\n      <td>0.0</td>\n      <td>0.442423</td>\n      <td>0.0</td>\n      <td>0.0</td>\n      <td>0.0</td>\n    </tr>\n    <tr>\n      <th>2012-12-31 00:00:00</th>\n      <td>0.034231</td>\n      <td>0.0</td>\n      <td>0.663634</td>\n      <td>0.0</td>\n      <td>0.0</td>\n      <td>0.0</td>\n    </tr>\n  </tbody>\n</table>\n<p>8760 rows × 6 columns</p>\n</div>"
     },
     "execution_count": 80,
     "metadata": {},
     "output_type": "execute_result"
    }
   ],
   "source": [
    "df = df_web[df_web.index.year==year1]\n",
    "df = df.iloc[0:8760]\n",
    "df"
   ],
   "metadata": {
    "collapsed": false,
    "pycharm": {
     "name": "#%%\n"
    }
   }
  },
  {
   "cell_type": "code",
   "execution_count": 81,
   "outputs": [
    {
     "data": {
      "text/plain": "Empty DataFrame\nColumns: [Neuhof I, Neuhof III, Maustrenk, STERN I, STERN II, STERN III]\nIndex: []",
      "text/html": "<div>\n<style scoped>\n    .dataframe tbody tr th:only-of-type {\n        vertical-align: middle;\n    }\n\n    .dataframe tbody tr th {\n        vertical-align: top;\n    }\n\n    .dataframe thead th {\n        text-align: right;\n    }\n</style>\n<table border=\"1\" class=\"dataframe\">\n  <thead>\n    <tr style=\"text-align: right;\">\n      <th></th>\n      <th>Neuhof I</th>\n      <th>Neuhof III</th>\n      <th>Maustrenk</th>\n      <th>STERN I</th>\n      <th>STERN II</th>\n      <th>STERN III</th>\n    </tr>\n    <tr>\n      <th>Datetime UCT</th>\n      <th></th>\n      <th></th>\n      <th></th>\n      <th></th>\n      <th></th>\n      <th></th>\n    </tr>\n  </thead>\n  <tbody>\n  </tbody>\n</table>\n</div>"
     },
     "execution_count": 81,
     "metadata": {},
     "output_type": "execute_result"
    }
   ],
   "source": [
    "if year2 == \" \":\n",
    "    pass\n",
    "else:\n",
    "    df2 = df_web[df_web.index.year==year2]\n",
    "df2"
   ],
   "metadata": {
    "collapsed": false,
    "pycharm": {
     "name": "#%%\n"
    }
   }
  },
  {
   "cell_type": "code",
   "execution_count": 81,
   "outputs": [],
   "source": [],
   "metadata": {
    "collapsed": false,
    "pycharm": {
     "name": "#%%\n"
    }
   }
  },
  {
   "cell_type": "code",
   "execution_count": 82,
   "outputs": [],
   "source": [
    "#\"Dates\" wird als das gegebene Jahr definiert und als \"index\" für die peexcel-Daten zugewiesen. Mit dem Befehl \"concat\" werden die vorher definierte \"df\" und die hier eingelesene \"df_pee\" zu einem \"df\" verkettet."
   ],
   "metadata": {
    "collapsed": false,
    "pycharm": {
     "name": "#%%\n"
    }
   }
  },
  {
   "cell_type": "code",
   "execution_count": 83,
   "outputs": [
    {
     "data": {
      "text/plain": "                     Neuhof I  Neuhof III  Maustrenk  STERN I  STERN II  \\\n2012-01-01 00:00:00  0.017533         0.0   0.001034      0.0       0.0   \n2012-01-01 01:00:00  0.002296         0.0   0.084763      0.0       0.0   \n2012-01-01 02:00:00  0.006470         0.0   0.129833      0.0       0.0   \n2012-01-01 03:00:00  0.016698         0.0   0.112466      0.0       0.0   \n2012-01-01 04:00:00  0.043206         0.0   0.199711      0.0       0.0   \n...                       ...         ...        ...      ...       ...   \n2012-12-30 20:00:00  0.080568         0.0   0.499483      0.0       0.0   \n2012-12-30 21:00:00  0.037570         0.0   0.241885      0.0       0.0   \n2012-12-30 22:00:00  0.030265         0.0   0.175522      0.0       0.0   \n2012-12-30 23:00:00  0.039449         0.0   0.442423      0.0       0.0   \n2012-12-31 00:00:00  0.034231         0.0   0.663634      0.0       0.0   \n\n                     STERN III  WEB 2015 Umgebung Wien  Wind AT 2018  \n2012-01-01 00:00:00        0.0                0.000000      0.313971  \n2012-01-01 01:00:00        0.0                0.000000      0.285723  \n2012-01-01 02:00:00        0.0                0.000000      0.318035  \n2012-01-01 03:00:00        0.0                0.000000      0.237349  \n2012-01-01 04:00:00        0.0                0.000000      0.155524  \n...                        ...                     ...           ...  \n2012-12-30 20:00:00        0.0                0.052745      0.187702  \n2012-12-30 21:00:00        0.0                0.026788      0.174650  \n2012-12-30 22:00:00        0.0                0.002470      0.145799  \n2012-12-30 23:00:00        0.0                0.001984      0.109392  \n2012-12-31 00:00:00        0.0                     NaN           NaN  \n\n[8761 rows x 8 columns]",
      "text/html": "<div>\n<style scoped>\n    .dataframe tbody tr th:only-of-type {\n        vertical-align: middle;\n    }\n\n    .dataframe tbody tr th {\n        vertical-align: top;\n    }\n\n    .dataframe thead th {\n        text-align: right;\n    }\n</style>\n<table border=\"1\" class=\"dataframe\">\n  <thead>\n    <tr style=\"text-align: right;\">\n      <th></th>\n      <th>Neuhof I</th>\n      <th>Neuhof III</th>\n      <th>Maustrenk</th>\n      <th>STERN I</th>\n      <th>STERN II</th>\n      <th>STERN III</th>\n      <th>WEB 2015 Umgebung Wien</th>\n      <th>Wind AT 2018</th>\n    </tr>\n  </thead>\n  <tbody>\n    <tr>\n      <th>2012-01-01 00:00:00</th>\n      <td>0.017533</td>\n      <td>0.0</td>\n      <td>0.001034</td>\n      <td>0.0</td>\n      <td>0.0</td>\n      <td>0.0</td>\n      <td>0.000000</td>\n      <td>0.313971</td>\n    </tr>\n    <tr>\n      <th>2012-01-01 01:00:00</th>\n      <td>0.002296</td>\n      <td>0.0</td>\n      <td>0.084763</td>\n      <td>0.0</td>\n      <td>0.0</td>\n      <td>0.0</td>\n      <td>0.000000</td>\n      <td>0.285723</td>\n    </tr>\n    <tr>\n      <th>2012-01-01 02:00:00</th>\n      <td>0.006470</td>\n      <td>0.0</td>\n      <td>0.129833</td>\n      <td>0.0</td>\n      <td>0.0</td>\n      <td>0.0</td>\n      <td>0.000000</td>\n      <td>0.318035</td>\n    </tr>\n    <tr>\n      <th>2012-01-01 03:00:00</th>\n      <td>0.016698</td>\n      <td>0.0</td>\n      <td>0.112466</td>\n      <td>0.0</td>\n      <td>0.0</td>\n      <td>0.0</td>\n      <td>0.000000</td>\n      <td>0.237349</td>\n    </tr>\n    <tr>\n      <th>2012-01-01 04:00:00</th>\n      <td>0.043206</td>\n      <td>0.0</td>\n      <td>0.199711</td>\n      <td>0.0</td>\n      <td>0.0</td>\n      <td>0.0</td>\n      <td>0.000000</td>\n      <td>0.155524</td>\n    </tr>\n    <tr>\n      <th>...</th>\n      <td>...</td>\n      <td>...</td>\n      <td>...</td>\n      <td>...</td>\n      <td>...</td>\n      <td>...</td>\n      <td>...</td>\n      <td>...</td>\n    </tr>\n    <tr>\n      <th>2012-12-30 20:00:00</th>\n      <td>0.080568</td>\n      <td>0.0</td>\n      <td>0.499483</td>\n      <td>0.0</td>\n      <td>0.0</td>\n      <td>0.0</td>\n      <td>0.052745</td>\n      <td>0.187702</td>\n    </tr>\n    <tr>\n      <th>2012-12-30 21:00:00</th>\n      <td>0.037570</td>\n      <td>0.0</td>\n      <td>0.241885</td>\n      <td>0.0</td>\n      <td>0.0</td>\n      <td>0.0</td>\n      <td>0.026788</td>\n      <td>0.174650</td>\n    </tr>\n    <tr>\n      <th>2012-12-30 22:00:00</th>\n      <td>0.030265</td>\n      <td>0.0</td>\n      <td>0.175522</td>\n      <td>0.0</td>\n      <td>0.0</td>\n      <td>0.0</td>\n      <td>0.002470</td>\n      <td>0.145799</td>\n    </tr>\n    <tr>\n      <th>2012-12-30 23:00:00</th>\n      <td>0.039449</td>\n      <td>0.0</td>\n      <td>0.442423</td>\n      <td>0.0</td>\n      <td>0.0</td>\n      <td>0.0</td>\n      <td>0.001984</td>\n      <td>0.109392</td>\n    </tr>\n    <tr>\n      <th>2012-12-31 00:00:00</th>\n      <td>0.034231</td>\n      <td>0.0</td>\n      <td>0.663634</td>\n      <td>0.0</td>\n      <td>0.0</td>\n      <td>0.0</td>\n      <td>NaN</td>\n      <td>NaN</td>\n    </tr>\n  </tbody>\n</table>\n<p>8761 rows × 8 columns</p>\n</div>"
     },
     "execution_count": 83,
     "metadata": {},
     "output_type": "execute_result"
    }
   ],
   "source": [
    "import numpy as np\n",
    "dates = np.arange(\"{}-01-01\" .format(year1),\"{}-01-01 00:00\" .format(year1+1), dtype=\"datetime64[h]\")\n",
    "if len(dates) > 8760:\n",
    "    dates = np.delete(dates, range(8760,8784), axis=0)\n",
    "else:\n",
    "    dates\n",
    "df_pee = pd.read_csv(\"peexcel_normalized.csv\", index_col=0)\n",
    "df_pee.index = dates\n",
    "\n",
    "df = pd.concat([df, df_pee[[\"WEB 2015 Umgebung Wien\", \"Wind AT 2018\"]]], axis=1)\n",
    "df"
   ],
   "metadata": {
    "collapsed": false,
    "pycharm": {
     "name": "#%%\n"
    }
   }
  },
  {
   "cell_type": "markdown",
   "source": [
    "Freigabesignal wenn > x% der Nennleistung"
   ],
   "metadata": {
    "collapsed": false
   }
  },
  {
   "cell_type": "code",
   "execution_count": 84,
   "outputs": [
    {
     "data": {
      "text/plain": "Empty DataFrame\nColumns: [Neuhof I, Neuhof III, Maustrenk, STERN I, STERN II, STERN III]\nIndex: []",
      "text/html": "<div>\n<style scoped>\n    .dataframe tbody tr th:only-of-type {\n        vertical-align: middle;\n    }\n\n    .dataframe tbody tr th {\n        vertical-align: top;\n    }\n\n    .dataframe thead th {\n        text-align: right;\n    }\n</style>\n<table border=\"1\" class=\"dataframe\">\n  <thead>\n    <tr style=\"text-align: right;\">\n      <th></th>\n      <th>Neuhof I</th>\n      <th>Neuhof III</th>\n      <th>Maustrenk</th>\n      <th>STERN I</th>\n      <th>STERN II</th>\n      <th>STERN III</th>\n    </tr>\n    <tr>\n      <th>Datetime UCT</th>\n      <th></th>\n      <th></th>\n      <th></th>\n      <th></th>\n      <th></th>\n      <th></th>\n    </tr>\n  </thead>\n  <tbody>\n  </tbody>\n</table>\n</div>"
     },
     "execution_count": 84,
     "metadata": {},
     "output_type": "execute_result"
    }
   ],
   "source": [
    "if year2 == \" \":\n",
    "    pass\n",
    "else:\n",
    "    dates2 = np.arange(\"{}-01-01\" .format(year2),\"{}-01-01 00:00\" .format(year2+1), dtype=\"datetime64[h]\")\n",
    "    if len(dates2) > 8760:\n",
    "        dates2 = np.delete(dates2, range(8760,8784), axis=0)\n",
    "    else:\n",
    "        dates2\n",
    "    df_pee2 = pd.read_csv(\"peexcel_normalized.csv\", index_col=0)\n",
    "    df_pee2.index = dates2\n",
    "    df2 = pd.concat([df2, df_pee2[[\"WEB 2015 Umgebung Wien\", \"Wind AT 2018\"]]], axis=1)\n",
    "df2"
   ],
   "metadata": {
    "collapsed": false,
    "pycharm": {
     "name": "#%%\n"
    }
   }
  },
  {
   "cell_type": "code",
   "execution_count": 85,
   "outputs": [],
   "source": [
    "import os\n",
    "\n"
   ],
   "metadata": {
    "collapsed": false,
    "pycharm": {
     "name": "#%%\n"
    }
   }
  },
  {
   "cell_type": "code",
   "execution_count": 86,
   "outputs": [],
   "source": [
    "if year2 == \" \":\n",
    "    if not os.path.exists(\"Plots/{}\" .format(year1)):\n",
    "        os.makedirs(\"Plots/{}\" .format(year1))\n",
    "else:\n",
    "    if not os.path.exists(\"Plots/{}_{}\" .format(year1, year2)):\n",
    "        os.makedirs(\"Plots/{}_{}\" .format(year1, year2))"
   ],
   "metadata": {
    "collapsed": false,
    "pycharm": {
     "name": "#%%\n"
    }
   }
  },
  {
   "cell_type": "code",
   "execution_count": 87,
   "outputs": [
    {
     "data": {
      "text/plain": "<Figure size 432x288 with 4 Axes>",
      "image/png": "[encoded data removed]"
     },
     "metadata": {
      "needs_background": "light"
     },
     "output_type": "display_data"
    }
   ],
   "source": [
    "import matplotlib.pyplot as plt\n",
    "\n",
    "cutoffs = [0.3,0.4,0.5,0.6]\n",
    "anzahl = pd.DataFrame()\n",
    "anzahl2 = pd.DataFrame()\n",
    "\n",
    "if year2 == \" \":\n",
    "    fig, ax = plt.subplots(1, len(cutoffs), sharey=True)\n",
    "    for i, x in enumerate(cutoffs):\n",
    "        sig = df.where(df>x)\n",
    "        sig.count().plot(kind=\"bar\", ax=ax[i], title=x)\n",
    "        anzahl[x] = sig.count()\n",
    "    fig.savefig(\"Plots/{}/Freigabe-threshold_WEB_{}.png\" .format(year1, year1), dpi=300, bbox_inches=\"tight\")\n",
    "\n",
    "else:\n",
    "    fig, ax = plt.subplots(2, len(cutoffs), sharey=True, sharex=True)\n",
    "    for i, x in enumerate(cutoffs):\n",
    "        sig = df.where(df>x)\n",
    "        sig.count().plot(kind=\"bar\", ax=ax[0, i])\n",
    "\n",
    "        sig2 = df2.where(df2>x)\n",
    "        sig2.count().plot(kind=\"bar\", ax=ax[1, i])\n",
    "        anzahl[x] = sig.count()\n",
    "        anzahl2[x] = sig.count()\n",
    "    anzahl\n",
    "    anzahl2\n",
    "    fig.savefig(\"Plots/{}_{}/Freigabe-threshold_WEB_{}_{}.png\" .format(year1, year2, year1, year2), dpi=300, bbox_inches=\"tight\")"
   ],
   "metadata": {
    "collapsed": false,
    "pycharm": {
     "name": "#%%\n"
    }
   }
  },
  {
   "cell_type": "code",
   "execution_count": 88,
   "outputs": [
    {
     "data": {
      "text/plain": "<seaborn.axisgrid.FacetGrid at 0x24625490ca0>"
     },
     "execution_count": 88,
     "metadata": {},
     "output_type": "execute_result"
    },
    {
     "data": {
      "text/plain": "<Figure size 412x360 with 1 Axes>",
      "image/png": "[encoded data removed]"
     },
     "metadata": {
      "needs_background": "light"
     },
     "output_type": "display_data"
    }
   ],
   "source": [
    "import seaborn as sns\n",
    "#anzahl\n",
    "sns.relplot(data=anzahl)"
   ],
   "metadata": {
    "collapsed": false,
    "pycharm": {
     "name": "#%%\n"
    }
   }
  },
  {
   "cell_type": "markdown",
   "source": [],
   "metadata": {
    "collapsed": false
   }
  },
  {
   "cell_type": "code",
   "execution_count": 88,
   "outputs": [],
   "source": [],
   "metadata": {
    "collapsed": false,
    "pycharm": {
     "name": "#%%\n"
    }
   }
  },
  {
   "cell_type": "code",
   "execution_count": 89,
   "outputs": [],
   "source": [
    "if year2 == \" \":\n",
    "    pass\n",
    "else:\n",
    "    sns.relplot(data=anzahl2)"
   ],
   "metadata": {
    "collapsed": false,
    "pycharm": {
     "name": "#%%\n"
    }
   }
  },
  {
   "cell_type": "code",
   "execution_count": 90,
   "outputs": [
    {
     "data": {
      "text/plain": "Index(['Neuhof I', 'Neuhof III', 'Maustrenk', 'STERN I', 'STERN II',\n       'STERN III', 'WEB 2015 Umgebung Wien', 'Wind AT 2018'],\n      dtype='object')"
     },
     "execution_count": 90,
     "metadata": {},
     "output_type": "execute_result"
    }
   ],
   "source": [
    "df.columns"
   ],
   "metadata": {
    "collapsed": false,
    "pycharm": {
     "name": "#%%\n"
    }
   }
  },
  {
   "cell_type": "code",
   "execution_count": 91,
   "outputs": [],
   "source": [
    "cut = 0.4\n",
    "df_sign = pd.DataFrame()\n",
    "df2_sign = pd.DataFrame()\n",
    "\n",
    "if year2 == \" \":\n",
    "    for c in df.columns:\n",
    "        df_sign[c] = df[c].map(lambda x: -1 if x < cut else 1)\n",
    "else:\n",
    "    for c in df.columns:\n",
    "        df_sign[c] = df[c].map(lambda x: -1 if x < cut else 1)\n",
    "    for c in df2.columns:\n",
    "        df2_sign[c] = df2[c].map(lambda x: -1 if x < cut else 1)"
   ],
   "metadata": {
    "collapsed": false,
    "pycharm": {
     "name": "#%%\n"
    }
   }
  },
  {
   "cell_type": "code",
   "execution_count": 92,
   "outputs": [
    {
     "data": {
      "text/plain": "                     Neuhof I  Neuhof III  Maustrenk  STERN I  STERN II  \\\n2012-01-01 00:00:00        -1          -1         -1       -1        -1   \n2012-01-01 01:00:00        -1          -1         -1       -1        -1   \n2012-01-01 02:00:00        -1          -1         -1       -1        -1   \n2012-01-01 03:00:00        -1          -1         -1       -1        -1   \n2012-01-01 04:00:00        -1          -1         -1       -1        -1   \n\n                     STERN III  WEB 2015 Umgebung Wien  Wind AT 2018  \n2012-01-01 00:00:00         -1                      -1            -1  \n2012-01-01 01:00:00         -1                      -1            -1  \n2012-01-01 02:00:00         -1                      -1            -1  \n2012-01-01 03:00:00         -1                      -1            -1  \n2012-01-01 04:00:00         -1                      -1            -1  ",
      "text/html": "<div>\n<style scoped>\n    .dataframe tbody tr th:only-of-type {\n        vertical-align: middle;\n    }\n\n    .dataframe tbody tr th {\n        vertical-align: top;\n    }\n\n    .dataframe thead th {\n        text-align: right;\n    }\n</style>\n<table border=\"1\" class=\"dataframe\">\n  <thead>\n    <tr style=\"text-align: right;\">\n      <th></th>\n      <th>Neuhof I</th>\n      <th>Neuhof III</th>\n      <th>Maustrenk</th>\n      <th>STERN I</th>\n      <th>STERN II</th>\n      <th>STERN III</th>\n      <th>WEB 2015 Umgebung Wien</th>\n      <th>Wind AT 2018</th>\n    </tr>\n  </thead>\n  <tbody>\n    <tr>\n      <th>2012-01-01 00:00:00</th>\n      <td>-1</td>\n      <td>-1</td>\n      <td>-1</td>\n      <td>-1</td>\n      <td>-1</td>\n      <td>-1</td>\n      <td>-1</td>\n      <td>-1</td>\n    </tr>\n    <tr>\n      <th>2012-01-01 01:00:00</th>\n      <td>-1</td>\n      <td>-1</td>\n      <td>-1</td>\n      <td>-1</td>\n      <td>-1</td>\n      <td>-1</td>\n      <td>-1</td>\n      <td>-1</td>\n    </tr>\n    <tr>\n      <th>2012-01-01 02:00:00</th>\n      <td>-1</td>\n      <td>-1</td>\n      <td>-1</td>\n      <td>-1</td>\n      <td>-1</td>\n      <td>-1</td>\n      <td>-1</td>\n      <td>-1</td>\n    </tr>\n    <tr>\n      <th>2012-01-01 03:00:00</th>\n      <td>-1</td>\n      <td>-1</td>\n      <td>-1</td>\n      <td>-1</td>\n      <td>-1</td>\n      <td>-1</td>\n      <td>-1</td>\n      <td>-1</td>\n    </tr>\n    <tr>\n      <th>2012-01-01 04:00:00</th>\n      <td>-1</td>\n      <td>-1</td>\n      <td>-1</td>\n      <td>-1</td>\n      <td>-1</td>\n      <td>-1</td>\n      <td>-1</td>\n      <td>-1</td>\n    </tr>\n  </tbody>\n</table>\n</div>"
     },
     "execution_count": 92,
     "metadata": {},
     "output_type": "execute_result"
    }
   ],
   "source": [
    "df_sign.head()"
   ],
   "metadata": {
    "collapsed": false,
    "pycharm": {
     "name": "#%%\n"
    }
   }
  },
  {
   "cell_type": "code",
   "execution_count": null,
   "outputs": [],
   "source": [
    "from matplotlib.dates import MonthLocator\n",
    "from matplotlib.dates import DateFormatter\n",
    "\n",
    "if year2 == \" \":\n",
    "    fig, ax = plt.subplots(len(df_sign.columns), 1, sharex=True, sharey=True, figsize=(12,6))\n",
    "    for i, col in enumerate(df_sign.columns):\n",
    "        vis = pd.pivot_table(df_sign,\n",
    "                         index=df_sign.index.date, columns=df_sign.index.hour, values=col)\n",
    "        sns.heatmap(vis.T,\n",
    "                cbar=False,\n",
    "                yticklabels=False,\n",
    "                ax=ax[i])\n",
    "        ax[i].set_title(col, loc=\"right\", color=\"lime\", fontsize=12, pad=-11)\n",
    "        months = MonthLocator()\n",
    "        monthsFmt = DateFormatter(\"%b\")\n",
    "        ax[i].xaxis.set_major_locator(months)\n",
    "        ax[i].xaxis.set_major_formatter(monthsFmt)\n",
    "else:\n",
    "    fig, ax = plt.subplots(len(df_sign.columns), 2, sharex=True, sharey=True, figsize=(12,6))\n",
    "    for i, col in enumerate(df_sign.columns):\n",
    "        vis = pd.pivot_table(df_sign,\n",
    "                         index=df_sign.index.date, columns=df_sign.index.hour, values=col)\n",
    "        sns.heatmap(vis.T,\n",
    "                cbar=False,\n",
    "                yticklabels=False,\n",
    "                ax=ax[i, 0])\n",
    "        ax[i, 0].set_title(col, loc=\"right\", color=\"lime\", fontsize=12, pad=-11)\n",
    "        months = MonthLocator()\n",
    "        monthsFmt = DateFormatter(\"%b\")\n",
    "        ax[i, 0].xaxis.set_major_locator(months)\n",
    "        ax[i, 0].xaxis.set_major_formatter(monthsFmt)\n",
    "    for i, col in enumerate(df2_sign.columns):\n",
    "        vis = pd.pivot_table(df2_sign,\n",
    "                         index=df2_sign.index.date, columns=df2_sign.index.hour, values=col)\n",
    "        sns.heatmap(vis.T,\n",
    "                cbar=False,\n",
    "                yticklabels=False,\n",
    "                ax=ax[i, 1])\n",
    "        ax[i, 1].set_title(col, loc=\"right\", color=\"lime\", fontsize=12, pad=-11)\n",
    "        months = MonthLocator()\n",
    "        monthsFmt = DateFormatter(\"%b\")\n",
    "        ax[i, 1].xaxis.set_major_locator(months)\n",
    "        ax[i, 1].xaxis.set_major_formatter(monthsFmt)"
   ],
   "metadata": {
    "collapsed": false,
    "pycharm": {
     "name": "#%%\n",
     "is_executing": true
    }
   }
  },
  {
   "cell_type": "code",
   "execution_count": null,
   "outputs": [],
   "source": [
    "if year2 == \" \":\n",
    "    fig.savefig(\"Plots/{}/heatmap_WEB_{}.png\" .format(year1, year1), dpi=300)\n",
    "else:\n",
    "    fig.savefig(\"Plots/{}_{}/heatmap_WEB_{}_{}.png\" .format(year1, year2, year1, year2), dpi=300)"
   ],
   "metadata": {
    "collapsed": false,
    "pycharm": {
     "name": "#%%\n",
     "is_executing": true
    }
   }
  },
  {
   "cell_type": "code",
   "execution_count": null,
   "outputs": [],
   "source": [],
   "metadata": {
    "collapsed": false,
    "pycharm": {
     "name": "#%%\n",
     "is_executing": true
    }
   }
  },
  {
   "cell_type": "code",
   "execution_count": null,
   "outputs": [],
   "source": [
    "df_step = pd.DataFrame()\n",
    "df_not = pd.DataFrame()\n",
    "df2_step = pd.DataFrame()\n",
    "df2_not = pd.DataFrame()\n",
    "\n",
    "if year2 == \" \":\n",
    "    fig, ax = plt.subplots(1)\n",
    "    for c in df_sign.columns:\n",
    "        df_step[c] =  df_sign[c].shift(1).ne(df_sign[c]).where(df_sign[c]==1).cumsum()\n",
    "        df_not[c] =  df_sign[c].shift(1).ne(df_sign[c]).where(df_sign[c]==-1).cumsum()\n",
    "else:\n",
    "    fig, ax = plt.subplots(2)\n",
    "    for c in df_sign.columns:\n",
    "\n",
    "        df_step[c] =  df_sign[c].shift(1).ne(df_sign[c]).where(df_sign[c]==1).cumsum()\n",
    "        df_not[c] =  df_sign[c].shift(1).ne(df_sign[c]).where(df_sign[c]==-1).cumsum()\n",
    "    for c in df2_sign.columns:\n",
    "        df2_step[c] =  df2_sign[c].shift(1).ne(df2_sign[c]).where(df2_sign[c]==1).cumsum()\n",
    "        df2_not[c] =  df2_sign[c].shift(1).ne(df2_sign[c]).where(df2_sign[c]==-1).cumsum()"
   ],
   "metadata": {
    "collapsed": false,
    "pycharm": {
     "name": "#%%\n",
     "is_executing": true
    }
   }
  },
  {
   "cell_type": "code",
   "execution_count": null,
   "outputs": [],
   "source": [
    "if year2 == \" \":\n",
    "    df_step.iloc[0,:] = 0\n",
    "else:\n",
    "    df_step.iloc[0,:] = 0\n",
    "    df2_step.iloc[0,:] = 0\n",
    "\n",
    "df2_step"
   ],
   "metadata": {
    "collapsed": false,
    "pycharm": {
     "name": "#%%\n",
     "is_executing": true
    }
   }
  },
  {
   "cell_type": "code",
   "execution_count": null,
   "outputs": [],
   "source": [
    "if year2 == \" \":\n",
    "    df_step[\"{}\" .format(year1)].plot(figsize=(12,5), ylabel=\"Number of Signal\", grid=True, ax=ax)\n",
    "    fig.savefig(\"Plots/{}/cumplot_WEB_{}.png\" .format(year1, year1), dpi=300)\n",
    "else:\n",
    "    df_step[\"{}\" .format(year1)].plot(figsize=(12,5), ylabel=\"Number of Signal\", grid=True, ax=ax[0])\n",
    "    df2_step[\"{}\" .format(year2)].plot(figsize=(12,5), ylabel=\"Number of Signal\", grid=True, ax=ax[1])\n",
    "    fig.savefig(\"Plots/{}_{}/cumplot_WEB_{}_{}.png\" .format(year1, year2, year1, year2), dpi=300)"
   ],
   "metadata": {
    "collapsed": false,
    "pycharm": {
     "name": "#%%\n",
     "is_executing": true
    }
   }
  },
  {
   "cell_type": "code",
   "execution_count": null,
   "outputs": [],
   "source": [
    "df_step.fillna(0, inplace=True)\n",
    "df_not.fillna(0, inplace=True)"
   ],
   "metadata": {
    "collapsed": false,
    "pycharm": {
     "name": "#%%\n",
     "is_executing": true
    }
   }
  },
  {
   "cell_type": "code",
   "execution_count": null,
   "outputs": [],
   "source": [
    "desc = pd.DataFrame()\n",
    "desc[\"Zeitraum mit Signal [h]\"] = anzahl[0.4]\n",
    "desc[\"Nicht-Signal-Zeitraum [h]\"] = 8760 - anzahl[0.4]\n",
    "desc[\"Anzahl Signal-Perioden\"] = df_step.max()\n",
    "desc[\"Durchschnittliche Dauer Signal [h]\"] = (desc[\"Zeitraum mit Signal [h]\"]/desc[\"Anzahl Signal-Perioden\"])\n",
    "desc[\"Durchschnittliche Dauer Nicht-Signal [h]\"] = desc[\"Nicht-Signal-Zeitraum [h]\"]/desc[\"Anzahl Signal-Perioden\"]\n",
    "\n",
    "desc"
   ],
   "metadata": {
    "collapsed": false,
    "pycharm": {
     "name": "#%%\n",
     "is_executing": true
    }
   }
  },
  {
   "cell_type": "code",
   "execution_count": null,
   "outputs": [],
   "source": [
    "fig, ax = plt.subplots(1,3, figsize=(12,6))\n",
    "desc[[\"Zeitraum mit Signal [h]\",\"Nicht-Signal-Zeitraum [h]\"]]\\\n",
    "    .plot(kind=\"bar\",color=[\"cyan\", \"black\"], stacked=True, ax = ax[0])\n",
    "ax[0].set_ylabel(\"Stunden\")\n",
    "desc[\"Anzahl Signal-Perioden\"]\\\n",
    "    .plot(kind=\"bar\",color=[\"cyan\"], stacked=True, ax = ax[1])\n",
    "ax[1].set_ylabel(\"Anzahl Signal-Perioden\")\n",
    "desc[[\"Durchschnittliche Dauer Signal [h]\",\"Durchschnittliche Dauer Nicht-Signal [h]\"]]\\\n",
    "    .plot(kind=\"bar\",color=[\"orange\", \"grey\"], stacked=False, ax = ax[2])\n",
    "ax[2].set_ylabel(\"Stunden\")\n",
    "fig.savefig(\"Plots/{}/descriptive_WEB_{}.png\" .format(year1, year1), dpi=300, bbox_inches='tight')"
   ],
   "metadata": {
    "collapsed": false,
    "pycharm": {
     "name": "#%%\n",
     "is_executing": true
    }
   }
  },
  {
   "cell_type": "code",
   "execution_count": null,
   "outputs": [],
   "source": [
    "df_step.head()"
   ],
   "metadata": {
    "collapsed": false,
    "pycharm": {
     "name": "#%%\n",
     "is_executing": true
    }
   }
  },
  {
   "cell_type": "code",
   "execution_count": null,
   "outputs": [],
   "source": [],
   "metadata": {
    "collapsed": false,
    "pycharm": {
     "name": "#%%\n",
     "is_executing": true
    }
   }
  },
  {
   "cell_type": "code",
   "execution_count": null,
   "outputs": [],
   "source": [],
   "metadata": {
    "collapsed": false,
    "pycharm": {
     "name": "#%%\n",
     "is_executing": true
    }
   }
  },
  {
   "cell_type": "code",
   "execution_count": null,
   "outputs": [],
   "source": [],
   "metadata": {
    "collapsed": false,
    "pycharm": {
     "name": "#%%\n",
     "is_executing": true
    }
   }
  },
  {
   "cell_type": "code",
   "execution_count": null,
   "outputs": [],
   "source": [
    "bins= [6,12,24,48,72,96,168, 168*2, 168*3, 168*5 ]"
   ],
   "metadata": {
    "collapsed": false,
    "pycharm": {
     "name": "#%%\n",
     "is_executing": true
    }
   }
  },
  {
   "cell_type": "code",
   "execution_count": null,
   "outputs": [],
   "source": [],
   "metadata": {
    "collapsed": false,
    "pycharm": {
     "name": "#%%\n",
     "is_executing": true
    }
   }
  },
  {
   "cell_type": "code",
   "execution_count": null,
   "outputs": [],
   "source": [
    "\n",
    "hours = [6*i for i in range(8*6)]\n",
    "days = range(8)\n"
   ],
   "metadata": {
    "collapsed": false,
    "pycharm": {
     "name": "#%%\n",
     "is_executing": true
    }
   }
  },
  {
   "cell_type": "code",
   "execution_count": null,
   "outputs": [],
   "source": [
    "df_not"
   ],
   "metadata": {
    "collapsed": false,
    "pycharm": {
     "name": "#%%\n",
     "is_executing": true
    }
   }
  },
  {
   "cell_type": "code",
   "execution_count": null,
   "outputs": [],
   "source": [
    "df_hourly_not = pd.DataFrame()\n",
    "for c in df_not.columns:\n",
    "    df_hourly_not[c]=(df_not[c]).value_counts(sort=True)\n",
    "df_hourly_not.sort_index()"
   ],
   "metadata": {
    "collapsed": false,
    "pycharm": {
     "name": "#%%\n",
     "is_executing": true
    }
   }
  },
  {
   "cell_type": "code",
   "execution_count": null,
   "outputs": [],
   "source": [],
   "metadata": {
    "collapsed": false,
    "pycharm": {
     "name": "#%%\n",
     "is_executing": true
    }
   }
  },
  {
   "cell_type": "code",
   "execution_count": null,
   "outputs": [],
   "source": [
    "fig, ax = plt.subplots()\n",
    "df_hourly_not.hist(bins=hours, alpha=0.8, sharey=True, sharex=True, figsize=(12,6))\n",
    "fig.savefig(\"Plots/{}/hists_WEB_{}.png\" .format(year1, year1), dpi=300)"
   ],
   "metadata": {
    "collapsed": false,
    "pycharm": {
     "name": "#%%\n",
     "is_executing": true
    }
   }
  },
  {
   "cell_type": "code",
   "execution_count": null,
   "outputs": [],
   "source": [
    "fig, ax = plt.subplots(figsize=(10,5), sharey=True)\n",
    "\n",
    "\n",
    "sns.histplot(df_hourly_not, kde=False,alpha=0.1,linewidth=1,\n",
    "             fill=True,\n",
    "             cumulative=False,\n",
    "             element=\"step\",\n",
    "             bins=hours, ax=ax)\n",
    "\n",
    "\n",
    "ax.set_xlabel(\"Nicht-Signale kürzer als (6h Blöcke)\")\n",
    "fig.savefig(\"Plots/{}/all_hists_WEB_{}.png\" .format(year1, year1), dpi=300)"
   ],
   "metadata": {
    "collapsed": false,
    "pycharm": {
     "name": "#%%\n",
     "is_executing": true
    }
   }
  },
  {
   "cell_type": "markdown",
   "source": [
    "doku daziu:\n",
    "https://seaborn.pydata.org/generated/seaborn.histplot.html"
   ],
   "metadata": {
    "collapsed": false
   }
  }
 ],
 "metadata": {
  "kernelspec": {
   "display_name": "Python 3",
   "language": "python",
   "name": "python3"
  },
  "language_info": {
   "codemirror_mode": {
    "name": "ipython",
    "version": 2
   },
   "file_extension": ".py",
   "mimetype": "text/x-python",
   "name": "python",
   "nbconvert_exporter": "python",
   "pygments_lexer": "ipython2",
   "version": "2.7.6"
  }
 },
 "nbformat": 4,
 "nbformat_minor": 0
}