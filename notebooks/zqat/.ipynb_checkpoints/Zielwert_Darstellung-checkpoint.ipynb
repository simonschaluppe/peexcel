{
 "cells": [
  {
   "cell_type": "code",
   "execution_count": 7,
   "metadata": {},
   "outputs": [
    {
     "name": "stderr",
     "output_type": "stream",
     "text": [
      "Der Befehl \"cwd\" ist entweder falsch geschrieben oder\n",
      "konnte nicht gefunden werden.\n"
     ]
    }
   ],
   "source": [
    "import sys\n",
    "sys.path.append(‘C:\\users\\name\\code\\my-Python-object-location’)"
   ]
  },
  {
   "cell_type": "code",
   "execution_count": 5,
   "metadata": {
    "pycharm": {
     "is_executing": true,
     "name": "#%%\n"
    }
   },
   "outputs": [
    {
     "ename": "ModuleNotFoundError",
     "evalue": "No module named 'utils'",
     "output_type": "error",
     "traceback": [
      "\u001b[1;31m---------------------------------------------------------------------------\u001b[0m",
      "\u001b[1;31mModuleNotFoundError\u001b[0m                       Traceback (most recent call last)",
      "\u001b[1;32m~\\AppData\\Local\\Temp\\ipykernel_19444\\3410788064.py\u001b[0m in \u001b[0;36m<module>\u001b[1;34m\u001b[0m\n\u001b[0;32m      7\u001b[0m \u001b[0mlogging\u001b[0m\u001b[1;33m.\u001b[0m\u001b[0mlevel\u001b[0m\u001b[1;33m=\u001b[0m\u001b[0mlogging\u001b[0m\u001b[1;33m.\u001b[0m\u001b[0mWARNING\u001b[0m\u001b[1;33m\u001b[0m\u001b[1;33m\u001b[0m\u001b[0m\n\u001b[0;32m      8\u001b[0m \u001b[1;33m\u001b[0m\u001b[0m\n\u001b[1;32m----> 9\u001b[1;33m \u001b[1;32mimport\u001b[0m \u001b[0mutils\u001b[0m\u001b[1;33m.\u001b[0m\u001b[0mtargets\u001b[0m\u001b[1;33m\u001b[0m\u001b[1;33m\u001b[0m\u001b[0m\n\u001b[0m\u001b[0;32m     10\u001b[0m \u001b[1;32mfrom\u001b[0m \u001b[0mutils\u001b[0m\u001b[1;33m.\u001b[0m\u001b[0mplotting\u001b[0m \u001b[1;32mimport\u001b[0m \u001b[0mtarget_of_gfz\u001b[0m\u001b[1;33m\u001b[0m\u001b[1;33m\u001b[0m\u001b[0m\n\u001b[0;32m     11\u001b[0m \u001b[1;33m\u001b[0m\u001b[0m\n",
      "\u001b[1;31mModuleNotFoundError\u001b[0m: No module named 'utils'"
     ]
    }
   ],
   "source": [
    "from matplotlib import pyplot as plt\n",
    "import numpy as np\n",
    "import pandas as pd\n",
    "import seaborn as sns\n",
    "import logging\n",
    "\n",
    "logging.level=logging.WARNING\n",
    "\n",
    "import utils.targets\n",
    "from utils.plotting import target_of_gfz\n",
    "\n",
    "zq_zielwert = utils.targets.Zielwert.ZQSynergy()\n",
    "zq_zielwert.set_reference(\"BGF\")\n",
    "zq1 = utils.targets.Zielwert.ZQ1()\n",
    "GFZ = np.linspace(0,6,600)\n",
    "zw_df = pd.DataFrame()\n",
    "label = \"Zielwert ZQ Synergy (aktuell)\"\n",
    "zw_df[label] = zq_zielwert.df(GFZ)\n",
    "zw_df[\"_\"] = np.zeros(len(GFZ))\n",
    "zw_df_old = pd.DataFrame()\n",
    "zw_df_old[\"ZQ 1.0 (2019)\"] = zq1.df(GFZ)\n",
    "fig, ax = plt.subplots(1,1, figsize=(10,6))\n",
    "target_of_gfz(ax, df=zw_df, xlims=(0,6), ylims=(-50,125), color=[\"red\", \"darkred\"])\n",
    "# zq1.set_reference(\"BGF\")\n",
    "target_of_gfz(ax, df=zw_df_old, xlims=(0,6), ylims=(-50,125), color=[\"red\", \"darkred\"], linewidth=0.5, linestyle=\"dashed\")\n",
    "props = dict(boxstyle='round', facecolor='wheat', alpha=0.8)\n",
    "zq_zielwert.set_reference(\"BGF\")\n",
    "text = \"\\nZielwert: \\n\"\n",
    "text += \"BGF: \"+zq_zielwert.formula() +\"\\n\"\n",
    "zq_zielwert.set_reference(\"NGF\")\n",
    "text += \"NGF: \"+zq_zielwert.formula()\n",
    "ax.text(1, 40, text, fontsize=12, bbox=props)\n",
    "zq_zielwert.set_reference(\"BGF\")\n",
    "\n",
    "x, y1, y2 = GFZ, zw_df[\"_\"], zw_df[label]\n",
    "ax.fill_between(x, y1, y2, where=y2 >= y1,\n",
    "                facecolor='lightgreen', interpolate=True,  alpha = 0.3)\n",
    "ax.fill_between(x, y1, y2, where=y2 <= y1,\n",
    "                facecolor='grey', interpolate=True, alpha = 0.3)\n",
    "ax.set_ylabel(\"Primärenergie-Saldo\\n[$kWh/m²_{BGF}a$]\")\n",
    "arrow_props=dict(arrowstyle=\"->\", color=\"green\")\n",
    "ax.annotate(\"Effort Sharing\", xy=(0.3, 15), xytext=(1.3, 5),\n",
    "            arrowprops=arrow_props)\n",
    "ax.annotate(\"Effort Sharing\", xy=(4.6, -10), xytext=(1.3, 5),\n",
    "            arrowprops=arrow_props, color=\"green\")\n",
    "\n",
    "arrow_props=dict(arrowstyle=\"->\", color=\"grey\", linewidth=1.8)\n",
    "pos = 0.35\n",
    "ax.annotate(\"\", xy=(pos, zq_zielwert.alpha(pos)), xytext=(pos, zq1.alpha(pos)),\n",
    "            arrowprops=arrow_props)\n",
    "t = \"Erleichterung ggü. urspürnlgichem Zielwert ZQ1 bei GFZ < 2\"\n",
    "ax.annotate(t, xy=(pos, (zq1.alpha(pos)+zq_zielwert.alpha(pos))/2),\n",
    "            xytext=(pos, zq1.alpha(pos)),\n",
    "            arrowprops=dict(arrowstyle=\"-\", color=\"None\", linewidth=0.3),\n",
    "            fontsize=8, color=\"grey\")\n",
    "\n",
    "\n",
    "sel = np.array([0.2,0.5, 0.75, 1, 1.5, 2, 3, 4, 5])\n",
    "\n",
    "points = np.array(zq_zielwert.alpha(sel))\n",
    "sns.scatterplot(x=sel, y=points, ax=ax, color=\"red\")\n",
    "for i, gfz in enumerate(sel):\n",
    "    y = zq_zielwert.alpha(gfz)\n",
    "    if gfz < 2 and gfz != 1:\n",
    "        ax.plot((gfz, gfz),(-100,y), linewidth=0.1, color=\"grey\")\n",
    "        ax.text(gfz, -55, round(gfz,2), fontsize=8, color=\"grey\")\n",
    "    ax.text(gfz, round(y,1)+3, str(round(y)),\n",
    "            fontsize=8, color=\"red\")\n",
    "\n",
    "\n",
    "plt.savefig(\"Zielwert_Darstellung.png\", dpi=300)"
   ]
  },
  {
   "cell_type": "code",
   "execution_count": null,
   "metadata": {
    "pycharm": {
     "name": "#%%\n"
    }
   },
   "outputs": [],
   "source": [
    "from matplotlib import pyplot as plt\n",
    "import numpy as np\n",
    "import pandas as pd\n",
    "import seaborn as sns\n",
    "import logging\n",
    "\n",
    "logging.level=logging.WARNING\n",
    "\n",
    "import utils.targets\n",
    "from utils.plotting import target_of_gfz\n",
    "\n",
    "zq_zielwert = utils.targets.Zielwert.ZQSynergy()\n",
    "zq_zielwert.set_reference(\"BGF\")\n",
    "zq1 = utils.targets.Zielwert.ZQ1()\n",
    "GFZ = np.linspace(0,6,600)\n",
    "zw_df = pd.DataFrame()\n",
    "label = \"Zielwert ZQ Synergy (aktuell)\"\n",
    "zw_df[label] = zq_zielwert.df(GFZ)\n",
    "zw_df[\"_\"] = np.zeros(len(GFZ))\n",
    "zw_df_old = pd.DataFrame()\n",
    "zw_df_old[\"ZQ 1.0 (2019)\"] = zq1.df(GFZ)\n",
    "fig, ax = plt.subplots(1,1, figsize=(10,6))\n",
    "target_of_gfz(ax, df=zw_df, xlims=(0,6), ylims=(-50,125), color=[\"red\", \"darkred\"])\n",
    "# zq1.set_reference(\"BGF\")\n",
    "target_of_gfz(ax, df=zw_df_old, xlims=(0,6), ylims=(-50,125), color=[\"red\", \"darkred\"], linewidth=0.5, linestyle=\"dashed\")\n",
    "props = dict(boxstyle='round', facecolor='wheat', alpha=0.8)\n",
    "zq_zielwert.set_reference(\"BGF\")\n",
    "text = \"\\nZielwert: \\n\"\n",
    "text += \"BGF: \"+zq_zielwert.formula() +\"\\n\"\n",
    "zq_zielwert.set_reference(\"NGF\")\n",
    "text += \"NGF: \"+zq_zielwert.formula()\n",
    "ax.text(1, 40, text, fontsize=12, bbox=props)\n",
    "zq_zielwert.set_reference(\"BGF\")\n",
    "\n",
    "x, y1, y2 = GFZ, zw_df[\"_\"], zw_df[label]\n",
    "ax.fill_between(x, y1, y2, where=y2 >= y1,\n",
    "                facecolor='lightgreen', interpolate=True,  alpha = 0.3)\n",
    "ax.fill_between(x, y1, y2, where=y2 <= y1,\n",
    "                facecolor='grey', interpolate=True, alpha = 0.3)\n",
    "ax.set_ylabel(\"Primärenergie-Saldo\\n[$kWh/m²_{BGF}a$]\")\n",
    "arrow_props=dict(arrowstyle=\"->\", color=\"green\")\n",
    "ax.annotate(\"Effort Sharing\", xy=(0.3, 15), xytext=(1.3, 5),\n",
    "            arrowprops=arrow_props)\n",
    "ax.annotate(\"Effort Sharing\", xy=(4.6, -10), xytext=(1.3, 5),\n",
    "            arrowprops=arrow_props, color=\"green\")\n",
    "\n",
    "arrow_props=dict(arrowstyle=\"->\", color=\"grey\", linewidth=1.8)\n",
    "pos = 0.35\n",
    "ax.annotate(\"\", xy=(pos, zq_zielwert.alpha(pos)), xytext=(pos, zq1.alpha(pos)),\n",
    "            arrowprops=arrow_props)\n",
    "t = \"Erleichterung ggü. urspürnlgichem Zielwert ZQ1 bei GFZ < 2\"\n",
    "ax.annotate(t, xy=(pos, (zq1.alpha(pos)+zq_zielwert.alpha(pos))/2),\n",
    "            xytext=(pos, zq1.alpha(pos)),\n",
    "            arrowprops=dict(arrowstyle=\"-\", color=\"None\", linewidth=0.3),\n",
    "            fontsize=8, color=\"grey\")\n",
    "\n",
    "\n",
    "sel = np.array([0.2,0.5, 0.75, 1, 1.5, 2, 3, 4, 5])\n",
    "\n",
    "points = np.array(zq_zielwert.alpha(sel))\n",
    "sns.scatterplot(x=sel, y=points, ax=ax, color=\"red\")\n",
    "for i, gfz in enumerate(sel):\n",
    "    y = zq_zielwert.alpha(gfz)\n",
    "    if gfz < 2 and gfz != 1:\n",
    "        ax.plot((gfz, gfz),(-100,y), linewidth=0.1, color=\"grey\")\n",
    "        ax.text(gfz, -55, round(gfz,2), fontsize=8, color=\"grey\")\n",
    "    ax.text(gfz, round(y,1)+3, str(round(y)),\n",
    "            fontsize=8, color=\"red\")\n",
    "\n",
    "\n",
    "plt.savefig(\"Zielwert_Darstellung.png\", dpi=300)"
   ]
  }
 ],
 "metadata": {
  "kernelspec": {
   "display_name": "Python 3 (ipykernel)",
   "language": "python",
   "name": "python3"
  },
  "language_info": {
   "codemirror_mode": {
    "name": "ipython",
    "version": 3
   },
   "file_extension": ".py",
   "mimetype": "text/x-python",
   "name": "python",
   "nbconvert_exporter": "python",
   "pygments_lexer": "ipython3",
   "version": "3.9.12"
  }
 },
 "nbformat": 4,
 "nbformat_minor": 1
}
