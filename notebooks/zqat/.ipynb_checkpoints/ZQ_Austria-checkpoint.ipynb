{
 "cells": [
  {
   "cell_type": "code",
   "execution_count": 1,
   "metadata": {
    "pycharm": {
     "name": "#%%\n"
    }
   },
   "outputs": [],
   "source": [
    "# which excels?\n",
    "\n",
    "# for each excel\n",
    "# get the variations block\n",
    "# copy it at the bottom of the Comparison tExcel\n",
    "import sys\n",
    "sys.path.append(\"../\")"
   ]
  },
  {
   "cell_type": "code",
   "execution_count": 2,
   "metadata": {
    "pycharm": {
     "name": "#%%\n"
    }
   },
   "outputs": [],
   "source": [
    "from pathlib import Path\n",
    "import xlwings\n",
    "from utils import excel\n",
    "\n",
    "excel_paths = [\n",
    "    r\"C:\\Users\\Simon Schneider\\Nextcloud\\EE\\1_Forschung\\2_Laufend\\ZQ Austria\\Quartiersdaten\\PlusenergieExcel_Aichinger_211105.xlsb\",\n",
    "    r\"C:\\Users\\Simon Schneider\\Nextcloud\\EE\\1_Forschung\\2_Laufend\\ZQ Austria\\Quartiersdaten\\PlusenergieExcel_AmBichl_211105.xlsb\",\n",
    "    r\"C:\\Users\\Simon Schneider\\Nextcloud\\EE\\1_Forschung\\2_Laufend\\ZQ Austria\\Quartiersdaten\\PlusenergieExcel_Glan_211105.xlsb\",\n",
    "    r\"C:\\Users\\Simon Schneider\\Nextcloud\\EE\\1_Forschung\\2_Laufend\\ZQ Austria\\Quartiersdaten\\PlusenergieExcel_Gneis_211105.xlsb\",\n",
    "    r\"C:\\Users\\Simon Schneider\\Nextcloud\\EE\\1_Forschung\\2_Laufend\\ZQ Austria\\Quartiersdaten\\PlusenergieExcel_Graz_211105.xlsb\",\n",
    "    r\"C:\\Users\\Simon Schneider\\Nextcloud\\EE\\1_Forschung\\2_Laufend\\ZQ Austria\\Quartiersdaten\\PlusenergieExcel_Pilzgasse_211105.xlsb\",\n",
    "]\n",
    "\n",
    "paths = [Path(ep) for ep in excel_paths]\n",
    "\n",
    "varianten_file = \"Quartiersvergleich211129cleaned.xlsx\"\n",
    "\n",
    "aggregation_excel_path = Path(r\"C:\\Users\\Simon Schneider\\Nextcloud\\EE\\6_Daten\\Quartiere\",varianten_file)\n",
    "aggregation_sheet = \"PEExcel Import\""
   ]
  },
  {
   "cell_type": "code",
   "execution_count": 3,
   "metadata": {
    "pycharm": {
     "name": "#%%\n"
    }
   },
   "outputs": [],
   "source": [
    "# for path in paths:\n",
    "#     excel.append_variations_to_aggregation_sheet(\n",
    "#         peexcel_path=path,\n",
    "#         agg_book_path=aggregation_excel_path,\n",
    "#         agg_sheet_name=aggregation_sheet,\n",
    "#         close_after=True\n",
    "#     )"
   ]
  },
  {
   "cell_type": "code",
   "execution_count": 4,
   "metadata": {
    "pycharm": {
     "name": "#%%\n"
    }
   },
   "outputs": [
    {
     "name": "stdout",
     "output_type": "stream",
     "text": [
      "C:\\Users\\Simon Schneider\\Nextcloud\\EE\\6_Daten\\Quartiere\\Quartiersvergleich211129cleaned.xlsx\n"
     ]
    }
   ],
   "source": [
    "import pandas as pd\n",
    "print(aggregation_excel_path)"
   ]
  },
  {
   "cell_type": "code",
   "execution_count": 5,
   "metadata": {
    "pycharm": {
     "name": "#%%\n"
    }
   },
   "outputs": [
    {
     "name": "stdout",
     "output_type": "stream",
     "text": [
      "<class 'pandas.core.frame.DataFrame'>\n",
      "RangeIndex: 239 entries, 0 to 238\n",
      "Columns: 401 entries, idx to ende result saving area\n",
      "dtypes: float64(358), object(43)\n",
      "memory usage: 748.9+ KB\n"
     ]
    }
   ],
   "source": [
    "aggbook = xlwings.Book(aggregation_excel_path)\n",
    "\n",
    "def varianten(\n",
    "        book:xlwings.Book,\n",
    "        aggregation_sheet:str,\n",
    "        rowstart=2,\n",
    "        rowstop=242,\n",
    "        colstop=401\n",
    ") -> pd.DataFrame:\n",
    "\n",
    "    vars = book.sheets[aggregation_sheet]\n",
    "    range = vars[rowstart:rowstop, :colstop]\n",
    "    df = range.options(pd.DataFrame, index=False).value\n",
    "    return df\n",
    "\n",
    "df = varianten(aggbook, aggregation_sheet)\n",
    "df.info()"
   ]
  },
  {
   "cell_type": "code",
   "execution_count": 6,
   "metadata": {
    "pycharm": {
     "name": "#%%\n"
    }
   },
   "outputs": [
    {
     "data": {
      "text/html": [
       "<div>\n",
       "<style scoped>\n",
       "    .dataframe tbody tr th:only-of-type {\n",
       "        vertical-align: middle;\n",
       "    }\n",
       "\n",
       "    .dataframe tbody tr th {\n",
       "        vertical-align: top;\n",
       "    }\n",
       "\n",
       "    .dataframe thead th {\n",
       "        text-align: right;\n",
       "    }\n",
       "</style>\n",
       "<table border=\"1\" class=\"dataframe\">\n",
       "  <thead>\n",
       "    <tr style=\"text-align: right;\">\n",
       "      <th></th>\n",
       "      <th>idx</th>\n",
       "      <th>Variantenname</th>\n",
       "      <th>longname</th>\n",
       "      <th>Simulation</th>\n",
       "      <th>Berechnungszeitpunkt</th>\n",
       "      <th>FILE</th>\n",
       "      <th>Projekt</th>\n",
       "      <th>Wohnbau NGF (m²)</th>\n",
       "      <th>Büro NGF (m²)</th>\n",
       "      <th>Schule NGF (m²)</th>\n",
       "      <th>...</th>\n",
       "      <th>Netzstrom</th>\n",
       "      <th>Abwärme</th>\n",
       "      <th>Summe</th>\n",
       "      <th>GFZ</th>\n",
       "      <th>PE-Saldo Zielwert [kWh/m²NGF]</th>\n",
       "      <th>PE-Saldo Ziel Real[kWh/m²BGF]</th>\n",
       "      <th>PE-Saldo Zielwert Großkraftwerke [kWh/m²NGF]</th>\n",
       "      <th>diese zellen sind mit ergbnisverweisen befüllbar</th>\n",
       "      <th>diese zellen sind mit ergbnisverweisen befüllbar</th>\n",
       "      <th>ende result saving area</th>\n",
       "    </tr>\n",
       "  </thead>\n",
       "  <tbody>\n",
       "    <tr>\n",
       "      <th>1</th>\n",
       "      <td>2.0</td>\n",
       "      <td>Alpha - Aktuell</td>\n",
       "      <td>Aichinger 2 Alpha - Aktuell</td>\n",
       "      <td>Doppelsimulation</td>\n",
       "      <td>2021-11-24 15:12:07</td>\n",
       "      <td>latest</td>\n",
       "      <td>Aichinger</td>\n",
       "      <td>123.8</td>\n",
       "      <td>0.0</td>\n",
       "      <td>0.0</td>\n",
       "      <td>...</td>\n",
       "      <td>13.777718</td>\n",
       "      <td>0.0</td>\n",
       "      <td>40.061759</td>\n",
       "      <td>0.234899</td>\n",
       "      <td>121.154503</td>\n",
       "      <td>85.708157</td>\n",
       "      <td>97.91429</td>\n",
       "      <td>0.684</td>\n",
       "      <td>0.830531</td>\n",
       "      <td>None</td>\n",
       "    </tr>\n",
       "  </tbody>\n",
       "</table>\n",
       "<p>1 rows × 401 columns</p>\n",
       "</div>"
      ],
      "text/plain": [
       "   idx    Variantenname                     longname        Simulation  \\\n",
       "1  2.0  Alpha - Aktuell  Aichinger 2 Alpha - Aktuell  Doppelsimulation   \n",
       "\n",
       "  Berechnungszeitpunkt    FILE    Projekt  Wohnbau NGF (m²)  Büro NGF (m²)  \\\n",
       "1  2021-11-24 15:12:07  latest  Aichinger             123.8            0.0   \n",
       "\n",
       "   Schule NGF (m²)  ...  Netzstrom  Abwärme      Summe       GFZ  \\\n",
       "1              0.0  ...  13.777718      0.0  40.061759  0.234899   \n",
       "\n",
       "   PE-Saldo Zielwert [kWh/m²NGF]  PE-Saldo Ziel Real[kWh/m²BGF]  \\\n",
       "1                     121.154503                      85.708157   \n",
       "\n",
       "   PE-Saldo Zielwert Großkraftwerke [kWh/m²NGF]  \\\n",
       "1                                      97.91429   \n",
       "\n",
       "  diese zellen sind mit ergbnisverweisen befüllbar  \\\n",
       "1                                            0.684   \n",
       "\n",
       "  diese zellen sind mit ergbnisverweisen befüllbar  ende result saving area  \n",
       "1                                         0.830531                     None  \n",
       "\n",
       "[1 rows x 401 columns]"
      ]
     },
     "execution_count": 6,
     "metadata": {},
     "output_type": "execute_result"
    }
   ],
   "source": [
    "# find a certain variation from the list\n",
    "\n",
    "df[\n",
    "    (df[\"Variantenname\"]==\"Alpha - Aktuell\") &\n",
    "    (df[\"Projekt\"]==\"Aichinger\")\n",
    "]"
   ]
  },
  {
   "cell_type": "code",
   "execution_count": 7,
   "metadata": {
    "pycharm": {
     "name": "#%%\n"
    }
   },
   "outputs": [],
   "source": [
    "import numpy as np\n",
    "from utils.targets import Zielwert, ZQSynergy\n",
    "\n",
    "GFZ = np.linspace(0.0, 8, 800) #min, max, steps\n",
    "PEQ_alfa = pd.DataFrame({\n",
    "    \"\":np.zeros(len(GFZ)),\n",
    "    \"Zielwert Alpha\": Zielwert.ZQSynergy().alpha(GFZ=GFZ),\n",
    "\n",
    "}, index=GFZ)\n"
   ]
  },
  {
   "cell_type": "code",
   "execution_count": null,
   "metadata": {
    "pycharm": {
     "name": "#%%\n"
    }
   },
   "outputs": [],
   "source": [
    "import matplotlib.pyplot as plt\n",
    "from utils.plotting import target_of_gfz\n",
    "\n",
    "fig, ax = plt.subplots(1,1, figsize=(10,6))\n",
    "target_of_gfz(ax=ax, df=PEQ_alfa)\n",
    "ax.set_ylabel(\"PE-Bilanz $[{kWh/m²_{NGF}a}]$\")\n",
    "\n"
   ]
  },
  {
   "cell_type": "code",
   "execution_count": null,
   "metadata": {
    "pycharm": {
     "name": "#%%\n"
    }
   },
   "outputs": [],
   "source": [
    "df.dropna(subset=[\"Variantenname\"], inplace=True)\n",
    "df.drop(df[df.Simulation != \"Doppelsimulation\"].index, inplace=True)"
   ]
  },
  {
   "cell_type": "code",
   "execution_count": null,
   "metadata": {
    "pycharm": {
     "name": "#%%\n"
    }
   },
   "outputs": [],
   "source": [
    "df.iloc[130]"
   ]
  },
  {
   "cell_type": "code",
   "execution_count": null,
   "metadata": {
    "pycharm": {
     "name": "#%%\n"
    }
   },
   "outputs": [],
   "source": [
    "cols = {\n",
    "\"Alpha - Bauträger Standard\": 1.0,\n",
    "\"Alpha - Aktuell\": 2.0,\n",
    "\"Alpha - Netzdienlichkeit\": 3.0,\n",
    "\"Alpha - Min PEQ\": 4.0,\n",
    "\"Alpha - Min PEQ - Nutzerstrom 75%\": 4.5,\n",
    "\"Beta - Bauträger Standard\": 5.0,\n",
    "\"Beta - Aktuell\": 6.0,\n",
    "\"Beta - Netzdienlichkeit\": 7.0,\n",
    "\"Beta - Min PEQ\": 8.0,\n",
    "\"Beta - Min PEQ - Nutzerstrom 75%\": 8.5,\n",
    "\"Omega - Bauträger Standard\": 9.0,\n",
    "\"Omega - Aktuell\": 10.0,\n",
    "\"Omega - Netzdienlichkeit\": 11.0,\n",
    "\"Omega - Min PEQ\": 12.0,\n",
    "\"Omega - Min PEQ - Nutzerstrom 75%\": 12.5,\n",
    "}\n",
    "\n",
    "new_df = df[\n",
    "    (df.FILE != \"None\")\n",
    "]\n",
    "\n",
    "df = new_df\n",
    "new_df"
   ]
  },
  {
   "cell_type": "code",
   "execution_count": null,
   "metadata": {
    "pycharm": {
     "name": "#%%\n"
    }
   },
   "outputs": [],
   "source": [
    "dsm_df = new_df[\n",
    "    (new_df.index.isin([4.0,4.5]))\n",
    "]\n",
    "dsm_df\n"
   ]
  },
  {
   "cell_type": "code",
   "execution_count": null,
   "metadata": {
    "pycharm": {
     "name": "#%%\n"
    }
   },
   "outputs": [],
   "source": [
    "# get variants\n",
    "# s2 = aggbook.sheets[4]\n",
    "# local_addr = s2[\"M5\"].formula.split(\"!\")[1]\n",
    "# aggsheet = aggbook.sheets[aggregation_sheet]\n",
    "# new_df.columns[aggsheet[local_addr].column-2]"
   ]
  },
  {
   "cell_type": "markdown",
   "metadata": {
    "pycharm": {
     "name": "#%% md\n"
    }
   },
   "source": [
    "we commonly need to transform the df into a flat version,\n",
    " with an additional column *calc_type*:\n",
    " * Erdgas,\n",
    " * FW,\n",
    " * HP /wo DSM,\n",
    " * HP /w DSM\n"
   ]
  },
  {
   "cell_type": "code",
   "execution_count": null,
   "metadata": {
    "pycharm": {
     "name": "#%%\n"
    }
   },
   "outputs": [],
   "source": [
    "first, last = 2, 241# row\n",
    "# df_inputs\n",
    "vars = aggbook.sheets[aggregation_sheet]\n",
    "range = vars[first:last, :204]\n",
    "df_inputslarge = range.options(pd.DataFrame, index=False).value\n",
    "df_gfzblock = vars[first:last, 394:397].options(pd.DataFrame, index=False).value\n",
    "#joining GFZ shit\n",
    "df_inputs = df_gfzblock.join(df_inputslarge)\n",
    "df_inputs"
   ]
  },
  {
   "cell_type": "code",
   "execution_count": null,
   "metadata": {
    "pycharm": {
     "name": "#%%\n"
    }
   },
   "outputs": [],
   "source": [
    "# df_gas\n",
    "range = vars[first:last, 204:224]\n",
    "df_gas = range.options(pd.DataFrame, index=False).value\n",
    "df_gas[\"energy_system\"] = \"Erdgas\"\n",
    "# df_distheat\n",
    "range = vars[first:last, 224:244]\n",
    "df_distheat = range.options(pd.DataFrame, index=False).value\n",
    "df_distheat[\"energy_system\"] = \"Fernwärme\"\n",
    "# df_HPwoDSM\n",
    "range = vars[first:last, 244:264]\n",
    "df_HPwoDSM = range.options(pd.DataFrame, index=False).value\n",
    "df_HPwoDSM[\"energy_system\"] = \"Wärmepumpe (OHNE DSM)\"\n",
    "# df_HPwDSM\n",
    "range = vars[first:last, 308:328]\n",
    "df_HPwDSM = range.options(pd.DataFrame, index=False).value\n",
    "df_HPwDSM[\"energy_system\"] = \"Wärmepumpe (mit DSM)\""
   ]
  },
  {
   "cell_type": "code",
   "execution_count": null,
   "metadata": {
    "pycharm": {
     "name": "#%%\n"
    }
   },
   "outputs": [],
   "source": [
    "# concatenate all dfs\n",
    "i = np.arange(132)\n",
    "df1 = pd.concat([df_gas, df_inputs], axis=1)#.set_index([i,i]).reset_index(level=0)\n",
    "i2 = i+132\n",
    "df2 = pd.concat([df_distheat, df_inputs], axis=1)#.set_index([i,i2]).reset_index(level=0)\n",
    "i3 = i2+132\n",
    "df3 = pd.concat([df_HPwoDSM, df_inputs], axis=1)#.set_index([i,i3]).reset_index(level=0)\n",
    "i4 = i3+132\n",
    "df4 = pd.concat([df_HPwDSM, df_inputs ], axis=1)#\\\n",
    " #   .set_index([i,i4], drop=True)\\\n",
    "#    .reset_index(level=0)\n",
    "\n",
    "df4.shape"
   ]
  },
  {
   "cell_type": "code",
   "execution_count": null,
   "metadata": {
    "pycharm": {
     "name": "#%%\n"
    }
   },
   "outputs": [],
   "source": [
    "from enum import Enum, auto\n",
    "# vars[\"K2\"].value\n",
    "class EnerSys(Enum):\n",
    "    gas = auto()\n",
    "    dh = auto()\n",
    "    hp_wo_dsm = auto()\n",
    "    hp_w_dsm = auto()"
   ]
  },
  {
   "cell_type": "code",
   "execution_count": null,
   "metadata": {
    "pycharm": {
     "name": "#%%\n"
    }
   },
   "outputs": [],
   "source": [
    "for n in EnerSys:\n",
    "    print(n)"
   ]
  },
  {
   "cell_type": "code",
   "execution_count": null,
   "metadata": {
    "pycharm": {
     "name": "#%%\n"
    }
   },
   "outputs": [],
   "source": [
    "\n",
    "result_map_NGF = {\n",
    "    EnerSys.gas: {\n",
    "        \"PEBedarf\": {\"abc\": \"GW\", \"num\":204},\n",
    "        \"PEExport\": {\"abc\": \"GX\", \"num\":205},\n",
    "        \"PESaldo\": {\"abc\": \"GY\", \"num\":206},\n",
    "        \"Alpha - Dichteausgleich [kWh/m²NGF]\": {\n",
    "            \"abc\": \"HA\", \"num\":208},\n",
    "    },\n",
    "    EnerSys.dh: {\n",
    "        \"PEBedarf\": {\"abc\": \"HQ\", \"num\":224},\n",
    "        \"PEExport\": {\"abc\": \"HR\", \"num\":225},\n",
    "        \"PESaldo\": {\"abc\": \"HS\", \"num\":226},\n",
    "        \"Alpha - Dichteausgleich [kWh/m²NGF]\": {\n",
    "            \"abc\": \"HU\", \"num\":228},\n",
    "    },\n",
    "    EnerSys.hp_wo_dsm: {\n",
    "        \"PEBedarf\": {\"abc\": \"IK\", \"num\":244},\n",
    "        \"PEExport\": {\"abc\": \"IL\", \"num\":245},\n",
    "        \"PESaldo\": {\"abc\": \"IM\", \"num\":246},\n",
    "        \"Alpha - Dichteausgleich [kWh/m²NGF]\": {\n",
    "            \"abc\": \"IO\", \"num\":248},\n",
    "    },\n",
    "    EnerSys.hp_w_dsm: {\n",
    "        \"PEBedarf\": {\"abc\": \"KW\", \"num\":308},\n",
    "        \"PEExport\": {\"abc\": \"KX\", \"num\":309},\n",
    "        \"PESaldo\": {\"abc\": \"KY\", \"num\":310},\n",
    "        \"Alpha - Dichteausgleich [kWh/m²NGF]\": {\n",
    "            \"abc\": \"LA\", \"num\":312},\n",
    "    }\n",
    "}\n"
   ]
  },
  {
   "cell_type": "code",
   "execution_count": null,
   "metadata": {
    "pycharm": {
     "name": "#%%\n"
    }
   },
   "outputs": [],
   "source": [
    "def address(system:EnerSys, index, col:str, row_offset=3, mapping=result_map_NGF):\n",
    "    addr = mapping[system][col][\"abc\"]\n",
    "    return addr+str(index+row_offset)\n"
   ]
  },
  {
   "cell_type": "code",
   "execution_count": null,
   "metadata": {
    "pycharm": {
     "name": "#%%\n"
    }
   },
   "outputs": [],
   "source": [
    "aggsheet = vars\n",
    "a1 = address(EnerSys.hp_wo_dsm, 0, \"PEBedarf\")\n",
    "aggsheet[a1].value"
   ]
  },
  {
   "cell_type": "code",
   "execution_count": null,
   "metadata": {
    "pycharm": {
     "name": "#%%\n"
    }
   },
   "outputs": [],
   "source": [
    "df1\n",
    "# df1[\"PEBedarf\"]"
   ]
  },
  {
   "cell_type": "markdown",
   "metadata": {
    "pycharm": {
     "name": "#%% md\n"
    }
   },
   "source": [
    "Zuerst einmal ein Sanity check:\n",
    "In welchen Input Kategorien unterscheiden sich die Varianten nicht?"
   ]
  },
  {
   "cell_type": "code",
   "execution_count": null,
   "metadata": {
    "pycharm": {
     "name": "#%%\n"
    }
   },
   "outputs": [],
   "source": [
    "projects = df_inputs.Projekt.unique()\n",
    "projects"
   ]
  },
  {
   "cell_type": "code",
   "execution_count": null,
   "metadata": {
    "pycharm": {
     "name": "#%%\n"
    }
   },
   "outputs": [],
   "source": [
    "varianten = df_inputs.Variantenname.unique()\n",
    "varianten\n"
   ]
  },
  {
   "cell_type": "code",
   "execution_count": null,
   "metadata": {
    "pycharm": {
     "name": "#%%\n"
    }
   },
   "outputs": [],
   "source": [
    "bauweisen = df_inputs[\"Gewählte Variante\"].unique()\n",
    "bauweisen, len(bauweisen)"
   ]
  },
  {
   "cell_type": "code",
   "execution_count": null,
   "metadata": {
    "pycharm": {
     "name": "#%%\n"
    }
   },
   "outputs": [],
   "source": [
    "sonnenschutz = df_inputs[\"Mobiler Sommerlicher Sonnenschutz\"].unique()\n",
    "sonnenschutz, len(sonnenschutz)\n"
   ]
  },
  {
   "cell_type": "code",
   "execution_count": null,
   "metadata": {
    "pycharm": {
     "name": "#%%\n"
    }
   },
   "outputs": [],
   "source": [
    "view2 = df2[df2.idx.isin([1.,5.,9.])].copy()\n",
    "view3 = df3[df3.idx.isin([2.,6.,10.])].copy()\n",
    "view4 = df4[df4.idx.isin([3.,4.0,4.5,7.,8.,8.5,11.,12.,12.5])].copy()\n",
    "view = pd.concat([view2,view3, view4])"
   ]
  },
  {
   "cell_type": "code",
   "execution_count": null,
   "metadata": {
    "pycharm": {
     "name": "#%%\n"
    }
   },
   "outputs": [],
   "source": [
    "view = view[view.FILE != \"None\"]"
   ]
  },
  {
   "cell_type": "code",
   "execution_count": null,
   "metadata": {
    "pycharm": {
     "name": "#%%\n"
    }
   },
   "outputs": [],
   "source": [
    "aggbook.sheets[\"Varianten\"][\"A1\"].value     = view"
   ]
  },
  {
   "cell_type": "code",
   "execution_count": null,
   "metadata": {
    "pycharm": {
     "name": "#%%\n"
    }
   },
   "outputs": [],
   "source": [
    "import seaborn as sns\n",
    "\n",
    "alfa = view[view[\"Variantenname\"].str.contains(\"Alpha\")]\n",
    "alfa[\"PEExport\"]"
   ]
  },
  {
   "cell_type": "code",
   "execution_count": null,
   "metadata": {
    "pycharm": {
     "name": "#%%\n"
    }
   },
   "outputs": [],
   "source": [
    "sns.scatterplot(data=alfa,\n",
    "            x=\"PEBedarf\",\n",
    "            y=\"PEExport\",\n",
    "            hue=\"Projekt\")"
   ]
  },
  {
   "cell_type": "code",
   "execution_count": null,
   "metadata": {
    "pycharm": {
     "name": "#%%\n"
    }
   },
   "outputs": [],
   "source": [
    "from utils.targets import target\n",
    "var = alfa.iloc[0]\n",
    "# var\n",
    "peb = var[\"PEBedarf\"]\n",
    "pee = var[\"PEExport\"]\n",
    "peb, pee"
   ]
  },
  {
   "cell_type": "code",
   "execution_count": null,
   "metadata": {
    "pycharm": {
     "name": "#%%\n"
    }
   },
   "outputs": [],
   "source": [
    "var"
   ]
  },
  {
   "cell_type": "code",
   "execution_count": null,
   "metadata": {
    "pycharm": {
     "name": "#%%\n"
    }
   },
   "outputs": [],
   "source": [
    "from utils.targets import Zielwert\n",
    "za = Zielwert.ZQSynergy().alpha(var[\"GFZ\"])\n",
    "\n",
    "za"
   ]
  }
 ],
 "metadata": {
  "kernelspec": {
   "display_name": "Python 3 (ipykernel)",
   "language": "python",
   "name": "python3"
  },
  "language_info": {
   "codemirror_mode": {
    "name": "ipython",
    "version": 3
   },
   "file_extension": ".py",
   "mimetype": "text/x-python",
   "name": "python",
   "nbconvert_exporter": "python",
   "pygments_lexer": "ipython3",
   "version": "3.9.12"
  }
 },
 "nbformat": 4,
 "nbformat_minor": 1
}
